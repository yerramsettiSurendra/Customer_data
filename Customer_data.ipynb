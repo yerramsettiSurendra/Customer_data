{
 "cells": [
  {
   "cell_type": "code",
   "execution_count": 1,
   "metadata": {},
   "outputs": [],
   "source": [
    "#Import required libraries\n",
    "import json\n",
    "import pandas as pd\n",
    "from pandas.io.json import json_normalize\n",
    "import os\n",
    "import seaborn as sns\n",
    "sns.set_style('whitegrid')\n",
    "import matplotlib.pyplot as plt\n",
    "import numpy as np\n",
    "from sklearn.preprocessing import LabelEncoder\n",
    "from sklearn.model_selection import train_test_split\n",
    "from sklearn.pipeline import Pipeline\n",
    "from sklearn.ensemble import RandomForestClassifier\n",
    "from sklearn.ensemble import GradientBoostingClassifier\n",
    "from sklearn.model_selection import GridSearchCV\n",
    "from sklearn.metrics import classification_report\n",
    "from sklearn.feature_selection import SelectFromModel"
   ]
  },
  {
   "cell_type": "code",
   "execution_count": 2,
   "metadata": {},
   "outputs": [],
   "source": [
    "os.chdir(r'Downloads')#Path to file directory"
   ]
  },
  {
   "cell_type": "code",
   "execution_count": 3,
   "metadata": {},
   "outputs": [],
   "source": [
    "data = []\n",
    "with open('customersdata.json') as f:\n",
    "    for line in f:\n",
    "        data.append(json.loads(line))"
   ]
  },
  {
   "cell_type": "code",
   "execution_count": 4,
   "metadata": {
    "scrolled": true
   },
   "outputs": [
    {
     "data": {
      "text/html": [
       "<div>\n",
       "<style scoped>\n",
       "    .dataframe tbody tr th:only-of-type {\n",
       "        vertical-align: middle;\n",
       "    }\n",
       "\n",
       "    .dataframe tbody tr th {\n",
       "        vertical-align: top;\n",
       "    }\n",
       "\n",
       "    .dataframe thead th {\n",
       "        text-align: right;\n",
       "    }\n",
       "</style>\n",
       "<table border=\"1\" class=\"dataframe\">\n",
       "  <thead>\n",
       "    <tr style=\"text-align: right;\">\n",
       "      <th></th>\n",
       "      <th>customer.customerBillingAddress</th>\n",
       "      <th>customer.customerDevice</th>\n",
       "      <th>customer.customerEmail</th>\n",
       "      <th>customer.customerIPAddress</th>\n",
       "      <th>customer.customerPhone</th>\n",
       "      <th>fraudulent</th>\n",
       "      <th>orders</th>\n",
       "      <th>paymentMethods</th>\n",
       "      <th>transactions</th>\n",
       "    </tr>\n",
       "  </thead>\n",
       "  <tbody>\n",
       "    <tr>\n",
       "      <th>0</th>\n",
       "      <td>5493 Jones Islands\\nBrownside, CA 51896</td>\n",
       "      <td>yyeiaxpltf82440jnb3v</td>\n",
       "      <td>josephhoward@yahoo.com</td>\n",
       "      <td>8.129.104.40</td>\n",
       "      <td>400-108-5415</td>\n",
       "      <td>False</td>\n",
       "      <td>[{'orderId': 'vjbdvd', 'orderAmount': 18, 'ord...</td>\n",
       "      <td>[{'paymentMethodId': 'wt07xm68b', 'paymentMeth...</td>\n",
       "      <td>[{'transactionId': 'a9lcj51r', 'orderId': 'vjb...</td>\n",
       "    </tr>\n",
       "    <tr>\n",
       "      <th>1</th>\n",
       "      <td>356 Elizabeth Inlet Suite 120\\nPort Joshuabury...</td>\n",
       "      <td>r0jpm7xaeqqa3kr6mzum</td>\n",
       "      <td>evansjeffery@yahoo.com</td>\n",
       "      <td>219.173.211.202</td>\n",
       "      <td>1-788-091-7546</td>\n",
       "      <td>True</td>\n",
       "      <td>[{'orderId': 'nlghpa', 'orderAmount': 45, 'ord...</td>\n",
       "      <td>[{'paymentMethodId': 'y3xp697jx', 'paymentMeth...</td>\n",
       "      <td>[{'transactionId': '5mi94sfw', 'orderId': 'nlg...</td>\n",
       "    </tr>\n",
       "    <tr>\n",
       "      <th>2</th>\n",
       "      <td>8478 Sean Ridges Apt. 441\\nDavisberg, PR 72250</td>\n",
       "      <td>4m7h5ipl1shyavt6vv2r</td>\n",
       "      <td>andersonwilliam@yahoo.com</td>\n",
       "      <td>67b7:3db8:67e0:3bea:b9d0:90c1:2b60:b9f0</td>\n",
       "      <td>024.420.0375</td>\n",
       "      <td>False</td>\n",
       "      <td>[{'orderId': 'yk34y2', 'orderAmount': 33, 'ord...</td>\n",
       "      <td>[{'paymentMethodId': '8pneoi03z', 'paymentMeth...</td>\n",
       "      <td>[{'transactionId': 'q3lyvbza', 'orderId': 'yk3...</td>\n",
       "    </tr>\n",
       "  </tbody>\n",
       "</table>\n",
       "</div>"
      ],
      "text/plain": [
       "                     customer.customerBillingAddress customer.customerDevice  \\\n",
       "0            5493 Jones Islands\\nBrownside, CA 51896    yyeiaxpltf82440jnb3v   \n",
       "1  356 Elizabeth Inlet Suite 120\\nPort Joshuabury...    r0jpm7xaeqqa3kr6mzum   \n",
       "2     8478 Sean Ridges Apt. 441\\nDavisberg, PR 72250    4m7h5ipl1shyavt6vv2r   \n",
       "\n",
       "      customer.customerEmail               customer.customerIPAddress  \\\n",
       "0     josephhoward@yahoo.com                             8.129.104.40   \n",
       "1     evansjeffery@yahoo.com                          219.173.211.202   \n",
       "2  andersonwilliam@yahoo.com  67b7:3db8:67e0:3bea:b9d0:90c1:2b60:b9f0   \n",
       "\n",
       "  customer.customerPhone  fraudulent  \\\n",
       "0           400-108-5415       False   \n",
       "1         1-788-091-7546        True   \n",
       "2           024.420.0375       False   \n",
       "\n",
       "                                              orders  \\\n",
       "0  [{'orderId': 'vjbdvd', 'orderAmount': 18, 'ord...   \n",
       "1  [{'orderId': 'nlghpa', 'orderAmount': 45, 'ord...   \n",
       "2  [{'orderId': 'yk34y2', 'orderAmount': 33, 'ord...   \n",
       "\n",
       "                                      paymentMethods  \\\n",
       "0  [{'paymentMethodId': 'wt07xm68b', 'paymentMeth...   \n",
       "1  [{'paymentMethodId': 'y3xp697jx', 'paymentMeth...   \n",
       "2  [{'paymentMethodId': '8pneoi03z', 'paymentMeth...   \n",
       "\n",
       "                                        transactions  \n",
       "0  [{'transactionId': 'a9lcj51r', 'orderId': 'vjb...  \n",
       "1  [{'transactionId': '5mi94sfw', 'orderId': 'nlg...  \n",
       "2  [{'transactionId': 'q3lyvbza', 'orderId': 'yk3...  "
      ]
     },
     "execution_count": 4,
     "metadata": {},
     "output_type": "execute_result"
    }
   ],
   "source": [
    "df = json_normalize(data) #Normalizing the data\n",
    "df.head(3) "
   ]
  },
  {
   "cell_type": "markdown",
   "metadata": {},
   "source": [
    "# order table"
   ]
  },
  {
   "cell_type": "code",
   "execution_count": 5,
   "metadata": {},
   "outputs": [
    {
     "data": {
      "text/html": [
       "<div>\n",
       "<style scoped>\n",
       "    .dataframe tbody tr th:only-of-type {\n",
       "        vertical-align: middle;\n",
       "    }\n",
       "\n",
       "    .dataframe tbody tr th {\n",
       "        vertical-align: top;\n",
       "    }\n",
       "\n",
       "    .dataframe thead th {\n",
       "        text-align: right;\n",
       "    }\n",
       "</style>\n",
       "<table border=\"1\" class=\"dataframe\">\n",
       "  <thead>\n",
       "    <tr style=\"text-align: right;\">\n",
       "      <th></th>\n",
       "      <th>orderAmount</th>\n",
       "      <th>orderId</th>\n",
       "      <th>orderShippingAddress</th>\n",
       "      <th>orderState</th>\n",
       "      <th>fraudulent</th>\n",
       "    </tr>\n",
       "  </thead>\n",
       "  <tbody>\n",
       "    <tr>\n",
       "      <th>0</th>\n",
       "      <td>18</td>\n",
       "      <td>vjbdvd</td>\n",
       "      <td>5493 Jones Islands\\nBrownside, CA 51896</td>\n",
       "      <td>pending</td>\n",
       "      <td>False</td>\n",
       "    </tr>\n",
       "    <tr>\n",
       "      <th>1</th>\n",
       "      <td>26</td>\n",
       "      <td>yp6x27</td>\n",
       "      <td>5493 Jones Islands\\nBrownside, CA 51896</td>\n",
       "      <td>fulfilled</td>\n",
       "      <td>False</td>\n",
       "    </tr>\n",
       "    <tr>\n",
       "      <th>2</th>\n",
       "      <td>45</td>\n",
       "      <td>nlghpa</td>\n",
       "      <td>898 Henry Ports\\nNew Keithview, CA 95893-2497</td>\n",
       "      <td>fulfilled</td>\n",
       "      <td>True</td>\n",
       "    </tr>\n",
       "    <tr>\n",
       "      <th>3</th>\n",
       "      <td>23</td>\n",
       "      <td>uw0eeb</td>\n",
       "      <td>356 Elizabeth Inlet Suite 120\\nPort Joshuabury...</td>\n",
       "      <td>fulfilled</td>\n",
       "      <td>True</td>\n",
       "    </tr>\n",
       "    <tr>\n",
       "      <th>4</th>\n",
       "      <td>43</td>\n",
       "      <td>bn44oh</td>\n",
       "      <td>5093 Bryan Forks\\nJoshuaton, FM 01565-9801</td>\n",
       "      <td>fulfilled</td>\n",
       "      <td>True</td>\n",
       "    </tr>\n",
       "    <tr>\n",
       "      <th>5</th>\n",
       "      <td>33</td>\n",
       "      <td>yk34y2</td>\n",
       "      <td>8478 Sean Ridges Apt. 441\\nDavisberg, PR 72250</td>\n",
       "      <td>failed</td>\n",
       "      <td>False</td>\n",
       "    </tr>\n",
       "    <tr>\n",
       "      <th>6</th>\n",
       "      <td>24</td>\n",
       "      <td>28v6b0</td>\n",
       "      <td>8478 Sean Ridges Apt. 441\\nDavisberg, PR 72250</td>\n",
       "      <td>fulfilled</td>\n",
       "      <td>False</td>\n",
       "    </tr>\n",
       "    <tr>\n",
       "      <th>7</th>\n",
       "      <td>25</td>\n",
       "      <td>itnk8y</td>\n",
       "      <td>22396 Victor Lights\\nCarsonstad, MO 93914</td>\n",
       "      <td>fulfilled</td>\n",
       "      <td>False</td>\n",
       "    </tr>\n",
       "    <tr>\n",
       "      <th>8</th>\n",
       "      <td>34</td>\n",
       "      <td>fbz9ep</td>\n",
       "      <td>7769 Elizabeth Bridge Apt. 343\\nNortonstad, FM...</td>\n",
       "      <td>fulfilled</td>\n",
       "      <td>False</td>\n",
       "    </tr>\n",
       "    <tr>\n",
       "      <th>9</th>\n",
       "      <td>26</td>\n",
       "      <td>7odnn6</td>\n",
       "      <td>7769 Elizabeth Bridge Apt. 343\\nNortonstad, FM...</td>\n",
       "      <td>fulfilled</td>\n",
       "      <td>False</td>\n",
       "    </tr>\n",
       "  </tbody>\n",
       "</table>\n",
       "</div>"
      ],
      "text/plain": [
       "   orderAmount orderId                               orderShippingAddress  \\\n",
       "0           18  vjbdvd            5493 Jones Islands\\nBrownside, CA 51896   \n",
       "1           26  yp6x27            5493 Jones Islands\\nBrownside, CA 51896   \n",
       "2           45  nlghpa      898 Henry Ports\\nNew Keithview, CA 95893-2497   \n",
       "3           23  uw0eeb  356 Elizabeth Inlet Suite 120\\nPort Joshuabury...   \n",
       "4           43  bn44oh         5093 Bryan Forks\\nJoshuaton, FM 01565-9801   \n",
       "5           33  yk34y2     8478 Sean Ridges Apt. 441\\nDavisberg, PR 72250   \n",
       "6           24  28v6b0     8478 Sean Ridges Apt. 441\\nDavisberg, PR 72250   \n",
       "7           25  itnk8y          22396 Victor Lights\\nCarsonstad, MO 93914   \n",
       "8           34  fbz9ep  7769 Elizabeth Bridge Apt. 343\\nNortonstad, FM...   \n",
       "9           26  7odnn6  7769 Elizabeth Bridge Apt. 343\\nNortonstad, FM...   \n",
       "\n",
       "  orderState  fraudulent  \n",
       "0    pending       False  \n",
       "1  fulfilled       False  \n",
       "2  fulfilled        True  \n",
       "3  fulfilled        True  \n",
       "4  fulfilled        True  \n",
       "5     failed       False  \n",
       "6  fulfilled       False  \n",
       "7  fulfilled       False  \n",
       "8  fulfilled       False  \n",
       "9  fulfilled       False  "
      ]
     },
     "execution_count": 5,
     "metadata": {},
     "output_type": "execute_result"
    }
   ],
   "source": [
    "orders_data=json_normalize(data,'orders',['fraudulent'],errors='ignore')\n",
    "orders_data.head(10)"
   ]
  },
  {
   "cell_type": "markdown",
   "metadata": {},
   "source": [
    "# paymentMethod Table"
   ]
  },
  {
   "cell_type": "code",
   "execution_count": 6,
   "metadata": {},
   "outputs": [],
   "source": [
    "paymentMethods_data=json_normalize(data,'paymentMethods',['fraudulent'])"
   ]
  },
  {
   "cell_type": "code",
   "execution_count": 7,
   "metadata": {},
   "outputs": [
    {
     "data": {
      "text/html": [
       "<div>\n",
       "<style scoped>\n",
       "    .dataframe tbody tr th:only-of-type {\n",
       "        vertical-align: middle;\n",
       "    }\n",
       "\n",
       "    .dataframe tbody tr th {\n",
       "        vertical-align: top;\n",
       "    }\n",
       "\n",
       "    .dataframe thead th {\n",
       "        text-align: right;\n",
       "    }\n",
       "</style>\n",
       "<table border=\"1\" class=\"dataframe\">\n",
       "  <thead>\n",
       "    <tr style=\"text-align: right;\">\n",
       "      <th></th>\n",
       "      <th>paymentMethodId</th>\n",
       "      <th>paymentMethodIssuer</th>\n",
       "      <th>paymentMethodProvider</th>\n",
       "      <th>paymentMethodRegistrationFailure</th>\n",
       "      <th>paymentMethodType</th>\n",
       "      <th>fraudulent</th>\n",
       "    </tr>\n",
       "  </thead>\n",
       "  <tbody>\n",
       "    <tr>\n",
       "      <th>0</th>\n",
       "      <td>wt07xm68b</td>\n",
       "      <td>Citizens First Banks</td>\n",
       "      <td>JCB 16 digit</td>\n",
       "      <td>True</td>\n",
       "      <td>card</td>\n",
       "      <td>False</td>\n",
       "    </tr>\n",
       "    <tr>\n",
       "      <th>1</th>\n",
       "      <td>y3xp697jx</td>\n",
       "      <td>Solace Banks</td>\n",
       "      <td>VISA 16 digit</td>\n",
       "      <td>True</td>\n",
       "      <td>bitcoin</td>\n",
       "      <td>True</td>\n",
       "    </tr>\n",
       "    <tr>\n",
       "      <th>2</th>\n",
       "      <td>6krszxc05</td>\n",
       "      <td>Vertex Bancorp</td>\n",
       "      <td>VISA 16 digit</td>\n",
       "      <td>False</td>\n",
       "      <td>card</td>\n",
       "      <td>True</td>\n",
       "    </tr>\n",
       "    <tr>\n",
       "      <th>3</th>\n",
       "      <td>5z1szj2he</td>\n",
       "      <td>His Majesty Bank Corp.</td>\n",
       "      <td>Diners Club / Carte Blanche</td>\n",
       "      <td>False</td>\n",
       "      <td>card</td>\n",
       "      <td>True</td>\n",
       "    </tr>\n",
       "    <tr>\n",
       "      <th>4</th>\n",
       "      <td>m52tx8e1s</td>\n",
       "      <td>Vertex Bancorp</td>\n",
       "      <td>Mastercard</td>\n",
       "      <td>False</td>\n",
       "      <td>card</td>\n",
       "      <td>True</td>\n",
       "    </tr>\n",
       "  </tbody>\n",
       "</table>\n",
       "</div>"
      ],
      "text/plain": [
       "  paymentMethodId     paymentMethodIssuer        paymentMethodProvider  \\\n",
       "0       wt07xm68b    Citizens First Banks                 JCB 16 digit   \n",
       "1       y3xp697jx            Solace Banks                VISA 16 digit   \n",
       "2       6krszxc05          Vertex Bancorp                VISA 16 digit   \n",
       "3       5z1szj2he  His Majesty Bank Corp.  Diners Club / Carte Blanche   \n",
       "4       m52tx8e1s          Vertex Bancorp                   Mastercard   \n",
       "\n",
       "   paymentMethodRegistrationFailure paymentMethodType  fraudulent  \n",
       "0                              True              card       False  \n",
       "1                              True           bitcoin        True  \n",
       "2                             False              card        True  \n",
       "3                             False              card        True  \n",
       "4                             False              card        True  "
      ]
     },
     "execution_count": 7,
     "metadata": {},
     "output_type": "execute_result"
    }
   ],
   "source": [
    "paymentMethods_data.head()"
   ]
  },
  {
   "cell_type": "code",
   "execution_count": 8,
   "metadata": {},
   "outputs": [],
   "source": [
    "transactions_data=json_normalize(data,'transactions',['fraudulent','customer'])"
   ]
  },
  {
   "cell_type": "code",
   "execution_count": 9,
   "metadata": {},
   "outputs": [
    {
     "data": {
      "text/html": [
       "<div>\n",
       "<style scoped>\n",
       "    .dataframe tbody tr th:only-of-type {\n",
       "        vertical-align: middle;\n",
       "    }\n",
       "\n",
       "    .dataframe tbody tr th {\n",
       "        vertical-align: top;\n",
       "    }\n",
       "\n",
       "    .dataframe thead th {\n",
       "        text-align: right;\n",
       "    }\n",
       "</style>\n",
       "<table border=\"1\" class=\"dataframe\">\n",
       "  <thead>\n",
       "    <tr style=\"text-align: right;\">\n",
       "      <th></th>\n",
       "      <th>orderId</th>\n",
       "      <th>paymentMethodId</th>\n",
       "      <th>transactionAmount</th>\n",
       "      <th>transactionFailed</th>\n",
       "      <th>transactionId</th>\n",
       "      <th>fraudulent</th>\n",
       "      <th>customer</th>\n",
       "    </tr>\n",
       "  </thead>\n",
       "  <tbody>\n",
       "    <tr>\n",
       "      <th>0</th>\n",
       "      <td>vjbdvd</td>\n",
       "      <td>wt07xm68b</td>\n",
       "      <td>18</td>\n",
       "      <td>False</td>\n",
       "      <td>a9lcj51r</td>\n",
       "      <td>False</td>\n",
       "      <td>{'customerEmail': 'josephhoward@yahoo.com', 'c...</td>\n",
       "    </tr>\n",
       "    <tr>\n",
       "      <th>1</th>\n",
       "      <td>yp6x27</td>\n",
       "      <td>wt07xm68b</td>\n",
       "      <td>26</td>\n",
       "      <td>False</td>\n",
       "      <td>y4wcv03i</td>\n",
       "      <td>False</td>\n",
       "      <td>{'customerEmail': 'josephhoward@yahoo.com', 'c...</td>\n",
       "    </tr>\n",
       "    <tr>\n",
       "      <th>2</th>\n",
       "      <td>nlghpa</td>\n",
       "      <td>41ug157xz</td>\n",
       "      <td>45</td>\n",
       "      <td>False</td>\n",
       "      <td>5mi94sfw</td>\n",
       "      <td>True</td>\n",
       "      <td>{'customerEmail': 'evansjeffery@yahoo.com', 'c...</td>\n",
       "    </tr>\n",
       "    <tr>\n",
       "      <th>3</th>\n",
       "      <td>uw0eeb</td>\n",
       "      <td>41ug157xz</td>\n",
       "      <td>23</td>\n",
       "      <td>False</td>\n",
       "      <td>br8ba1nu</td>\n",
       "      <td>True</td>\n",
       "      <td>{'customerEmail': 'evansjeffery@yahoo.com', 'c...</td>\n",
       "    </tr>\n",
       "    <tr>\n",
       "      <th>4</th>\n",
       "      <td>bn44oh</td>\n",
       "      <td>y3xp697jx</td>\n",
       "      <td>43</td>\n",
       "      <td>True</td>\n",
       "      <td>a33145ss</td>\n",
       "      <td>True</td>\n",
       "      <td>{'customerEmail': 'evansjeffery@yahoo.com', 'c...</td>\n",
       "    </tr>\n",
       "    <tr>\n",
       "      <th>5</th>\n",
       "      <td>yk34y2</td>\n",
       "      <td>8pneoi03z</td>\n",
       "      <td>33</td>\n",
       "      <td>False</td>\n",
       "      <td>q3lyvbza</td>\n",
       "      <td>False</td>\n",
       "      <td>{'customerEmail': 'andersonwilliam@yahoo.com',...</td>\n",
       "    </tr>\n",
       "    <tr>\n",
       "      <th>6</th>\n",
       "      <td>28v6b0</td>\n",
       "      <td>8pneoi03z</td>\n",
       "      <td>24</td>\n",
       "      <td>True</td>\n",
       "      <td>3alf9irw</td>\n",
       "      <td>False</td>\n",
       "      <td>{'customerEmail': 'andersonwilliam@yahoo.com',...</td>\n",
       "    </tr>\n",
       "    <tr>\n",
       "      <th>7</th>\n",
       "      <td>28v6b0</td>\n",
       "      <td>8pneoi03z</td>\n",
       "      <td>24</td>\n",
       "      <td>False</td>\n",
       "      <td>69w9wymx</td>\n",
       "      <td>False</td>\n",
       "      <td>{'customerEmail': 'andersonwilliam@yahoo.com',...</td>\n",
       "    </tr>\n",
       "    <tr>\n",
       "      <th>8</th>\n",
       "      <td>itnk8y</td>\n",
       "      <td>dluy3jka0</td>\n",
       "      <td>25</td>\n",
       "      <td>True</td>\n",
       "      <td>pegqc4ud</td>\n",
       "      <td>False</td>\n",
       "      <td>{'customerEmail': 'andersonwilliam@yahoo.com',...</td>\n",
       "    </tr>\n",
       "    <tr>\n",
       "      <th>9</th>\n",
       "      <td>itnk8y</td>\n",
       "      <td>8pneoi03z</td>\n",
       "      <td>25</td>\n",
       "      <td>False</td>\n",
       "      <td>uo3slwh7</td>\n",
       "      <td>False</td>\n",
       "      <td>{'customerEmail': 'andersonwilliam@yahoo.com',...</td>\n",
       "    </tr>\n",
       "  </tbody>\n",
       "</table>\n",
       "</div>"
      ],
      "text/plain": [
       "  orderId paymentMethodId  transactionAmount  transactionFailed transactionId  \\\n",
       "0  vjbdvd       wt07xm68b                 18              False      a9lcj51r   \n",
       "1  yp6x27       wt07xm68b                 26              False      y4wcv03i   \n",
       "2  nlghpa       41ug157xz                 45              False      5mi94sfw   \n",
       "3  uw0eeb       41ug157xz                 23              False      br8ba1nu   \n",
       "4  bn44oh       y3xp697jx                 43               True      a33145ss   \n",
       "5  yk34y2       8pneoi03z                 33              False      q3lyvbza   \n",
       "6  28v6b0       8pneoi03z                 24               True      3alf9irw   \n",
       "7  28v6b0       8pneoi03z                 24              False      69w9wymx   \n",
       "8  itnk8y       dluy3jka0                 25               True      pegqc4ud   \n",
       "9  itnk8y       8pneoi03z                 25              False      uo3slwh7   \n",
       "\n",
       "   fraudulent                                           customer  \n",
       "0       False  {'customerEmail': 'josephhoward@yahoo.com', 'c...  \n",
       "1       False  {'customerEmail': 'josephhoward@yahoo.com', 'c...  \n",
       "2        True  {'customerEmail': 'evansjeffery@yahoo.com', 'c...  \n",
       "3        True  {'customerEmail': 'evansjeffery@yahoo.com', 'c...  \n",
       "4        True  {'customerEmail': 'evansjeffery@yahoo.com', 'c...  \n",
       "5       False  {'customerEmail': 'andersonwilliam@yahoo.com',...  \n",
       "6       False  {'customerEmail': 'andersonwilliam@yahoo.com',...  \n",
       "7       False  {'customerEmail': 'andersonwilliam@yahoo.com',...  \n",
       "8       False  {'customerEmail': 'andersonwilliam@yahoo.com',...  \n",
       "9       False  {'customerEmail': 'andersonwilliam@yahoo.com',...  "
      ]
     },
     "execution_count": 9,
     "metadata": {},
     "output_type": "execute_result"
    }
   ],
   "source": [
    "transactions_data.head(10)"
   ]
  },
  {
   "cell_type": "code",
   "execution_count": 10,
   "metadata": {},
   "outputs": [],
   "source": [
    "s=json_normalize(transactions_data['customer'])"
   ]
  },
  {
   "cell_type": "code",
   "execution_count": 11,
   "metadata": {},
   "outputs": [
    {
     "data": {
      "text/plain": [
       "pandas.core.frame.DataFrame"
      ]
     },
     "execution_count": 11,
     "metadata": {},
     "output_type": "execute_result"
    }
   ],
   "source": [
    "type(s)"
   ]
  },
  {
   "cell_type": "code",
   "execution_count": 12,
   "metadata": {},
   "outputs": [],
   "source": [
    "f=pd.merge(transactions_data,paymentMethods_data,on='paymentMethodId')#merging transaction table and paymentMethods table as f"
   ]
  },
  {
   "cell_type": "code",
   "execution_count": 13,
   "metadata": {},
   "outputs": [
    {
     "data": {
      "text/html": [
       "<div>\n",
       "<style scoped>\n",
       "    .dataframe tbody tr th:only-of-type {\n",
       "        vertical-align: middle;\n",
       "    }\n",
       "\n",
       "    .dataframe tbody tr th {\n",
       "        vertical-align: top;\n",
       "    }\n",
       "\n",
       "    .dataframe thead th {\n",
       "        text-align: right;\n",
       "    }\n",
       "</style>\n",
       "<table border=\"1\" class=\"dataframe\">\n",
       "  <thead>\n",
       "    <tr style=\"text-align: right;\">\n",
       "      <th></th>\n",
       "      <th>orderId</th>\n",
       "      <th>paymentMethodId</th>\n",
       "      <th>transactionAmount</th>\n",
       "      <th>transactionFailed</th>\n",
       "      <th>transactionId</th>\n",
       "      <th>fraudulent_x</th>\n",
       "      <th>customer</th>\n",
       "      <th>paymentMethodIssuer</th>\n",
       "      <th>paymentMethodProvider</th>\n",
       "      <th>paymentMethodRegistrationFailure</th>\n",
       "      <th>paymentMethodType</th>\n",
       "      <th>fraudulent_y</th>\n",
       "    </tr>\n",
       "  </thead>\n",
       "  <tbody>\n",
       "    <tr>\n",
       "      <th>620</th>\n",
       "      <td>1bubxa</td>\n",
       "      <td>7yen1m1q8</td>\n",
       "      <td>25</td>\n",
       "      <td>True</td>\n",
       "      <td>7yilsi1o</td>\n",
       "      <td>False</td>\n",
       "      <td>{'customerEmail': 'dawn05@tucker-brown.com', '...</td>\n",
       "      <td>Vertex Bancorp</td>\n",
       "      <td>VISA 13 digit</td>\n",
       "      <td>False</td>\n",
       "      <td>card</td>\n",
       "      <td>False</td>\n",
       "    </tr>\n",
       "    <tr>\n",
       "      <th>621</th>\n",
       "      <td>1bubxa</td>\n",
       "      <td>7yen1m1q8</td>\n",
       "      <td>25</td>\n",
       "      <td>False</td>\n",
       "      <td>c82k5bcv</td>\n",
       "      <td>False</td>\n",
       "      <td>{'customerEmail': 'dawn05@tucker-brown.com', '...</td>\n",
       "      <td>Vertex Bancorp</td>\n",
       "      <td>VISA 13 digit</td>\n",
       "      <td>False</td>\n",
       "      <td>card</td>\n",
       "      <td>False</td>\n",
       "    </tr>\n",
       "    <tr>\n",
       "      <th>622</th>\n",
       "      <td>5lmvrj</td>\n",
       "      <td>f0xnu5om9</td>\n",
       "      <td>27</td>\n",
       "      <td>False</td>\n",
       "      <td>wgmajf82</td>\n",
       "      <td>False</td>\n",
       "      <td>{'customerEmail': 'dawn05@tucker-brown.com', '...</td>\n",
       "      <td>His Majesty Bank Corp.</td>\n",
       "      <td>JCB 16 digit</td>\n",
       "      <td>False</td>\n",
       "      <td>card</td>\n",
       "      <td>False</td>\n",
       "    </tr>\n",
       "  </tbody>\n",
       "</table>\n",
       "</div>"
      ],
      "text/plain": [
       "    orderId paymentMethodId  transactionAmount  transactionFailed  \\\n",
       "620  1bubxa       7yen1m1q8                 25               True   \n",
       "621  1bubxa       7yen1m1q8                 25              False   \n",
       "622  5lmvrj       f0xnu5om9                 27              False   \n",
       "\n",
       "    transactionId  fraudulent_x  \\\n",
       "620      7yilsi1o         False   \n",
       "621      c82k5bcv         False   \n",
       "622      wgmajf82         False   \n",
       "\n",
       "                                              customer  \\\n",
       "620  {'customerEmail': 'dawn05@tucker-brown.com', '...   \n",
       "621  {'customerEmail': 'dawn05@tucker-brown.com', '...   \n",
       "622  {'customerEmail': 'dawn05@tucker-brown.com', '...   \n",
       "\n",
       "        paymentMethodIssuer paymentMethodProvider  \\\n",
       "620          Vertex Bancorp         VISA 13 digit   \n",
       "621          Vertex Bancorp         VISA 13 digit   \n",
       "622  His Majesty Bank Corp.          JCB 16 digit   \n",
       "\n",
       "     paymentMethodRegistrationFailure paymentMethodType  fraudulent_y  \n",
       "620                             False              card         False  \n",
       "621                             False              card         False  \n",
       "622                             False              card         False  "
      ]
     },
     "execution_count": 13,
     "metadata": {},
     "output_type": "execute_result"
    }
   ],
   "source": [
    "f.tail(3)"
   ]
  },
  {
   "cell_type": "code",
   "execution_count": 14,
   "metadata": {},
   "outputs": [
    {
     "data": {
      "text/plain": [
       "(623, 12)"
      ]
     },
     "execution_count": 14,
     "metadata": {},
     "output_type": "execute_result"
    }
   ],
   "source": [
    "f.shape"
   ]
  },
  {
   "cell_type": "code",
   "execution_count": 15,
   "metadata": {},
   "outputs": [],
   "source": [
    "h=pd.merge(f,orders_data,on='orderId')#merging Orders_data and f=[transaction_data+payments_data]"
   ]
  },
  {
   "cell_type": "code",
   "execution_count": 16,
   "metadata": {},
   "outputs": [
    {
     "data": {
      "text/plain": [
       "(623, 16)"
      ]
     },
     "execution_count": 16,
     "metadata": {},
     "output_type": "execute_result"
    }
   ],
   "source": [
    "h.shape"
   ]
  },
  {
   "cell_type": "code",
   "execution_count": 17,
   "metadata": {},
   "outputs": [
    {
     "data": {
      "text/html": [
       "<div>\n",
       "<style scoped>\n",
       "    .dataframe tbody tr th:only-of-type {\n",
       "        vertical-align: middle;\n",
       "    }\n",
       "\n",
       "    .dataframe tbody tr th {\n",
       "        vertical-align: top;\n",
       "    }\n",
       "\n",
       "    .dataframe thead th {\n",
       "        text-align: right;\n",
       "    }\n",
       "</style>\n",
       "<table border=\"1\" class=\"dataframe\">\n",
       "  <thead>\n",
       "    <tr style=\"text-align: right;\">\n",
       "      <th></th>\n",
       "      <th>orderId</th>\n",
       "      <th>paymentMethodId</th>\n",
       "      <th>transactionAmount</th>\n",
       "      <th>transactionFailed</th>\n",
       "      <th>transactionId</th>\n",
       "      <th>fraudulent_x</th>\n",
       "      <th>customer</th>\n",
       "      <th>paymentMethodIssuer</th>\n",
       "      <th>paymentMethodProvider</th>\n",
       "      <th>paymentMethodRegistrationFailure</th>\n",
       "      <th>paymentMethodType</th>\n",
       "      <th>fraudulent_y</th>\n",
       "      <th>orderAmount</th>\n",
       "      <th>orderShippingAddress</th>\n",
       "      <th>orderState</th>\n",
       "      <th>fraudulent</th>\n",
       "    </tr>\n",
       "  </thead>\n",
       "  <tbody>\n",
       "    <tr>\n",
       "      <th>0</th>\n",
       "      <td>vjbdvd</td>\n",
       "      <td>wt07xm68b</td>\n",
       "      <td>18</td>\n",
       "      <td>False</td>\n",
       "      <td>a9lcj51r</td>\n",
       "      <td>False</td>\n",
       "      <td>{'customerEmail': 'josephhoward@yahoo.com', 'c...</td>\n",
       "      <td>Citizens First Banks</td>\n",
       "      <td>JCB 16 digit</td>\n",
       "      <td>True</td>\n",
       "      <td>card</td>\n",
       "      <td>False</td>\n",
       "      <td>18</td>\n",
       "      <td>5493 Jones Islands\\nBrownside, CA 51896</td>\n",
       "      <td>pending</td>\n",
       "      <td>False</td>\n",
       "    </tr>\n",
       "    <tr>\n",
       "      <th>1</th>\n",
       "      <td>yp6x27</td>\n",
       "      <td>wt07xm68b</td>\n",
       "      <td>26</td>\n",
       "      <td>False</td>\n",
       "      <td>y4wcv03i</td>\n",
       "      <td>False</td>\n",
       "      <td>{'customerEmail': 'josephhoward@yahoo.com', 'c...</td>\n",
       "      <td>Citizens First Banks</td>\n",
       "      <td>JCB 16 digit</td>\n",
       "      <td>True</td>\n",
       "      <td>card</td>\n",
       "      <td>False</td>\n",
       "      <td>26</td>\n",
       "      <td>5493 Jones Islands\\nBrownside, CA 51896</td>\n",
       "      <td>fulfilled</td>\n",
       "      <td>False</td>\n",
       "    </tr>\n",
       "    <tr>\n",
       "      <th>2</th>\n",
       "      <td>nlghpa</td>\n",
       "      <td>41ug157xz</td>\n",
       "      <td>45</td>\n",
       "      <td>False</td>\n",
       "      <td>5mi94sfw</td>\n",
       "      <td>True</td>\n",
       "      <td>{'customerEmail': 'evansjeffery@yahoo.com', 'c...</td>\n",
       "      <td>Bastion Banks</td>\n",
       "      <td>American Express</td>\n",
       "      <td>False</td>\n",
       "      <td>bitcoin</td>\n",
       "      <td>True</td>\n",
       "      <td>45</td>\n",
       "      <td>898 Henry Ports\\nNew Keithview, CA 95893-2497</td>\n",
       "      <td>fulfilled</td>\n",
       "      <td>True</td>\n",
       "    </tr>\n",
       "    <tr>\n",
       "      <th>3</th>\n",
       "      <td>uw0eeb</td>\n",
       "      <td>41ug157xz</td>\n",
       "      <td>23</td>\n",
       "      <td>False</td>\n",
       "      <td>br8ba1nu</td>\n",
       "      <td>True</td>\n",
       "      <td>{'customerEmail': 'evansjeffery@yahoo.com', 'c...</td>\n",
       "      <td>Bastion Banks</td>\n",
       "      <td>American Express</td>\n",
       "      <td>False</td>\n",
       "      <td>bitcoin</td>\n",
       "      <td>True</td>\n",
       "      <td>23</td>\n",
       "      <td>356 Elizabeth Inlet Suite 120\\nPort Joshuabury...</td>\n",
       "      <td>fulfilled</td>\n",
       "      <td>True</td>\n",
       "    </tr>\n",
       "    <tr>\n",
       "      <th>4</th>\n",
       "      <td>bn44oh</td>\n",
       "      <td>y3xp697jx</td>\n",
       "      <td>43</td>\n",
       "      <td>True</td>\n",
       "      <td>a33145ss</td>\n",
       "      <td>True</td>\n",
       "      <td>{'customerEmail': 'evansjeffery@yahoo.com', 'c...</td>\n",
       "      <td>Solace Banks</td>\n",
       "      <td>VISA 16 digit</td>\n",
       "      <td>True</td>\n",
       "      <td>bitcoin</td>\n",
       "      <td>True</td>\n",
       "      <td>43</td>\n",
       "      <td>5093 Bryan Forks\\nJoshuaton, FM 01565-9801</td>\n",
       "      <td>fulfilled</td>\n",
       "      <td>True</td>\n",
       "    </tr>\n",
       "  </tbody>\n",
       "</table>\n",
       "</div>"
      ],
      "text/plain": [
       "  orderId paymentMethodId  transactionAmount  transactionFailed transactionId  \\\n",
       "0  vjbdvd       wt07xm68b                 18              False      a9lcj51r   \n",
       "1  yp6x27       wt07xm68b                 26              False      y4wcv03i   \n",
       "2  nlghpa       41ug157xz                 45              False      5mi94sfw   \n",
       "3  uw0eeb       41ug157xz                 23              False      br8ba1nu   \n",
       "4  bn44oh       y3xp697jx                 43               True      a33145ss   \n",
       "\n",
       "   fraudulent_x                                           customer  \\\n",
       "0         False  {'customerEmail': 'josephhoward@yahoo.com', 'c...   \n",
       "1         False  {'customerEmail': 'josephhoward@yahoo.com', 'c...   \n",
       "2          True  {'customerEmail': 'evansjeffery@yahoo.com', 'c...   \n",
       "3          True  {'customerEmail': 'evansjeffery@yahoo.com', 'c...   \n",
       "4          True  {'customerEmail': 'evansjeffery@yahoo.com', 'c...   \n",
       "\n",
       "    paymentMethodIssuer paymentMethodProvider  \\\n",
       "0  Citizens First Banks          JCB 16 digit   \n",
       "1  Citizens First Banks          JCB 16 digit   \n",
       "2         Bastion Banks      American Express   \n",
       "3         Bastion Banks      American Express   \n",
       "4          Solace Banks         VISA 16 digit   \n",
       "\n",
       "   paymentMethodRegistrationFailure paymentMethodType  fraudulent_y  \\\n",
       "0                              True              card         False   \n",
       "1                              True              card         False   \n",
       "2                             False           bitcoin          True   \n",
       "3                             False           bitcoin          True   \n",
       "4                              True           bitcoin          True   \n",
       "\n",
       "   orderAmount                               orderShippingAddress orderState  \\\n",
       "0           18            5493 Jones Islands\\nBrownside, CA 51896    pending   \n",
       "1           26            5493 Jones Islands\\nBrownside, CA 51896  fulfilled   \n",
       "2           45      898 Henry Ports\\nNew Keithview, CA 95893-2497  fulfilled   \n",
       "3           23  356 Elizabeth Inlet Suite 120\\nPort Joshuabury...  fulfilled   \n",
       "4           43         5093 Bryan Forks\\nJoshuaton, FM 01565-9801  fulfilled   \n",
       "\n",
       "   fraudulent  \n",
       "0       False  \n",
       "1       False  \n",
       "2        True  \n",
       "3        True  \n",
       "4        True  "
      ]
     },
     "execution_count": 17,
     "metadata": {},
     "output_type": "execute_result"
    }
   ],
   "source": [
    "h.head()"
   ]
  },
  {
   "cell_type": "code",
   "execution_count": 18,
   "metadata": {},
   "outputs": [],
   "source": [
    "df1=h.drop(['fraudulent_x','fraudulent_y'],axis=1)#Dropping unnecessary columns"
   ]
  },
  {
   "cell_type": "code",
   "execution_count": 19,
   "metadata": {},
   "outputs": [
    {
     "data": {
      "text/html": [
       "<div>\n",
       "<style scoped>\n",
       "    .dataframe tbody tr th:only-of-type {\n",
       "        vertical-align: middle;\n",
       "    }\n",
       "\n",
       "    .dataframe tbody tr th {\n",
       "        vertical-align: top;\n",
       "    }\n",
       "\n",
       "    .dataframe thead th {\n",
       "        text-align: right;\n",
       "    }\n",
       "</style>\n",
       "<table border=\"1\" class=\"dataframe\">\n",
       "  <thead>\n",
       "    <tr style=\"text-align: right;\">\n",
       "      <th></th>\n",
       "      <th>orderId</th>\n",
       "      <th>paymentMethodId</th>\n",
       "      <th>transactionAmount</th>\n",
       "      <th>transactionFailed</th>\n",
       "      <th>transactionId</th>\n",
       "      <th>customer</th>\n",
       "      <th>paymentMethodIssuer</th>\n",
       "      <th>paymentMethodProvider</th>\n",
       "      <th>paymentMethodRegistrationFailure</th>\n",
       "      <th>paymentMethodType</th>\n",
       "      <th>orderAmount</th>\n",
       "      <th>orderShippingAddress</th>\n",
       "      <th>orderState</th>\n",
       "      <th>fraudulent</th>\n",
       "    </tr>\n",
       "  </thead>\n",
       "  <tbody>\n",
       "    <tr>\n",
       "      <th>0</th>\n",
       "      <td>vjbdvd</td>\n",
       "      <td>wt07xm68b</td>\n",
       "      <td>18</td>\n",
       "      <td>False</td>\n",
       "      <td>a9lcj51r</td>\n",
       "      <td>{'customerEmail': 'josephhoward@yahoo.com', 'c...</td>\n",
       "      <td>Citizens First Banks</td>\n",
       "      <td>JCB 16 digit</td>\n",
       "      <td>True</td>\n",
       "      <td>card</td>\n",
       "      <td>18</td>\n",
       "      <td>5493 Jones Islands\\nBrownside, CA 51896</td>\n",
       "      <td>pending</td>\n",
       "      <td>False</td>\n",
       "    </tr>\n",
       "    <tr>\n",
       "      <th>1</th>\n",
       "      <td>yp6x27</td>\n",
       "      <td>wt07xm68b</td>\n",
       "      <td>26</td>\n",
       "      <td>False</td>\n",
       "      <td>y4wcv03i</td>\n",
       "      <td>{'customerEmail': 'josephhoward@yahoo.com', 'c...</td>\n",
       "      <td>Citizens First Banks</td>\n",
       "      <td>JCB 16 digit</td>\n",
       "      <td>True</td>\n",
       "      <td>card</td>\n",
       "      <td>26</td>\n",
       "      <td>5493 Jones Islands\\nBrownside, CA 51896</td>\n",
       "      <td>fulfilled</td>\n",
       "      <td>False</td>\n",
       "    </tr>\n",
       "    <tr>\n",
       "      <th>2</th>\n",
       "      <td>nlghpa</td>\n",
       "      <td>41ug157xz</td>\n",
       "      <td>45</td>\n",
       "      <td>False</td>\n",
       "      <td>5mi94sfw</td>\n",
       "      <td>{'customerEmail': 'evansjeffery@yahoo.com', 'c...</td>\n",
       "      <td>Bastion Banks</td>\n",
       "      <td>American Express</td>\n",
       "      <td>False</td>\n",
       "      <td>bitcoin</td>\n",
       "      <td>45</td>\n",
       "      <td>898 Henry Ports\\nNew Keithview, CA 95893-2497</td>\n",
       "      <td>fulfilled</td>\n",
       "      <td>True</td>\n",
       "    </tr>\n",
       "    <tr>\n",
       "      <th>3</th>\n",
       "      <td>uw0eeb</td>\n",
       "      <td>41ug157xz</td>\n",
       "      <td>23</td>\n",
       "      <td>False</td>\n",
       "      <td>br8ba1nu</td>\n",
       "      <td>{'customerEmail': 'evansjeffery@yahoo.com', 'c...</td>\n",
       "      <td>Bastion Banks</td>\n",
       "      <td>American Express</td>\n",
       "      <td>False</td>\n",
       "      <td>bitcoin</td>\n",
       "      <td>23</td>\n",
       "      <td>356 Elizabeth Inlet Suite 120\\nPort Joshuabury...</td>\n",
       "      <td>fulfilled</td>\n",
       "      <td>True</td>\n",
       "    </tr>\n",
       "    <tr>\n",
       "      <th>4</th>\n",
       "      <td>bn44oh</td>\n",
       "      <td>y3xp697jx</td>\n",
       "      <td>43</td>\n",
       "      <td>True</td>\n",
       "      <td>a33145ss</td>\n",
       "      <td>{'customerEmail': 'evansjeffery@yahoo.com', 'c...</td>\n",
       "      <td>Solace Banks</td>\n",
       "      <td>VISA 16 digit</td>\n",
       "      <td>True</td>\n",
       "      <td>bitcoin</td>\n",
       "      <td>43</td>\n",
       "      <td>5093 Bryan Forks\\nJoshuaton, FM 01565-9801</td>\n",
       "      <td>fulfilled</td>\n",
       "      <td>True</td>\n",
       "    </tr>\n",
       "  </tbody>\n",
       "</table>\n",
       "</div>"
      ],
      "text/plain": [
       "  orderId paymentMethodId  transactionAmount  transactionFailed transactionId  \\\n",
       "0  vjbdvd       wt07xm68b                 18              False      a9lcj51r   \n",
       "1  yp6x27       wt07xm68b                 26              False      y4wcv03i   \n",
       "2  nlghpa       41ug157xz                 45              False      5mi94sfw   \n",
       "3  uw0eeb       41ug157xz                 23              False      br8ba1nu   \n",
       "4  bn44oh       y3xp697jx                 43               True      a33145ss   \n",
       "\n",
       "                                            customer   paymentMethodIssuer  \\\n",
       "0  {'customerEmail': 'josephhoward@yahoo.com', 'c...  Citizens First Banks   \n",
       "1  {'customerEmail': 'josephhoward@yahoo.com', 'c...  Citizens First Banks   \n",
       "2  {'customerEmail': 'evansjeffery@yahoo.com', 'c...         Bastion Banks   \n",
       "3  {'customerEmail': 'evansjeffery@yahoo.com', 'c...         Bastion Banks   \n",
       "4  {'customerEmail': 'evansjeffery@yahoo.com', 'c...          Solace Banks   \n",
       "\n",
       "  paymentMethodProvider  paymentMethodRegistrationFailure paymentMethodType  \\\n",
       "0          JCB 16 digit                              True              card   \n",
       "1          JCB 16 digit                              True              card   \n",
       "2      American Express                             False           bitcoin   \n",
       "3      American Express                             False           bitcoin   \n",
       "4         VISA 16 digit                              True           bitcoin   \n",
       "\n",
       "   orderAmount                               orderShippingAddress orderState  \\\n",
       "0           18            5493 Jones Islands\\nBrownside, CA 51896    pending   \n",
       "1           26            5493 Jones Islands\\nBrownside, CA 51896  fulfilled   \n",
       "2           45      898 Henry Ports\\nNew Keithview, CA 95893-2497  fulfilled   \n",
       "3           23  356 Elizabeth Inlet Suite 120\\nPort Joshuabury...  fulfilled   \n",
       "4           43         5093 Bryan Forks\\nJoshuaton, FM 01565-9801  fulfilled   \n",
       "\n",
       "   fraudulent  \n",
       "0       False  \n",
       "1       False  \n",
       "2        True  \n",
       "3        True  \n",
       "4        True  "
      ]
     },
     "execution_count": 19,
     "metadata": {},
     "output_type": "execute_result"
    }
   ],
   "source": [
    "df1.head()"
   ]
  },
  {
   "cell_type": "code",
   "execution_count": 20,
   "metadata": {},
   "outputs": [],
   "source": [
    "c=json_normalize(h['customer'])"
   ]
  },
  {
   "cell_type": "code",
   "execution_count": 21,
   "metadata": {},
   "outputs": [
    {
     "data": {
      "text/html": [
       "<div>\n",
       "<style scoped>\n",
       "    .dataframe tbody tr th:only-of-type {\n",
       "        vertical-align: middle;\n",
       "    }\n",
       "\n",
       "    .dataframe tbody tr th {\n",
       "        vertical-align: top;\n",
       "    }\n",
       "\n",
       "    .dataframe thead th {\n",
       "        text-align: right;\n",
       "    }\n",
       "</style>\n",
       "<table border=\"1\" class=\"dataframe\">\n",
       "  <thead>\n",
       "    <tr style=\"text-align: right;\">\n",
       "      <th></th>\n",
       "      <th>customerBillingAddress</th>\n",
       "      <th>customerDevice</th>\n",
       "      <th>customerEmail</th>\n",
       "      <th>customerIPAddress</th>\n",
       "      <th>customerPhone</th>\n",
       "    </tr>\n",
       "  </thead>\n",
       "  <tbody>\n",
       "    <tr>\n",
       "      <th>0</th>\n",
       "      <td>5493 Jones Islands\\nBrownside, CA 51896</td>\n",
       "      <td>yyeiaxpltf82440jnb3v</td>\n",
       "      <td>josephhoward@yahoo.com</td>\n",
       "      <td>8.129.104.40</td>\n",
       "      <td>400-108-5415</td>\n",
       "    </tr>\n",
       "    <tr>\n",
       "      <th>1</th>\n",
       "      <td>5493 Jones Islands\\nBrownside, CA 51896</td>\n",
       "      <td>yyeiaxpltf82440jnb3v</td>\n",
       "      <td>josephhoward@yahoo.com</td>\n",
       "      <td>8.129.104.40</td>\n",
       "      <td>400-108-5415</td>\n",
       "    </tr>\n",
       "    <tr>\n",
       "      <th>2</th>\n",
       "      <td>356 Elizabeth Inlet Suite 120\\nPort Joshuabury...</td>\n",
       "      <td>r0jpm7xaeqqa3kr6mzum</td>\n",
       "      <td>evansjeffery@yahoo.com</td>\n",
       "      <td>219.173.211.202</td>\n",
       "      <td>1-788-091-7546</td>\n",
       "    </tr>\n",
       "    <tr>\n",
       "      <th>3</th>\n",
       "      <td>356 Elizabeth Inlet Suite 120\\nPort Joshuabury...</td>\n",
       "      <td>r0jpm7xaeqqa3kr6mzum</td>\n",
       "      <td>evansjeffery@yahoo.com</td>\n",
       "      <td>219.173.211.202</td>\n",
       "      <td>1-788-091-7546</td>\n",
       "    </tr>\n",
       "    <tr>\n",
       "      <th>4</th>\n",
       "      <td>356 Elizabeth Inlet Suite 120\\nPort Joshuabury...</td>\n",
       "      <td>r0jpm7xaeqqa3kr6mzum</td>\n",
       "      <td>evansjeffery@yahoo.com</td>\n",
       "      <td>219.173.211.202</td>\n",
       "      <td>1-788-091-7546</td>\n",
       "    </tr>\n",
       "  </tbody>\n",
       "</table>\n",
       "</div>"
      ],
      "text/plain": [
       "                              customerBillingAddress        customerDevice  \\\n",
       "0            5493 Jones Islands\\nBrownside, CA 51896  yyeiaxpltf82440jnb3v   \n",
       "1            5493 Jones Islands\\nBrownside, CA 51896  yyeiaxpltf82440jnb3v   \n",
       "2  356 Elizabeth Inlet Suite 120\\nPort Joshuabury...  r0jpm7xaeqqa3kr6mzum   \n",
       "3  356 Elizabeth Inlet Suite 120\\nPort Joshuabury...  r0jpm7xaeqqa3kr6mzum   \n",
       "4  356 Elizabeth Inlet Suite 120\\nPort Joshuabury...  r0jpm7xaeqqa3kr6mzum   \n",
       "\n",
       "            customerEmail customerIPAddress   customerPhone  \n",
       "0  josephhoward@yahoo.com      8.129.104.40    400-108-5415  \n",
       "1  josephhoward@yahoo.com      8.129.104.40    400-108-5415  \n",
       "2  evansjeffery@yahoo.com   219.173.211.202  1-788-091-7546  \n",
       "3  evansjeffery@yahoo.com   219.173.211.202  1-788-091-7546  \n",
       "4  evansjeffery@yahoo.com   219.173.211.202  1-788-091-7546  "
      ]
     },
     "execution_count": 21,
     "metadata": {},
     "output_type": "execute_result"
    }
   ],
   "source": [
    "c.head()"
   ]
  },
  {
   "cell_type": "markdown",
   "metadata": {},
   "source": [
    "# customer table"
   ]
  },
  {
   "cell_type": "code",
   "execution_count": 22,
   "metadata": {},
   "outputs": [],
   "source": [
    "Customer_data=pd.concat([df1,c],axis=1)#Concatinating two data frames"
   ]
  },
  {
   "cell_type": "markdown",
   "metadata": {},
   "source": [
    "# Final data"
   ]
  },
  {
   "cell_type": "code",
   "execution_count": 23,
   "metadata": {},
   "outputs": [],
   "source": [
    "Customer_data=Customer_data.drop(['customer'],axis=1)#Final data"
   ]
  },
  {
   "cell_type": "code",
   "execution_count": 24,
   "metadata": {},
   "outputs": [
    {
     "data": {
      "text/html": [
       "<div>\n",
       "<style scoped>\n",
       "    .dataframe tbody tr th:only-of-type {\n",
       "        vertical-align: middle;\n",
       "    }\n",
       "\n",
       "    .dataframe tbody tr th {\n",
       "        vertical-align: top;\n",
       "    }\n",
       "\n",
       "    .dataframe thead th {\n",
       "        text-align: right;\n",
       "    }\n",
       "</style>\n",
       "<table border=\"1\" class=\"dataframe\">\n",
       "  <thead>\n",
       "    <tr style=\"text-align: right;\">\n",
       "      <th></th>\n",
       "      <th>orderId</th>\n",
       "      <th>paymentMethodId</th>\n",
       "      <th>transactionAmount</th>\n",
       "      <th>transactionFailed</th>\n",
       "      <th>transactionId</th>\n",
       "      <th>paymentMethodIssuer</th>\n",
       "      <th>paymentMethodProvider</th>\n",
       "      <th>paymentMethodRegistrationFailure</th>\n",
       "      <th>paymentMethodType</th>\n",
       "      <th>orderAmount</th>\n",
       "      <th>orderShippingAddress</th>\n",
       "      <th>orderState</th>\n",
       "      <th>fraudulent</th>\n",
       "      <th>customerBillingAddress</th>\n",
       "      <th>customerDevice</th>\n",
       "      <th>customerEmail</th>\n",
       "      <th>customerIPAddress</th>\n",
       "      <th>customerPhone</th>\n",
       "    </tr>\n",
       "  </thead>\n",
       "  <tbody>\n",
       "    <tr>\n",
       "      <th>0</th>\n",
       "      <td>vjbdvd</td>\n",
       "      <td>wt07xm68b</td>\n",
       "      <td>18</td>\n",
       "      <td>False</td>\n",
       "      <td>a9lcj51r</td>\n",
       "      <td>Citizens First Banks</td>\n",
       "      <td>JCB 16 digit</td>\n",
       "      <td>True</td>\n",
       "      <td>card</td>\n",
       "      <td>18</td>\n",
       "      <td>5493 Jones Islands\\nBrownside, CA 51896</td>\n",
       "      <td>pending</td>\n",
       "      <td>False</td>\n",
       "      <td>5493 Jones Islands\\nBrownside, CA 51896</td>\n",
       "      <td>yyeiaxpltf82440jnb3v</td>\n",
       "      <td>josephhoward@yahoo.com</td>\n",
       "      <td>8.129.104.40</td>\n",
       "      <td>400-108-5415</td>\n",
       "    </tr>\n",
       "    <tr>\n",
       "      <th>1</th>\n",
       "      <td>yp6x27</td>\n",
       "      <td>wt07xm68b</td>\n",
       "      <td>26</td>\n",
       "      <td>False</td>\n",
       "      <td>y4wcv03i</td>\n",
       "      <td>Citizens First Banks</td>\n",
       "      <td>JCB 16 digit</td>\n",
       "      <td>True</td>\n",
       "      <td>card</td>\n",
       "      <td>26</td>\n",
       "      <td>5493 Jones Islands\\nBrownside, CA 51896</td>\n",
       "      <td>fulfilled</td>\n",
       "      <td>False</td>\n",
       "      <td>5493 Jones Islands\\nBrownside, CA 51896</td>\n",
       "      <td>yyeiaxpltf82440jnb3v</td>\n",
       "      <td>josephhoward@yahoo.com</td>\n",
       "      <td>8.129.104.40</td>\n",
       "      <td>400-108-5415</td>\n",
       "    </tr>\n",
       "    <tr>\n",
       "      <th>2</th>\n",
       "      <td>nlghpa</td>\n",
       "      <td>41ug157xz</td>\n",
       "      <td>45</td>\n",
       "      <td>False</td>\n",
       "      <td>5mi94sfw</td>\n",
       "      <td>Bastion Banks</td>\n",
       "      <td>American Express</td>\n",
       "      <td>False</td>\n",
       "      <td>bitcoin</td>\n",
       "      <td>45</td>\n",
       "      <td>898 Henry Ports\\nNew Keithview, CA 95893-2497</td>\n",
       "      <td>fulfilled</td>\n",
       "      <td>True</td>\n",
       "      <td>356 Elizabeth Inlet Suite 120\\nPort Joshuabury...</td>\n",
       "      <td>r0jpm7xaeqqa3kr6mzum</td>\n",
       "      <td>evansjeffery@yahoo.com</td>\n",
       "      <td>219.173.211.202</td>\n",
       "      <td>1-788-091-7546</td>\n",
       "    </tr>\n",
       "    <tr>\n",
       "      <th>3</th>\n",
       "      <td>uw0eeb</td>\n",
       "      <td>41ug157xz</td>\n",
       "      <td>23</td>\n",
       "      <td>False</td>\n",
       "      <td>br8ba1nu</td>\n",
       "      <td>Bastion Banks</td>\n",
       "      <td>American Express</td>\n",
       "      <td>False</td>\n",
       "      <td>bitcoin</td>\n",
       "      <td>23</td>\n",
       "      <td>356 Elizabeth Inlet Suite 120\\nPort Joshuabury...</td>\n",
       "      <td>fulfilled</td>\n",
       "      <td>True</td>\n",
       "      <td>356 Elizabeth Inlet Suite 120\\nPort Joshuabury...</td>\n",
       "      <td>r0jpm7xaeqqa3kr6mzum</td>\n",
       "      <td>evansjeffery@yahoo.com</td>\n",
       "      <td>219.173.211.202</td>\n",
       "      <td>1-788-091-7546</td>\n",
       "    </tr>\n",
       "    <tr>\n",
       "      <th>4</th>\n",
       "      <td>bn44oh</td>\n",
       "      <td>y3xp697jx</td>\n",
       "      <td>43</td>\n",
       "      <td>True</td>\n",
       "      <td>a33145ss</td>\n",
       "      <td>Solace Banks</td>\n",
       "      <td>VISA 16 digit</td>\n",
       "      <td>True</td>\n",
       "      <td>bitcoin</td>\n",
       "      <td>43</td>\n",
       "      <td>5093 Bryan Forks\\nJoshuaton, FM 01565-9801</td>\n",
       "      <td>fulfilled</td>\n",
       "      <td>True</td>\n",
       "      <td>356 Elizabeth Inlet Suite 120\\nPort Joshuabury...</td>\n",
       "      <td>r0jpm7xaeqqa3kr6mzum</td>\n",
       "      <td>evansjeffery@yahoo.com</td>\n",
       "      <td>219.173.211.202</td>\n",
       "      <td>1-788-091-7546</td>\n",
       "    </tr>\n",
       "  </tbody>\n",
       "</table>\n",
       "</div>"
      ],
      "text/plain": [
       "  orderId paymentMethodId  transactionAmount  transactionFailed transactionId  \\\n",
       "0  vjbdvd       wt07xm68b                 18              False      a9lcj51r   \n",
       "1  yp6x27       wt07xm68b                 26              False      y4wcv03i   \n",
       "2  nlghpa       41ug157xz                 45              False      5mi94sfw   \n",
       "3  uw0eeb       41ug157xz                 23              False      br8ba1nu   \n",
       "4  bn44oh       y3xp697jx                 43               True      a33145ss   \n",
       "\n",
       "    paymentMethodIssuer paymentMethodProvider  \\\n",
       "0  Citizens First Banks          JCB 16 digit   \n",
       "1  Citizens First Banks          JCB 16 digit   \n",
       "2         Bastion Banks      American Express   \n",
       "3         Bastion Banks      American Express   \n",
       "4          Solace Banks         VISA 16 digit   \n",
       "\n",
       "   paymentMethodRegistrationFailure paymentMethodType  orderAmount  \\\n",
       "0                              True              card           18   \n",
       "1                              True              card           26   \n",
       "2                             False           bitcoin           45   \n",
       "3                             False           bitcoin           23   \n",
       "4                              True           bitcoin           43   \n",
       "\n",
       "                                orderShippingAddress orderState  fraudulent  \\\n",
       "0            5493 Jones Islands\\nBrownside, CA 51896    pending       False   \n",
       "1            5493 Jones Islands\\nBrownside, CA 51896  fulfilled       False   \n",
       "2      898 Henry Ports\\nNew Keithview, CA 95893-2497  fulfilled        True   \n",
       "3  356 Elizabeth Inlet Suite 120\\nPort Joshuabury...  fulfilled        True   \n",
       "4         5093 Bryan Forks\\nJoshuaton, FM 01565-9801  fulfilled        True   \n",
       "\n",
       "                              customerBillingAddress        customerDevice  \\\n",
       "0            5493 Jones Islands\\nBrownside, CA 51896  yyeiaxpltf82440jnb3v   \n",
       "1            5493 Jones Islands\\nBrownside, CA 51896  yyeiaxpltf82440jnb3v   \n",
       "2  356 Elizabeth Inlet Suite 120\\nPort Joshuabury...  r0jpm7xaeqqa3kr6mzum   \n",
       "3  356 Elizabeth Inlet Suite 120\\nPort Joshuabury...  r0jpm7xaeqqa3kr6mzum   \n",
       "4  356 Elizabeth Inlet Suite 120\\nPort Joshuabury...  r0jpm7xaeqqa3kr6mzum   \n",
       "\n",
       "            customerEmail customerIPAddress   customerPhone  \n",
       "0  josephhoward@yahoo.com      8.129.104.40    400-108-5415  \n",
       "1  josephhoward@yahoo.com      8.129.104.40    400-108-5415  \n",
       "2  evansjeffery@yahoo.com   219.173.211.202  1-788-091-7546  \n",
       "3  evansjeffery@yahoo.com   219.173.211.202  1-788-091-7546  \n",
       "4  evansjeffery@yahoo.com   219.173.211.202  1-788-091-7546  "
      ]
     },
     "execution_count": 24,
     "metadata": {},
     "output_type": "execute_result"
    }
   ],
   "source": [
    "Customer_data.head()"
   ]
  },
  {
   "cell_type": "code",
   "execution_count": 25,
   "metadata": {},
   "outputs": [],
   "source": [
    "Customer_data.to_csv('Customer_data.csv',index=False)#Saving data to csv file"
   ]
  },
  {
   "cell_type": "markdown",
   "metadata": {},
   "source": [
    "# EDA and Data Preprocessing"
   ]
  },
  {
   "cell_type": "code",
   "execution_count": 26,
   "metadata": {},
   "outputs": [
    {
     "name": "stdout",
     "output_type": "stream",
     "text": [
      "<class 'pandas.core.frame.DataFrame'>\n",
      "Int64Index: 623 entries, 0 to 622\n",
      "Data columns (total 18 columns):\n",
      "orderId                             623 non-null object\n",
      "paymentMethodId                     623 non-null object\n",
      "transactionAmount                   623 non-null int64\n",
      "transactionFailed                   623 non-null bool\n",
      "transactionId                       623 non-null object\n",
      "paymentMethodIssuer                 623 non-null object\n",
      "paymentMethodProvider               623 non-null object\n",
      "paymentMethodRegistrationFailure    623 non-null bool\n",
      "paymentMethodType                   623 non-null object\n",
      "orderAmount                         623 non-null int64\n",
      "orderShippingAddress                623 non-null object\n",
      "orderState                          623 non-null object\n",
      "fraudulent                          623 non-null bool\n",
      "customerBillingAddress              623 non-null object\n",
      "customerDevice                      623 non-null object\n",
      "customerEmail                       623 non-null object\n",
      "customerIPAddress                   623 non-null object\n",
      "customerPhone                       623 non-null object\n",
      "dtypes: bool(3), int64(2), object(13)\n",
      "memory usage: 79.7+ KB\n"
     ]
    }
   ],
   "source": [
    "Customer_data.info()#information about data"
   ]
  },
  {
   "cell_type": "code",
   "execution_count": 27,
   "metadata": {},
   "outputs": [
    {
     "data": {
      "text/html": [
       "<div>\n",
       "<style scoped>\n",
       "    .dataframe tbody tr th:only-of-type {\n",
       "        vertical-align: middle;\n",
       "    }\n",
       "\n",
       "    .dataframe tbody tr th {\n",
       "        vertical-align: top;\n",
       "    }\n",
       "\n",
       "    .dataframe thead th {\n",
       "        text-align: right;\n",
       "    }\n",
       "</style>\n",
       "<table border=\"1\" class=\"dataframe\">\n",
       "  <thead>\n",
       "    <tr style=\"text-align: right;\">\n",
       "      <th></th>\n",
       "      <th>orderId</th>\n",
       "      <th>paymentMethodId</th>\n",
       "      <th>transactionAmount</th>\n",
       "      <th>transactionFailed</th>\n",
       "      <th>transactionId</th>\n",
       "      <th>paymentMethodIssuer</th>\n",
       "      <th>paymentMethodProvider</th>\n",
       "      <th>paymentMethodRegistrationFailure</th>\n",
       "      <th>paymentMethodType</th>\n",
       "      <th>orderAmount</th>\n",
       "      <th>orderShippingAddress</th>\n",
       "      <th>orderState</th>\n",
       "      <th>fraudulent</th>\n",
       "      <th>customerBillingAddress</th>\n",
       "      <th>customerDevice</th>\n",
       "      <th>customerEmail</th>\n",
       "      <th>customerIPAddress</th>\n",
       "      <th>customerPhone</th>\n",
       "    </tr>\n",
       "  </thead>\n",
       "  <tbody>\n",
       "    <tr>\n",
       "      <th>0</th>\n",
       "      <td>vjbdvd</td>\n",
       "      <td>wt07xm68b</td>\n",
       "      <td>18</td>\n",
       "      <td>False</td>\n",
       "      <td>a9lcj51r</td>\n",
       "      <td>Citizens First Banks</td>\n",
       "      <td>JCB 16 digit</td>\n",
       "      <td>True</td>\n",
       "      <td>card</td>\n",
       "      <td>18</td>\n",
       "      <td>5493 Jones Islands\\nBrownside, CA 51896</td>\n",
       "      <td>pending</td>\n",
       "      <td>False</td>\n",
       "      <td>5493 Jones Islands\\nBrownside, CA 51896</td>\n",
       "      <td>yyeiaxpltf82440jnb3v</td>\n",
       "      <td>josephhoward@yahoo.com</td>\n",
       "      <td>8.129.104.40</td>\n",
       "      <td>400-108-5415</td>\n",
       "    </tr>\n",
       "    <tr>\n",
       "      <th>1</th>\n",
       "      <td>yp6x27</td>\n",
       "      <td>wt07xm68b</td>\n",
       "      <td>26</td>\n",
       "      <td>False</td>\n",
       "      <td>y4wcv03i</td>\n",
       "      <td>Citizens First Banks</td>\n",
       "      <td>JCB 16 digit</td>\n",
       "      <td>True</td>\n",
       "      <td>card</td>\n",
       "      <td>26</td>\n",
       "      <td>5493 Jones Islands\\nBrownside, CA 51896</td>\n",
       "      <td>fulfilled</td>\n",
       "      <td>False</td>\n",
       "      <td>5493 Jones Islands\\nBrownside, CA 51896</td>\n",
       "      <td>yyeiaxpltf82440jnb3v</td>\n",
       "      <td>josephhoward@yahoo.com</td>\n",
       "      <td>8.129.104.40</td>\n",
       "      <td>400-108-5415</td>\n",
       "    </tr>\n",
       "    <tr>\n",
       "      <th>2</th>\n",
       "      <td>nlghpa</td>\n",
       "      <td>41ug157xz</td>\n",
       "      <td>45</td>\n",
       "      <td>False</td>\n",
       "      <td>5mi94sfw</td>\n",
       "      <td>Bastion Banks</td>\n",
       "      <td>American Express</td>\n",
       "      <td>False</td>\n",
       "      <td>bitcoin</td>\n",
       "      <td>45</td>\n",
       "      <td>898 Henry Ports\\nNew Keithview, CA 95893-2497</td>\n",
       "      <td>fulfilled</td>\n",
       "      <td>True</td>\n",
       "      <td>356 Elizabeth Inlet Suite 120\\nPort Joshuabury...</td>\n",
       "      <td>r0jpm7xaeqqa3kr6mzum</td>\n",
       "      <td>evansjeffery@yahoo.com</td>\n",
       "      <td>219.173.211.202</td>\n",
       "      <td>1-788-091-7546</td>\n",
       "    </tr>\n",
       "    <tr>\n",
       "      <th>3</th>\n",
       "      <td>uw0eeb</td>\n",
       "      <td>41ug157xz</td>\n",
       "      <td>23</td>\n",
       "      <td>False</td>\n",
       "      <td>br8ba1nu</td>\n",
       "      <td>Bastion Banks</td>\n",
       "      <td>American Express</td>\n",
       "      <td>False</td>\n",
       "      <td>bitcoin</td>\n",
       "      <td>23</td>\n",
       "      <td>356 Elizabeth Inlet Suite 120\\nPort Joshuabury...</td>\n",
       "      <td>fulfilled</td>\n",
       "      <td>True</td>\n",
       "      <td>356 Elizabeth Inlet Suite 120\\nPort Joshuabury...</td>\n",
       "      <td>r0jpm7xaeqqa3kr6mzum</td>\n",
       "      <td>evansjeffery@yahoo.com</td>\n",
       "      <td>219.173.211.202</td>\n",
       "      <td>1-788-091-7546</td>\n",
       "    </tr>\n",
       "    <tr>\n",
       "      <th>4</th>\n",
       "      <td>bn44oh</td>\n",
       "      <td>y3xp697jx</td>\n",
       "      <td>43</td>\n",
       "      <td>True</td>\n",
       "      <td>a33145ss</td>\n",
       "      <td>Solace Banks</td>\n",
       "      <td>VISA 16 digit</td>\n",
       "      <td>True</td>\n",
       "      <td>bitcoin</td>\n",
       "      <td>43</td>\n",
       "      <td>5093 Bryan Forks\\nJoshuaton, FM 01565-9801</td>\n",
       "      <td>fulfilled</td>\n",
       "      <td>True</td>\n",
       "      <td>356 Elizabeth Inlet Suite 120\\nPort Joshuabury...</td>\n",
       "      <td>r0jpm7xaeqqa3kr6mzum</td>\n",
       "      <td>evansjeffery@yahoo.com</td>\n",
       "      <td>219.173.211.202</td>\n",
       "      <td>1-788-091-7546</td>\n",
       "    </tr>\n",
       "  </tbody>\n",
       "</table>\n",
       "</div>"
      ],
      "text/plain": [
       "  orderId paymentMethodId  transactionAmount  transactionFailed transactionId  \\\n",
       "0  vjbdvd       wt07xm68b                 18              False      a9lcj51r   \n",
       "1  yp6x27       wt07xm68b                 26              False      y4wcv03i   \n",
       "2  nlghpa       41ug157xz                 45              False      5mi94sfw   \n",
       "3  uw0eeb       41ug157xz                 23              False      br8ba1nu   \n",
       "4  bn44oh       y3xp697jx                 43               True      a33145ss   \n",
       "\n",
       "    paymentMethodIssuer paymentMethodProvider  \\\n",
       "0  Citizens First Banks          JCB 16 digit   \n",
       "1  Citizens First Banks          JCB 16 digit   \n",
       "2         Bastion Banks      American Express   \n",
       "3         Bastion Banks      American Express   \n",
       "4          Solace Banks         VISA 16 digit   \n",
       "\n",
       "   paymentMethodRegistrationFailure paymentMethodType  orderAmount  \\\n",
       "0                              True              card           18   \n",
       "1                              True              card           26   \n",
       "2                             False           bitcoin           45   \n",
       "3                             False           bitcoin           23   \n",
       "4                              True           bitcoin           43   \n",
       "\n",
       "                                orderShippingAddress orderState  fraudulent  \\\n",
       "0            5493 Jones Islands\\nBrownside, CA 51896    pending       False   \n",
       "1            5493 Jones Islands\\nBrownside, CA 51896  fulfilled       False   \n",
       "2      898 Henry Ports\\nNew Keithview, CA 95893-2497  fulfilled        True   \n",
       "3  356 Elizabeth Inlet Suite 120\\nPort Joshuabury...  fulfilled        True   \n",
       "4         5093 Bryan Forks\\nJoshuaton, FM 01565-9801  fulfilled        True   \n",
       "\n",
       "                              customerBillingAddress        customerDevice  \\\n",
       "0            5493 Jones Islands\\nBrownside, CA 51896  yyeiaxpltf82440jnb3v   \n",
       "1            5493 Jones Islands\\nBrownside, CA 51896  yyeiaxpltf82440jnb3v   \n",
       "2  356 Elizabeth Inlet Suite 120\\nPort Joshuabury...  r0jpm7xaeqqa3kr6mzum   \n",
       "3  356 Elizabeth Inlet Suite 120\\nPort Joshuabury...  r0jpm7xaeqqa3kr6mzum   \n",
       "4  356 Elizabeth Inlet Suite 120\\nPort Joshuabury...  r0jpm7xaeqqa3kr6mzum   \n",
       "\n",
       "            customerEmail customerIPAddress   customerPhone  \n",
       "0  josephhoward@yahoo.com      8.129.104.40    400-108-5415  \n",
       "1  josephhoward@yahoo.com      8.129.104.40    400-108-5415  \n",
       "2  evansjeffery@yahoo.com   219.173.211.202  1-788-091-7546  \n",
       "3  evansjeffery@yahoo.com   219.173.211.202  1-788-091-7546  \n",
       "4  evansjeffery@yahoo.com   219.173.211.202  1-788-091-7546  "
      ]
     },
     "execution_count": 27,
     "metadata": {},
     "output_type": "execute_result"
    }
   ],
   "source": [
    "Customer_data.head()"
   ]
  },
  {
   "cell_type": "code",
   "execution_count": 28,
   "metadata": {},
   "outputs": [
    {
     "data": {
      "text/plain": [
       "<matplotlib.axes._subplots.AxesSubplot at 0x9f7afd2eb8>"
      ]
     },
     "execution_count": 28,
     "metadata": {},
     "output_type": "execute_result"
    },
    {
     "data": {
      "image/png": "[encoded data removed]",
      "text/plain": [
       "<Figure size 432x288 with 1 Axes>"
      ]
     },
     "metadata": {
      "needs_background": "light"
     },
     "output_type": "display_data"
    }
   ],
   "source": [
    "Customer_data['fraudulent'].value_counts().plot.bar()#count "
   ]
  },
  {
   "cell_type": "code",
   "execution_count": 29,
   "metadata": {},
   "outputs": [
    {
     "data": {
      "text/plain": [
       "card         479\n",
       "apple pay     49\n",
       "paypal        48\n",
       "bitcoin       47\n",
       "Name: paymentMethodType, dtype: int64"
      ]
     },
     "execution_count": 29,
     "metadata": {},
     "output_type": "execute_result"
    }
   ],
   "source": [
    "Customer_data['paymentMethodType'].value_counts()"
   ]
  },
  {
   "cell_type": "code",
   "execution_count": 30,
   "metadata": {},
   "outputs": [
    {
     "data": {
      "text/plain": [
       "card         76.886035\n",
       "apple pay     7.865169\n",
       "paypal        7.704655\n",
       "bitcoin       7.544141\n",
       "Name: paymentMethodType, dtype: float64"
      ]
     },
     "execution_count": 30,
     "metadata": {},
     "output_type": "execute_result"
    }
   ],
   "source": [
    "(Customer_data['paymentMethodType'].value_counts()/len(Customer_data))*100"
   ]
  },
  {
   "cell_type": "code",
   "execution_count": 31,
   "metadata": {},
   "outputs": [
    {
     "data": {
      "text/plain": [
       "johnlowery@gmail.com             28\n",
       "mitchellgriffith@yahoo.com       15\n",
       "tmcpherson@wright.com            13\n",
       "lleonard@turner-fleming.com      11\n",
       "vmiller@hotmail.com              10\n",
       "david45@gmail.com                10\n",
       "1yf0@jedyz63t                    10\n",
       "karen54@mullins.biz               8\n",
       "brandon58@conner.com              8\n",
       "ethompson@jackson-sanders.com     8\n",
       "Name: customerEmail, dtype: int64"
      ]
     },
     "execution_count": 31,
     "metadata": {},
     "output_type": "execute_result"
    }
   ],
   "source": [
    "Customer_data['customerEmail'].value_counts().head(10)"
   ]
  },
  {
   "cell_type": "code",
   "execution_count": 32,
   "metadata": {},
   "outputs": [],
   "source": [
    "cmap={False:0,True:1}"
   ]
  },
  {
   "cell_type": "code",
   "execution_count": 33,
   "metadata": {},
   "outputs": [],
   "source": [
    "Customer_data['fraudulent']=Customer_data['fraudulent'].map(cmap)\n",
    "Customer_data['transactionFailed']=Customer_data['transactionFailed'].map(cmap)\n",
    "Customer_data['paymentMethodRegistrationFailure']=Customer_data['paymentMethodRegistrationFailure'].map(cmap)"
   ]
  },
  {
   "cell_type": "code",
   "execution_count": 34,
   "metadata": {},
   "outputs": [
    {
     "data": {
      "text/html": [
       "<div>\n",
       "<style scoped>\n",
       "    .dataframe tbody tr th:only-of-type {\n",
       "        vertical-align: middle;\n",
       "    }\n",
       "\n",
       "    .dataframe tbody tr th {\n",
       "        vertical-align: top;\n",
       "    }\n",
       "\n",
       "    .dataframe thead th {\n",
       "        text-align: right;\n",
       "    }\n",
       "</style>\n",
       "<table border=\"1\" class=\"dataframe\">\n",
       "  <thead>\n",
       "    <tr style=\"text-align: right;\">\n",
       "      <th></th>\n",
       "      <th>orderId</th>\n",
       "      <th>paymentMethodId</th>\n",
       "      <th>transactionAmount</th>\n",
       "      <th>transactionFailed</th>\n",
       "      <th>transactionId</th>\n",
       "      <th>paymentMethodIssuer</th>\n",
       "      <th>paymentMethodProvider</th>\n",
       "      <th>paymentMethodRegistrationFailure</th>\n",
       "      <th>paymentMethodType</th>\n",
       "      <th>orderAmount</th>\n",
       "      <th>orderShippingAddress</th>\n",
       "      <th>orderState</th>\n",
       "      <th>fraudulent</th>\n",
       "      <th>customerBillingAddress</th>\n",
       "      <th>customerDevice</th>\n",
       "      <th>customerEmail</th>\n",
       "      <th>customerIPAddress</th>\n",
       "      <th>customerPhone</th>\n",
       "    </tr>\n",
       "  </thead>\n",
       "  <tbody>\n",
       "    <tr>\n",
       "      <th>0</th>\n",
       "      <td>vjbdvd</td>\n",
       "      <td>wt07xm68b</td>\n",
       "      <td>18</td>\n",
       "      <td>0</td>\n",
       "      <td>a9lcj51r</td>\n",
       "      <td>Citizens First Banks</td>\n",
       "      <td>JCB 16 digit</td>\n",
       "      <td>1</td>\n",
       "      <td>card</td>\n",
       "      <td>18</td>\n",
       "      <td>5493 Jones Islands\\nBrownside, CA 51896</td>\n",
       "      <td>pending</td>\n",
       "      <td>0</td>\n",
       "      <td>5493 Jones Islands\\nBrownside, CA 51896</td>\n",
       "      <td>yyeiaxpltf82440jnb3v</td>\n",
       "      <td>josephhoward@yahoo.com</td>\n",
       "      <td>8.129.104.40</td>\n",
       "      <td>400-108-5415</td>\n",
       "    </tr>\n",
       "    <tr>\n",
       "      <th>1</th>\n",
       "      <td>yp6x27</td>\n",
       "      <td>wt07xm68b</td>\n",
       "      <td>26</td>\n",
       "      <td>0</td>\n",
       "      <td>y4wcv03i</td>\n",
       "      <td>Citizens First Banks</td>\n",
       "      <td>JCB 16 digit</td>\n",
       "      <td>1</td>\n",
       "      <td>card</td>\n",
       "      <td>26</td>\n",
       "      <td>5493 Jones Islands\\nBrownside, CA 51896</td>\n",
       "      <td>fulfilled</td>\n",
       "      <td>0</td>\n",
       "      <td>5493 Jones Islands\\nBrownside, CA 51896</td>\n",
       "      <td>yyeiaxpltf82440jnb3v</td>\n",
       "      <td>josephhoward@yahoo.com</td>\n",
       "      <td>8.129.104.40</td>\n",
       "      <td>400-108-5415</td>\n",
       "    </tr>\n",
       "    <tr>\n",
       "      <th>2</th>\n",
       "      <td>nlghpa</td>\n",
       "      <td>41ug157xz</td>\n",
       "      <td>45</td>\n",
       "      <td>0</td>\n",
       "      <td>5mi94sfw</td>\n",
       "      <td>Bastion Banks</td>\n",
       "      <td>American Express</td>\n",
       "      <td>0</td>\n",
       "      <td>bitcoin</td>\n",
       "      <td>45</td>\n",
       "      <td>898 Henry Ports\\nNew Keithview, CA 95893-2497</td>\n",
       "      <td>fulfilled</td>\n",
       "      <td>1</td>\n",
       "      <td>356 Elizabeth Inlet Suite 120\\nPort Joshuabury...</td>\n",
       "      <td>r0jpm7xaeqqa3kr6mzum</td>\n",
       "      <td>evansjeffery@yahoo.com</td>\n",
       "      <td>219.173.211.202</td>\n",
       "      <td>1-788-091-7546</td>\n",
       "    </tr>\n",
       "    <tr>\n",
       "      <th>3</th>\n",
       "      <td>uw0eeb</td>\n",
       "      <td>41ug157xz</td>\n",
       "      <td>23</td>\n",
       "      <td>0</td>\n",
       "      <td>br8ba1nu</td>\n",
       "      <td>Bastion Banks</td>\n",
       "      <td>American Express</td>\n",
       "      <td>0</td>\n",
       "      <td>bitcoin</td>\n",
       "      <td>23</td>\n",
       "      <td>356 Elizabeth Inlet Suite 120\\nPort Joshuabury...</td>\n",
       "      <td>fulfilled</td>\n",
       "      <td>1</td>\n",
       "      <td>356 Elizabeth Inlet Suite 120\\nPort Joshuabury...</td>\n",
       "      <td>r0jpm7xaeqqa3kr6mzum</td>\n",
       "      <td>evansjeffery@yahoo.com</td>\n",
       "      <td>219.173.211.202</td>\n",
       "      <td>1-788-091-7546</td>\n",
       "    </tr>\n",
       "    <tr>\n",
       "      <th>4</th>\n",
       "      <td>bn44oh</td>\n",
       "      <td>y3xp697jx</td>\n",
       "      <td>43</td>\n",
       "      <td>1</td>\n",
       "      <td>a33145ss</td>\n",
       "      <td>Solace Banks</td>\n",
       "      <td>VISA 16 digit</td>\n",
       "      <td>1</td>\n",
       "      <td>bitcoin</td>\n",
       "      <td>43</td>\n",
       "      <td>5093 Bryan Forks\\nJoshuaton, FM 01565-9801</td>\n",
       "      <td>fulfilled</td>\n",
       "      <td>1</td>\n",
       "      <td>356 Elizabeth Inlet Suite 120\\nPort Joshuabury...</td>\n",
       "      <td>r0jpm7xaeqqa3kr6mzum</td>\n",
       "      <td>evansjeffery@yahoo.com</td>\n",
       "      <td>219.173.211.202</td>\n",
       "      <td>1-788-091-7546</td>\n",
       "    </tr>\n",
       "  </tbody>\n",
       "</table>\n",
       "</div>"
      ],
      "text/plain": [
       "  orderId paymentMethodId  transactionAmount  transactionFailed transactionId  \\\n",
       "0  vjbdvd       wt07xm68b                 18                  0      a9lcj51r   \n",
       "1  yp6x27       wt07xm68b                 26                  0      y4wcv03i   \n",
       "2  nlghpa       41ug157xz                 45                  0      5mi94sfw   \n",
       "3  uw0eeb       41ug157xz                 23                  0      br8ba1nu   \n",
       "4  bn44oh       y3xp697jx                 43                  1      a33145ss   \n",
       "\n",
       "    paymentMethodIssuer paymentMethodProvider  \\\n",
       "0  Citizens First Banks          JCB 16 digit   \n",
       "1  Citizens First Banks          JCB 16 digit   \n",
       "2         Bastion Banks      American Express   \n",
       "3         Bastion Banks      American Express   \n",
       "4          Solace Banks         VISA 16 digit   \n",
       "\n",
       "   paymentMethodRegistrationFailure paymentMethodType  orderAmount  \\\n",
       "0                                 1              card           18   \n",
       "1                                 1              card           26   \n",
       "2                                 0           bitcoin           45   \n",
       "3                                 0           bitcoin           23   \n",
       "4                                 1           bitcoin           43   \n",
       "\n",
       "                                orderShippingAddress orderState  fraudulent  \\\n",
       "0            5493 Jones Islands\\nBrownside, CA 51896    pending           0   \n",
       "1            5493 Jones Islands\\nBrownside, CA 51896  fulfilled           0   \n",
       "2      898 Henry Ports\\nNew Keithview, CA 95893-2497  fulfilled           1   \n",
       "3  356 Elizabeth Inlet Suite 120\\nPort Joshuabury...  fulfilled           1   \n",
       "4         5093 Bryan Forks\\nJoshuaton, FM 01565-9801  fulfilled           1   \n",
       "\n",
       "                              customerBillingAddress        customerDevice  \\\n",
       "0            5493 Jones Islands\\nBrownside, CA 51896  yyeiaxpltf82440jnb3v   \n",
       "1            5493 Jones Islands\\nBrownside, CA 51896  yyeiaxpltf82440jnb3v   \n",
       "2  356 Elizabeth Inlet Suite 120\\nPort Joshuabury...  r0jpm7xaeqqa3kr6mzum   \n",
       "3  356 Elizabeth Inlet Suite 120\\nPort Joshuabury...  r0jpm7xaeqqa3kr6mzum   \n",
       "4  356 Elizabeth Inlet Suite 120\\nPort Joshuabury...  r0jpm7xaeqqa3kr6mzum   \n",
       "\n",
       "            customerEmail customerIPAddress   customerPhone  \n",
       "0  josephhoward@yahoo.com      8.129.104.40    400-108-5415  \n",
       "1  josephhoward@yahoo.com      8.129.104.40    400-108-5415  \n",
       "2  evansjeffery@yahoo.com   219.173.211.202  1-788-091-7546  \n",
       "3  evansjeffery@yahoo.com   219.173.211.202  1-788-091-7546  \n",
       "4  evansjeffery@yahoo.com   219.173.211.202  1-788-091-7546  "
      ]
     },
     "execution_count": 34,
     "metadata": {},
     "output_type": "execute_result"
    }
   ],
   "source": [
    "Customer_data.head()"
   ]
  },
  {
   "cell_type": "code",
   "execution_count": 35,
   "metadata": {},
   "outputs": [
    {
     "data": {
      "text/plain": [
       "Her Majesty Trust           66\n",
       "His Majesty Bank Corp.      65\n",
       "Vertex Bancorp              63\n",
       "Fountain Financial Inc.     60\n",
       "Bulwark Trust Corp.         59\n",
       "Rose Bancshares             59\n",
       "Bastion Banks               58\n",
       "Grand Credit Corporation    55\n",
       "Citizens First Banks        55\n",
       "Solace Banks                41\n",
       "B                           10\n",
       "e                            7\n",
       "c                            7\n",
       "r                            6\n",
       "x                            4\n",
       "a                            4\n",
       "o                            2\n",
       "p                            1\n",
       "n                            1\n",
       "Name: paymentMethodIssuer, dtype: int64"
      ]
     },
     "execution_count": 35,
     "metadata": {},
     "output_type": "execute_result"
    }
   ],
   "source": [
    "Customer_data.paymentMethodIssuer.value_counts()"
   ]
  },
  {
   "cell_type": "code",
   "execution_count": 36,
   "metadata": {},
   "outputs": [],
   "source": [
    "Customer_data.loc[Customer_data['paymentMethodIssuer']=='B','paymentMethodIssuer']='Unknown Bank'\n",
    "Customer_data.loc[Customer_data['paymentMethodIssuer']=='a','paymentMethodIssuer']='Unknown Bank'\n",
    "Customer_data.loc[Customer_data['paymentMethodIssuer']=='c','paymentMethodIssuer']='Unknown Bank'\n",
    "Customer_data.loc[Customer_data['paymentMethodIssuer']=='e','paymentMethodIssuer']='Unknown Bank'\n",
    "Customer_data.loc[Customer_data['paymentMethodIssuer']=='n','paymentMethodIssuer']='Unknown Bank'\n",
    "Customer_data.loc[Customer_data['paymentMethodIssuer']=='o','paymentMethodIssuer']='Unknown Bank'\n",
    "Customer_data.loc[Customer_data['paymentMethodIssuer']=='p','paymentMethodIssuer']='Unknown Bank'\n",
    "Customer_data.loc[Customer_data['paymentMethodIssuer']=='r','paymentMethodIssuer']='Unknown Bank'\n",
    "Customer_data.loc[Customer_data['paymentMethodIssuer']=='x','paymentMethodIssuer']='Unknown Bank'"
   ]
  },
  {
   "cell_type": "code",
   "execution_count": 37,
   "metadata": {},
   "outputs": [
    {
     "data": {
      "text/plain": [
       "Her Majesty Trust           66\n",
       "His Majesty Bank Corp.      65\n",
       "Vertex Bancorp              63\n",
       "Fountain Financial Inc.     60\n",
       "Bulwark Trust Corp.         59\n",
       "Rose Bancshares             59\n",
       "Bastion Banks               58\n",
       "Grand Credit Corporation    55\n",
       "Citizens First Banks        55\n",
       "Unknown Bank                42\n",
       "Solace Banks                41\n",
       "Name: paymentMethodIssuer, dtype: int64"
      ]
     },
     "execution_count": 37,
     "metadata": {},
     "output_type": "execute_result"
    }
   ],
   "source": [
    "Customer_data['paymentMethodIssuer'].value_counts()"
   ]
  },
  {
   "cell_type": "code",
   "execution_count": 38,
   "metadata": {},
   "outputs": [
    {
     "data": {
      "text/plain": [
       "<matplotlib.axes._subplots.AxesSubplot at 0x9f7b39e320>"
      ]
     },
     "execution_count": 38,
     "metadata": {},
     "output_type": "execute_result"
    },
    {
     "data": {
      "image/png": "[encoded data removed]",
      "text/plain": [
       "<Figure size 720x360 with 2 Axes>"
      ]
     },
     "metadata": {
      "needs_background": "light"
     },
     "output_type": "display_data"
    }
   ],
   "source": [
    "cc=Customer_data.pivot_table(index='paymentMethodType',columns='paymentMethodIssuer',values='fraudulent')\n",
    "plt.figure(figsize=(10,5))\n",
    "sns.heatmap(cc,cmap='magma',linecolor='White',linewidths=3,annot=True)"
   ]
  },
  {
   "cell_type": "markdown",
   "metadata": {},
   "source": [
    "#The chance of being fraud is more in unknown banks is 100% \n",
    "#1.00 represents 100% chance of being fraud and 0.00 represents 0 % being fraud"
   ]
  },
  {
   "cell_type": "code",
   "execution_count": 39,
   "metadata": {},
   "outputs": [],
   "source": [
    "sn=Customer_data.pivot_table(index='paymentMethodType',columns='paymentMethodProvider',values='fraudulent')"
   ]
  },
  {
   "cell_type": "code",
   "execution_count": 40,
   "metadata": {},
   "outputs": [
    {
     "data": {
      "text/plain": [
       "<matplotlib.axes._subplots.AxesSubplot at 0x9f7bc879b0>"
      ]
     },
     "execution_count": 40,
     "metadata": {},
     "output_type": "execute_result"
    },
    {
     "data": {
      "image/png": "[encoded data removed]",
      "text/plain": [
       "<Figure size 720x360 with 2 Axes>"
      ]
     },
     "metadata": {
      "needs_background": "light"
     },
     "output_type": "display_data"
    }
   ],
   "source": [
    "plt.figure(figsize=(10,5))\n",
    "sns.heatmap(sn,cmap='coolwarm',linecolor='White',linewidths=3,annot=True)"
   ]
  },
  {
   "cell_type": "code",
   "execution_count": 41,
   "metadata": {},
   "outputs": [
    {
     "data": {
      "text/plain": [
       "<matplotlib.axes._subplots.AxesSubplot at 0x9f7bc12c88>"
      ]
     },
     "execution_count": 41,
     "metadata": {},
     "output_type": "execute_result"
    },
    {
     "data": {
      "image/png": "[encoded data removed]",
      "text/plain": [
       "<Figure size 864x576 with 1 Axes>"
      ]
     },
     "metadata": {
      "needs_background": "light"
     },
     "output_type": "display_data"
    }
   ],
   "source": [
    "#we can also see by using visualizations\n",
    "plt.figure(figsize=(12,8))\n",
    "sns.countplot(x='fraudulent',hue='paymentMethodIssuer',data=Customer_data)"
   ]
  },
  {
   "cell_type": "markdown",
   "metadata": {},
   "source": [
    "#Unknown banks showing more fraud count followed by Bulwark Trust Corp so be carful while doing transactions by this banks"
   ]
  },
  {
   "cell_type": "code",
   "execution_count": 42,
   "metadata": {},
   "outputs": [
    {
     "data": {
      "text/plain": [
       "<matplotlib.axes._subplots.AxesSubplot at 0x9f7bd98cc0>"
      ]
     },
     "execution_count": 42,
     "metadata": {},
     "output_type": "execute_result"
    },
    {
     "data": {
      "image/png": "[encoded data removed]",
      "text/plain": [
       "<Figure size 864x576 with 1 Axes>"
      ]
     },
     "metadata": {
      "needs_background": "light"
     },
     "output_type": "display_data"
    }
   ],
   "source": [
    "plt.figure(figsize=(12,8))\n",
    "sns.countplot(x='fraudulent',hue='paymentMethodProvider',data=Customer_data,palette='RdBu_r')"
   ]
  },
  {
   "cell_type": "code",
   "execution_count": 43,
   "metadata": {},
   "outputs": [
    {
     "data": {
      "text/html": [
       "<div>\n",
       "<style scoped>\n",
       "    .dataframe tbody tr th:only-of-type {\n",
       "        vertical-align: middle;\n",
       "    }\n",
       "\n",
       "    .dataframe tbody tr th {\n",
       "        vertical-align: top;\n",
       "    }\n",
       "\n",
       "    .dataframe thead th {\n",
       "        text-align: right;\n",
       "    }\n",
       "</style>\n",
       "<table border=\"1\" class=\"dataframe\">\n",
       "  <thead>\n",
       "    <tr style=\"text-align: right;\">\n",
       "      <th></th>\n",
       "      <th>orderId</th>\n",
       "      <th>paymentMethodId</th>\n",
       "      <th>transactionAmount</th>\n",
       "      <th>transactionFailed</th>\n",
       "      <th>transactionId</th>\n",
       "      <th>paymentMethodIssuer</th>\n",
       "      <th>paymentMethodProvider</th>\n",
       "      <th>paymentMethodRegistrationFailure</th>\n",
       "      <th>paymentMethodType</th>\n",
       "      <th>orderAmount</th>\n",
       "      <th>orderShippingAddress</th>\n",
       "      <th>orderState</th>\n",
       "      <th>fraudulent</th>\n",
       "      <th>customerBillingAddress</th>\n",
       "      <th>customerDevice</th>\n",
       "      <th>customerEmail</th>\n",
       "      <th>customerIPAddress</th>\n",
       "      <th>customerPhone</th>\n",
       "    </tr>\n",
       "  </thead>\n",
       "  <tbody>\n",
       "    <tr>\n",
       "      <th>0</th>\n",
       "      <td>vjbdvd</td>\n",
       "      <td>wt07xm68b</td>\n",
       "      <td>18</td>\n",
       "      <td>0</td>\n",
       "      <td>a9lcj51r</td>\n",
       "      <td>Citizens First Banks</td>\n",
       "      <td>JCB 16 digit</td>\n",
       "      <td>1</td>\n",
       "      <td>card</td>\n",
       "      <td>18</td>\n",
       "      <td>5493 Jones Islands\\nBrownside, CA 51896</td>\n",
       "      <td>pending</td>\n",
       "      <td>0</td>\n",
       "      <td>5493 Jones Islands\\nBrownside, CA 51896</td>\n",
       "      <td>yyeiaxpltf82440jnb3v</td>\n",
       "      <td>josephhoward@yahoo.com</td>\n",
       "      <td>8.129.104.40</td>\n",
       "      <td>400-108-5415</td>\n",
       "    </tr>\n",
       "    <tr>\n",
       "      <th>1</th>\n",
       "      <td>yp6x27</td>\n",
       "      <td>wt07xm68b</td>\n",
       "      <td>26</td>\n",
       "      <td>0</td>\n",
       "      <td>y4wcv03i</td>\n",
       "      <td>Citizens First Banks</td>\n",
       "      <td>JCB 16 digit</td>\n",
       "      <td>1</td>\n",
       "      <td>card</td>\n",
       "      <td>26</td>\n",
       "      <td>5493 Jones Islands\\nBrownside, CA 51896</td>\n",
       "      <td>fulfilled</td>\n",
       "      <td>0</td>\n",
       "      <td>5493 Jones Islands\\nBrownside, CA 51896</td>\n",
       "      <td>yyeiaxpltf82440jnb3v</td>\n",
       "      <td>josephhoward@yahoo.com</td>\n",
       "      <td>8.129.104.40</td>\n",
       "      <td>400-108-5415</td>\n",
       "    </tr>\n",
       "    <tr>\n",
       "      <th>2</th>\n",
       "      <td>nlghpa</td>\n",
       "      <td>41ug157xz</td>\n",
       "      <td>45</td>\n",
       "      <td>0</td>\n",
       "      <td>5mi94sfw</td>\n",
       "      <td>Bastion Banks</td>\n",
       "      <td>American Express</td>\n",
       "      <td>0</td>\n",
       "      <td>bitcoin</td>\n",
       "      <td>45</td>\n",
       "      <td>898 Henry Ports\\nNew Keithview, CA 95893-2497</td>\n",
       "      <td>fulfilled</td>\n",
       "      <td>1</td>\n",
       "      <td>356 Elizabeth Inlet Suite 120\\nPort Joshuabury...</td>\n",
       "      <td>r0jpm7xaeqqa3kr6mzum</td>\n",
       "      <td>evansjeffery@yahoo.com</td>\n",
       "      <td>219.173.211.202</td>\n",
       "      <td>1-788-091-7546</td>\n",
       "    </tr>\n",
       "    <tr>\n",
       "      <th>3</th>\n",
       "      <td>uw0eeb</td>\n",
       "      <td>41ug157xz</td>\n",
       "      <td>23</td>\n",
       "      <td>0</td>\n",
       "      <td>br8ba1nu</td>\n",
       "      <td>Bastion Banks</td>\n",
       "      <td>American Express</td>\n",
       "      <td>0</td>\n",
       "      <td>bitcoin</td>\n",
       "      <td>23</td>\n",
       "      <td>356 Elizabeth Inlet Suite 120\\nPort Joshuabury...</td>\n",
       "      <td>fulfilled</td>\n",
       "      <td>1</td>\n",
       "      <td>356 Elizabeth Inlet Suite 120\\nPort Joshuabury...</td>\n",
       "      <td>r0jpm7xaeqqa3kr6mzum</td>\n",
       "      <td>evansjeffery@yahoo.com</td>\n",
       "      <td>219.173.211.202</td>\n",
       "      <td>1-788-091-7546</td>\n",
       "    </tr>\n",
       "    <tr>\n",
       "      <th>4</th>\n",
       "      <td>bn44oh</td>\n",
       "      <td>y3xp697jx</td>\n",
       "      <td>43</td>\n",
       "      <td>1</td>\n",
       "      <td>a33145ss</td>\n",
       "      <td>Solace Banks</td>\n",
       "      <td>VISA 16 digit</td>\n",
       "      <td>1</td>\n",
       "      <td>bitcoin</td>\n",
       "      <td>43</td>\n",
       "      <td>5093 Bryan Forks\\nJoshuaton, FM 01565-9801</td>\n",
       "      <td>fulfilled</td>\n",
       "      <td>1</td>\n",
       "      <td>356 Elizabeth Inlet Suite 120\\nPort Joshuabury...</td>\n",
       "      <td>r0jpm7xaeqqa3kr6mzum</td>\n",
       "      <td>evansjeffery@yahoo.com</td>\n",
       "      <td>219.173.211.202</td>\n",
       "      <td>1-788-091-7546</td>\n",
       "    </tr>\n",
       "  </tbody>\n",
       "</table>\n",
       "</div>"
      ],
      "text/plain": [
       "  orderId paymentMethodId  transactionAmount  transactionFailed transactionId  \\\n",
       "0  vjbdvd       wt07xm68b                 18                  0      a9lcj51r   \n",
       "1  yp6x27       wt07xm68b                 26                  0      y4wcv03i   \n",
       "2  nlghpa       41ug157xz                 45                  0      5mi94sfw   \n",
       "3  uw0eeb       41ug157xz                 23                  0      br8ba1nu   \n",
       "4  bn44oh       y3xp697jx                 43                  1      a33145ss   \n",
       "\n",
       "    paymentMethodIssuer paymentMethodProvider  \\\n",
       "0  Citizens First Banks          JCB 16 digit   \n",
       "1  Citizens First Banks          JCB 16 digit   \n",
       "2         Bastion Banks      American Express   \n",
       "3         Bastion Banks      American Express   \n",
       "4          Solace Banks         VISA 16 digit   \n",
       "\n",
       "   paymentMethodRegistrationFailure paymentMethodType  orderAmount  \\\n",
       "0                                 1              card           18   \n",
       "1                                 1              card           26   \n",
       "2                                 0           bitcoin           45   \n",
       "3                                 0           bitcoin           23   \n",
       "4                                 1           bitcoin           43   \n",
       "\n",
       "                                orderShippingAddress orderState  fraudulent  \\\n",
       "0            5493 Jones Islands\\nBrownside, CA 51896    pending           0   \n",
       "1            5493 Jones Islands\\nBrownside, CA 51896  fulfilled           0   \n",
       "2      898 Henry Ports\\nNew Keithview, CA 95893-2497  fulfilled           1   \n",
       "3  356 Elizabeth Inlet Suite 120\\nPort Joshuabury...  fulfilled           1   \n",
       "4         5093 Bryan Forks\\nJoshuaton, FM 01565-9801  fulfilled           1   \n",
       "\n",
       "                              customerBillingAddress        customerDevice  \\\n",
       "0            5493 Jones Islands\\nBrownside, CA 51896  yyeiaxpltf82440jnb3v   \n",
       "1            5493 Jones Islands\\nBrownside, CA 51896  yyeiaxpltf82440jnb3v   \n",
       "2  356 Elizabeth Inlet Suite 120\\nPort Joshuabury...  r0jpm7xaeqqa3kr6mzum   \n",
       "3  356 Elizabeth Inlet Suite 120\\nPort Joshuabury...  r0jpm7xaeqqa3kr6mzum   \n",
       "4  356 Elizabeth Inlet Suite 120\\nPort Joshuabury...  r0jpm7xaeqqa3kr6mzum   \n",
       "\n",
       "            customerEmail customerIPAddress   customerPhone  \n",
       "0  josephhoward@yahoo.com      8.129.104.40    400-108-5415  \n",
       "1  josephhoward@yahoo.com      8.129.104.40    400-108-5415  \n",
       "2  evansjeffery@yahoo.com   219.173.211.202  1-788-091-7546  \n",
       "3  evansjeffery@yahoo.com   219.173.211.202  1-788-091-7546  \n",
       "4  evansjeffery@yahoo.com   219.173.211.202  1-788-091-7546  "
      ]
     },
     "execution_count": 43,
     "metadata": {},
     "output_type": "execute_result"
    }
   ],
   "source": [
    "Customer_data.head()"
   ]
  },
  {
   "cell_type": "code",
   "execution_count": 44,
   "metadata": {},
   "outputs": [],
   "source": [
    "#Extract Adress street,city,pincode\n",
    "Customer_data['Customer_Area']=Customer_data['customerBillingAddress'].str.split(\"\\n\",expand=True)[1].str.split(\",\", expand=True)[0]\n",
    "Customer_data['Customer_state']=Customer_data['customerBillingAddress'].str.split(\",\",expand=True)[1].str[:2]\n",
    "Customer_data['Customer_city']=Customer_data['customerBillingAddress'].str.split(\",\",expand=True)[1].str[:3]\n",
    "Customer_data['Customer_street']=Customer_data['customerBillingAddress'].str.split(\"\\n\",expand=True)[0]\n",
    "Customer_data['Customer_pincode']=Customer_data['customerBillingAddress'].str.split(\",\",expand=True)[1].str[3:]"
   ]
  },
  {
   "cell_type": "code",
   "execution_count": 45,
   "metadata": {},
   "outputs": [],
   "source": [
    "Customer_data['ordershipping_Area']=Customer_data['orderShippingAddress'].str.split(\"\\n\",expand=True)[1].str.split(\",\", expand=True)[0]\n",
    "Customer_data['ordershipping_City']=Customer_data['orderShippingAddress'].str.split(\",\",expand=True)[1].str[:3]\n",
    "Customer_data['ordershipping_state']=Customer_data['orderShippingAddress'].str.split(\",\",expand=True)[1].str[:2]\n",
    "Customer_data['ordershipping_street']=Customer_data['orderShippingAddress'].str.split(\"\\n\",expand=True)[0]\n",
    "Customer_data['ordershipping_pincode']=Customer_data['orderShippingAddress'].str.split(\",\",expand=True)[1].str[3:]"
   ]
  },
  {
   "cell_type": "code",
   "execution_count": 46,
   "metadata": {},
   "outputs": [],
   "source": [
    "df=Customer_data.drop(['customerBillingAddress','orderShippingAddress'],axis=1)"
   ]
  },
  {
   "cell_type": "code",
   "execution_count": 47,
   "metadata": {},
   "outputs": [
    {
     "data": {
      "text/html": [
       "<div>\n",
       "<style scoped>\n",
       "    .dataframe tbody tr th:only-of-type {\n",
       "        vertical-align: middle;\n",
       "    }\n",
       "\n",
       "    .dataframe tbody tr th {\n",
       "        vertical-align: top;\n",
       "    }\n",
       "\n",
       "    .dataframe thead th {\n",
       "        text-align: right;\n",
       "    }\n",
       "</style>\n",
       "<table border=\"1\" class=\"dataframe\">\n",
       "  <thead>\n",
       "    <tr style=\"text-align: right;\">\n",
       "      <th></th>\n",
       "      <th>orderId</th>\n",
       "      <th>paymentMethodId</th>\n",
       "      <th>transactionAmount</th>\n",
       "      <th>transactionFailed</th>\n",
       "      <th>transactionId</th>\n",
       "      <th>paymentMethodIssuer</th>\n",
       "      <th>paymentMethodProvider</th>\n",
       "      <th>paymentMethodRegistrationFailure</th>\n",
       "      <th>paymentMethodType</th>\n",
       "      <th>orderAmount</th>\n",
       "      <th>...</th>\n",
       "      <th>Customer_Area</th>\n",
       "      <th>Customer_state</th>\n",
       "      <th>Customer_city</th>\n",
       "      <th>Customer_street</th>\n",
       "      <th>Customer_pincode</th>\n",
       "      <th>ordershipping_Area</th>\n",
       "      <th>ordershipping_City</th>\n",
       "      <th>ordershipping_state</th>\n",
       "      <th>ordershipping_street</th>\n",
       "      <th>ordershipping_pincode</th>\n",
       "    </tr>\n",
       "  </thead>\n",
       "  <tbody>\n",
       "    <tr>\n",
       "      <th>0</th>\n",
       "      <td>vjbdvd</td>\n",
       "      <td>wt07xm68b</td>\n",
       "      <td>18</td>\n",
       "      <td>0</td>\n",
       "      <td>a9lcj51r</td>\n",
       "      <td>Citizens First Banks</td>\n",
       "      <td>JCB 16 digit</td>\n",
       "      <td>1</td>\n",
       "      <td>card</td>\n",
       "      <td>18</td>\n",
       "      <td>...</td>\n",
       "      <td>Brownside</td>\n",
       "      <td>C</td>\n",
       "      <td>CA</td>\n",
       "      <td>5493 Jones Islands</td>\n",
       "      <td>51896</td>\n",
       "      <td>Brownside</td>\n",
       "      <td>CA</td>\n",
       "      <td>C</td>\n",
       "      <td>5493 Jones Islands</td>\n",
       "      <td>51896</td>\n",
       "    </tr>\n",
       "    <tr>\n",
       "      <th>1</th>\n",
       "      <td>yp6x27</td>\n",
       "      <td>wt07xm68b</td>\n",
       "      <td>26</td>\n",
       "      <td>0</td>\n",
       "      <td>y4wcv03i</td>\n",
       "      <td>Citizens First Banks</td>\n",
       "      <td>JCB 16 digit</td>\n",
       "      <td>1</td>\n",
       "      <td>card</td>\n",
       "      <td>26</td>\n",
       "      <td>...</td>\n",
       "      <td>Brownside</td>\n",
       "      <td>C</td>\n",
       "      <td>CA</td>\n",
       "      <td>5493 Jones Islands</td>\n",
       "      <td>51896</td>\n",
       "      <td>Brownside</td>\n",
       "      <td>CA</td>\n",
       "      <td>C</td>\n",
       "      <td>5493 Jones Islands</td>\n",
       "      <td>51896</td>\n",
       "    </tr>\n",
       "    <tr>\n",
       "      <th>2</th>\n",
       "      <td>nlghpa</td>\n",
       "      <td>41ug157xz</td>\n",
       "      <td>45</td>\n",
       "      <td>0</td>\n",
       "      <td>5mi94sfw</td>\n",
       "      <td>Bastion Banks</td>\n",
       "      <td>American Express</td>\n",
       "      <td>0</td>\n",
       "      <td>bitcoin</td>\n",
       "      <td>45</td>\n",
       "      <td>...</td>\n",
       "      <td>Port Joshuabury</td>\n",
       "      <td>N</td>\n",
       "      <td>NM</td>\n",
       "      <td>356 Elizabeth Inlet Suite 120</td>\n",
       "      <td>37681</td>\n",
       "      <td>New Keithview</td>\n",
       "      <td>CA</td>\n",
       "      <td>C</td>\n",
       "      <td>898 Henry Ports</td>\n",
       "      <td>95893-2497</td>\n",
       "    </tr>\n",
       "    <tr>\n",
       "      <th>3</th>\n",
       "      <td>uw0eeb</td>\n",
       "      <td>41ug157xz</td>\n",
       "      <td>23</td>\n",
       "      <td>0</td>\n",
       "      <td>br8ba1nu</td>\n",
       "      <td>Bastion Banks</td>\n",
       "      <td>American Express</td>\n",
       "      <td>0</td>\n",
       "      <td>bitcoin</td>\n",
       "      <td>23</td>\n",
       "      <td>...</td>\n",
       "      <td>Port Joshuabury</td>\n",
       "      <td>N</td>\n",
       "      <td>NM</td>\n",
       "      <td>356 Elizabeth Inlet Suite 120</td>\n",
       "      <td>37681</td>\n",
       "      <td>Port Joshuabury</td>\n",
       "      <td>NM</td>\n",
       "      <td>N</td>\n",
       "      <td>356 Elizabeth Inlet Suite 120</td>\n",
       "      <td>37681</td>\n",
       "    </tr>\n",
       "    <tr>\n",
       "      <th>4</th>\n",
       "      <td>bn44oh</td>\n",
       "      <td>y3xp697jx</td>\n",
       "      <td>43</td>\n",
       "      <td>1</td>\n",
       "      <td>a33145ss</td>\n",
       "      <td>Solace Banks</td>\n",
       "      <td>VISA 16 digit</td>\n",
       "      <td>1</td>\n",
       "      <td>bitcoin</td>\n",
       "      <td>43</td>\n",
       "      <td>...</td>\n",
       "      <td>Port Joshuabury</td>\n",
       "      <td>N</td>\n",
       "      <td>NM</td>\n",
       "      <td>356 Elizabeth Inlet Suite 120</td>\n",
       "      <td>37681</td>\n",
       "      <td>Joshuaton</td>\n",
       "      <td>FM</td>\n",
       "      <td>F</td>\n",
       "      <td>5093 Bryan Forks</td>\n",
       "      <td>01565-9801</td>\n",
       "    </tr>\n",
       "  </tbody>\n",
       "</table>\n",
       "<p>5 rows × 26 columns</p>\n",
       "</div>"
      ],
      "text/plain": [
       "  orderId paymentMethodId  transactionAmount  transactionFailed transactionId  \\\n",
       "0  vjbdvd       wt07xm68b                 18                  0      a9lcj51r   \n",
       "1  yp6x27       wt07xm68b                 26                  0      y4wcv03i   \n",
       "2  nlghpa       41ug157xz                 45                  0      5mi94sfw   \n",
       "3  uw0eeb       41ug157xz                 23                  0      br8ba1nu   \n",
       "4  bn44oh       y3xp697jx                 43                  1      a33145ss   \n",
       "\n",
       "    paymentMethodIssuer paymentMethodProvider  \\\n",
       "0  Citizens First Banks          JCB 16 digit   \n",
       "1  Citizens First Banks          JCB 16 digit   \n",
       "2         Bastion Banks      American Express   \n",
       "3         Bastion Banks      American Express   \n",
       "4          Solace Banks         VISA 16 digit   \n",
       "\n",
       "   paymentMethodRegistrationFailure paymentMethodType  orderAmount  ...  \\\n",
       "0                                 1              card           18  ...   \n",
       "1                                 1              card           26  ...   \n",
       "2                                 0           bitcoin           45  ...   \n",
       "3                                 0           bitcoin           23  ...   \n",
       "4                                 1           bitcoin           43  ...   \n",
       "\n",
       "     Customer_Area  Customer_state Customer_city  \\\n",
       "0        Brownside               C            CA   \n",
       "1        Brownside               C            CA   \n",
       "2  Port Joshuabury               N            NM   \n",
       "3  Port Joshuabury               N            NM   \n",
       "4  Port Joshuabury               N            NM   \n",
       "\n",
       "                 Customer_street Customer_pincode ordershipping_Area  \\\n",
       "0             5493 Jones Islands            51896          Brownside   \n",
       "1             5493 Jones Islands            51896          Brownside   \n",
       "2  356 Elizabeth Inlet Suite 120            37681      New Keithview   \n",
       "3  356 Elizabeth Inlet Suite 120            37681    Port Joshuabury   \n",
       "4  356 Elizabeth Inlet Suite 120            37681          Joshuaton   \n",
       "\n",
       "  ordershipping_City ordershipping_state           ordershipping_street  \\\n",
       "0                 CA                   C             5493 Jones Islands   \n",
       "1                 CA                   C             5493 Jones Islands   \n",
       "2                 CA                   C                898 Henry Ports   \n",
       "3                 NM                   N  356 Elizabeth Inlet Suite 120   \n",
       "4                 FM                   F               5093 Bryan Forks   \n",
       "\n",
       "  ordershipping_pincode  \n",
       "0                 51896  \n",
       "1                 51896  \n",
       "2            95893-2497  \n",
       "3                 37681  \n",
       "4            01565-9801  \n",
       "\n",
       "[5 rows x 26 columns]"
      ]
     },
     "execution_count": 47,
     "metadata": {},
     "output_type": "execute_result"
    }
   ],
   "source": [
    "df.head()"
   ]
  },
  {
   "cell_type": "code",
   "execution_count": 48,
   "metadata": {},
   "outputs": [
    {
     "data": {
      "text/plain": [
       "orderId                             object\n",
       "paymentMethodId                     object\n",
       "transactionAmount                    int64\n",
       "transactionFailed                    int64\n",
       "transactionId                       object\n",
       "paymentMethodIssuer                 object\n",
       "paymentMethodProvider               object\n",
       "paymentMethodRegistrationFailure     int64\n",
       "paymentMethodType                   object\n",
       "orderAmount                          int64\n",
       "orderState                          object\n",
       "fraudulent                           int64\n",
       "customerDevice                      object\n",
       "customerEmail                       object\n",
       "customerIPAddress                   object\n",
       "customerPhone                       object\n",
       "Customer_Area                       object\n",
       "Customer_state                      object\n",
       "Customer_city                       object\n",
       "Customer_street                     object\n",
       "Customer_pincode                    object\n",
       "ordershipping_Area                  object\n",
       "ordershipping_City                  object\n",
       "ordershipping_state                 object\n",
       "ordershipping_street                object\n",
       "ordershipping_pincode               object\n",
       "dtype: object"
      ]
     },
     "execution_count": 48,
     "metadata": {},
     "output_type": "execute_result"
    }
   ],
   "source": [
    "df.dtypes"
   ]
  },
  {
   "cell_type": "code",
   "execution_count": 49,
   "metadata": {},
   "outputs": [],
   "source": [
    "df=df.drop(['orderId','paymentMethodId','transactionId','transactionAmount','Customer_street','ordershipping_street'],axis=1)"
   ]
  },
  {
   "cell_type": "code",
   "execution_count": 50,
   "metadata": {},
   "outputs": [
    {
     "data": {
      "text/html": [
       "<div>\n",
       "<style scoped>\n",
       "    .dataframe tbody tr th:only-of-type {\n",
       "        vertical-align: middle;\n",
       "    }\n",
       "\n",
       "    .dataframe tbody tr th {\n",
       "        vertical-align: top;\n",
       "    }\n",
       "\n",
       "    .dataframe thead th {\n",
       "        text-align: right;\n",
       "    }\n",
       "</style>\n",
       "<table border=\"1\" class=\"dataframe\">\n",
       "  <thead>\n",
       "    <tr style=\"text-align: right;\">\n",
       "      <th></th>\n",
       "      <th>transactionFailed</th>\n",
       "      <th>paymentMethodIssuer</th>\n",
       "      <th>paymentMethodProvider</th>\n",
       "      <th>paymentMethodRegistrationFailure</th>\n",
       "      <th>paymentMethodType</th>\n",
       "      <th>orderAmount</th>\n",
       "      <th>orderState</th>\n",
       "      <th>fraudulent</th>\n",
       "      <th>customerDevice</th>\n",
       "      <th>customerEmail</th>\n",
       "      <th>customerIPAddress</th>\n",
       "      <th>customerPhone</th>\n",
       "      <th>Customer_Area</th>\n",
       "      <th>Customer_state</th>\n",
       "      <th>Customer_city</th>\n",
       "      <th>Customer_pincode</th>\n",
       "      <th>ordershipping_Area</th>\n",
       "      <th>ordershipping_City</th>\n",
       "      <th>ordershipping_state</th>\n",
       "      <th>ordershipping_pincode</th>\n",
       "    </tr>\n",
       "  </thead>\n",
       "  <tbody>\n",
       "    <tr>\n",
       "      <th>0</th>\n",
       "      <td>0</td>\n",
       "      <td>Citizens First Banks</td>\n",
       "      <td>JCB 16 digit</td>\n",
       "      <td>1</td>\n",
       "      <td>card</td>\n",
       "      <td>18</td>\n",
       "      <td>pending</td>\n",
       "      <td>0</td>\n",
       "      <td>yyeiaxpltf82440jnb3v</td>\n",
       "      <td>josephhoward@yahoo.com</td>\n",
       "      <td>8.129.104.40</td>\n",
       "      <td>400-108-5415</td>\n",
       "      <td>Brownside</td>\n",
       "      <td>C</td>\n",
       "      <td>CA</td>\n",
       "      <td>51896</td>\n",
       "      <td>Brownside</td>\n",
       "      <td>CA</td>\n",
       "      <td>C</td>\n",
       "      <td>51896</td>\n",
       "    </tr>\n",
       "    <tr>\n",
       "      <th>1</th>\n",
       "      <td>0</td>\n",
       "      <td>Citizens First Banks</td>\n",
       "      <td>JCB 16 digit</td>\n",
       "      <td>1</td>\n",
       "      <td>card</td>\n",
       "      <td>26</td>\n",
       "      <td>fulfilled</td>\n",
       "      <td>0</td>\n",
       "      <td>yyeiaxpltf82440jnb3v</td>\n",
       "      <td>josephhoward@yahoo.com</td>\n",
       "      <td>8.129.104.40</td>\n",
       "      <td>400-108-5415</td>\n",
       "      <td>Brownside</td>\n",
       "      <td>C</td>\n",
       "      <td>CA</td>\n",
       "      <td>51896</td>\n",
       "      <td>Brownside</td>\n",
       "      <td>CA</td>\n",
       "      <td>C</td>\n",
       "      <td>51896</td>\n",
       "    </tr>\n",
       "    <tr>\n",
       "      <th>2</th>\n",
       "      <td>0</td>\n",
       "      <td>Bastion Banks</td>\n",
       "      <td>American Express</td>\n",
       "      <td>0</td>\n",
       "      <td>bitcoin</td>\n",
       "      <td>45</td>\n",
       "      <td>fulfilled</td>\n",
       "      <td>1</td>\n",
       "      <td>r0jpm7xaeqqa3kr6mzum</td>\n",
       "      <td>evansjeffery@yahoo.com</td>\n",
       "      <td>219.173.211.202</td>\n",
       "      <td>1-788-091-7546</td>\n",
       "      <td>Port Joshuabury</td>\n",
       "      <td>N</td>\n",
       "      <td>NM</td>\n",
       "      <td>37681</td>\n",
       "      <td>New Keithview</td>\n",
       "      <td>CA</td>\n",
       "      <td>C</td>\n",
       "      <td>95893-2497</td>\n",
       "    </tr>\n",
       "    <tr>\n",
       "      <th>3</th>\n",
       "      <td>0</td>\n",
       "      <td>Bastion Banks</td>\n",
       "      <td>American Express</td>\n",
       "      <td>0</td>\n",
       "      <td>bitcoin</td>\n",
       "      <td>23</td>\n",
       "      <td>fulfilled</td>\n",
       "      <td>1</td>\n",
       "      <td>r0jpm7xaeqqa3kr6mzum</td>\n",
       "      <td>evansjeffery@yahoo.com</td>\n",
       "      <td>219.173.211.202</td>\n",
       "      <td>1-788-091-7546</td>\n",
       "      <td>Port Joshuabury</td>\n",
       "      <td>N</td>\n",
       "      <td>NM</td>\n",
       "      <td>37681</td>\n",
       "      <td>Port Joshuabury</td>\n",
       "      <td>NM</td>\n",
       "      <td>N</td>\n",
       "      <td>37681</td>\n",
       "    </tr>\n",
       "    <tr>\n",
       "      <th>4</th>\n",
       "      <td>1</td>\n",
       "      <td>Solace Banks</td>\n",
       "      <td>VISA 16 digit</td>\n",
       "      <td>1</td>\n",
       "      <td>bitcoin</td>\n",
       "      <td>43</td>\n",
       "      <td>fulfilled</td>\n",
       "      <td>1</td>\n",
       "      <td>r0jpm7xaeqqa3kr6mzum</td>\n",
       "      <td>evansjeffery@yahoo.com</td>\n",
       "      <td>219.173.211.202</td>\n",
       "      <td>1-788-091-7546</td>\n",
       "      <td>Port Joshuabury</td>\n",
       "      <td>N</td>\n",
       "      <td>NM</td>\n",
       "      <td>37681</td>\n",
       "      <td>Joshuaton</td>\n",
       "      <td>FM</td>\n",
       "      <td>F</td>\n",
       "      <td>01565-9801</td>\n",
       "    </tr>\n",
       "  </tbody>\n",
       "</table>\n",
       "</div>"
      ],
      "text/plain": [
       "   transactionFailed   paymentMethodIssuer paymentMethodProvider  \\\n",
       "0                  0  Citizens First Banks          JCB 16 digit   \n",
       "1                  0  Citizens First Banks          JCB 16 digit   \n",
       "2                  0         Bastion Banks      American Express   \n",
       "3                  0         Bastion Banks      American Express   \n",
       "4                  1          Solace Banks         VISA 16 digit   \n",
       "\n",
       "   paymentMethodRegistrationFailure paymentMethodType  orderAmount orderState  \\\n",
       "0                                 1              card           18    pending   \n",
       "1                                 1              card           26  fulfilled   \n",
       "2                                 0           bitcoin           45  fulfilled   \n",
       "3                                 0           bitcoin           23  fulfilled   \n",
       "4                                 1           bitcoin           43  fulfilled   \n",
       "\n",
       "   fraudulent        customerDevice           customerEmail customerIPAddress  \\\n",
       "0           0  yyeiaxpltf82440jnb3v  josephhoward@yahoo.com      8.129.104.40   \n",
       "1           0  yyeiaxpltf82440jnb3v  josephhoward@yahoo.com      8.129.104.40   \n",
       "2           1  r0jpm7xaeqqa3kr6mzum  evansjeffery@yahoo.com   219.173.211.202   \n",
       "3           1  r0jpm7xaeqqa3kr6mzum  evansjeffery@yahoo.com   219.173.211.202   \n",
       "4           1  r0jpm7xaeqqa3kr6mzum  evansjeffery@yahoo.com   219.173.211.202   \n",
       "\n",
       "    customerPhone    Customer_Area Customer_state Customer_city  \\\n",
       "0    400-108-5415        Brownside              C            CA   \n",
       "1    400-108-5415        Brownside              C            CA   \n",
       "2  1-788-091-7546  Port Joshuabury              N            NM   \n",
       "3  1-788-091-7546  Port Joshuabury              N            NM   \n",
       "4  1-788-091-7546  Port Joshuabury              N            NM   \n",
       "\n",
       "  Customer_pincode ordershipping_Area ordershipping_City ordershipping_state  \\\n",
       "0            51896          Brownside                 CA                   C   \n",
       "1            51896          Brownside                 CA                   C   \n",
       "2            37681      New Keithview                 CA                   C   \n",
       "3            37681    Port Joshuabury                 NM                   N   \n",
       "4            37681          Joshuaton                 FM                   F   \n",
       "\n",
       "  ordershipping_pincode  \n",
       "0                 51896  \n",
       "1                 51896  \n",
       "2            95893-2497  \n",
       "3                 37681  \n",
       "4            01565-9801  "
      ]
     },
     "execution_count": 50,
     "metadata": {},
     "output_type": "execute_result"
    }
   ],
   "source": [
    "df.head()"
   ]
  },
  {
   "cell_type": "code",
   "execution_count": 51,
   "metadata": {},
   "outputs": [
    {
     "data": {
      "text/plain": [
       "fulfilled    516\n",
       "failed        63\n",
       "pending       44\n",
       "Name: orderState, dtype: int64"
      ]
     },
     "execution_count": 51,
     "metadata": {},
     "output_type": "execute_result"
    }
   ],
   "source": [
    "df['orderState'].value_counts()"
   ]
  },
  {
   "cell_type": "code",
   "execution_count": 52,
   "metadata": {},
   "outputs": [],
   "source": [
    "df.loc[df['orderState']=='fulfilled','orderState']='1'\n",
    "df.loc[df['orderState']=='failed','orderState']='0'\n",
    "df.loc[df['orderState']=='pending','orderState']='2'"
   ]
  },
  {
   "cell_type": "code",
   "execution_count": 53,
   "metadata": {},
   "outputs": [
    {
     "data": {
      "text/html": [
       "<div>\n",
       "<style scoped>\n",
       "    .dataframe tbody tr th:only-of-type {\n",
       "        vertical-align: middle;\n",
       "    }\n",
       "\n",
       "    .dataframe tbody tr th {\n",
       "        vertical-align: top;\n",
       "    }\n",
       "\n",
       "    .dataframe thead th {\n",
       "        text-align: right;\n",
       "    }\n",
       "</style>\n",
       "<table border=\"1\" class=\"dataframe\">\n",
       "  <thead>\n",
       "    <tr style=\"text-align: right;\">\n",
       "      <th></th>\n",
       "      <th>transactionFailed</th>\n",
       "      <th>paymentMethodIssuer</th>\n",
       "      <th>paymentMethodProvider</th>\n",
       "      <th>paymentMethodRegistrationFailure</th>\n",
       "      <th>paymentMethodType</th>\n",
       "      <th>orderAmount</th>\n",
       "      <th>orderState</th>\n",
       "      <th>fraudulent</th>\n",
       "      <th>customerDevice</th>\n",
       "      <th>customerEmail</th>\n",
       "      <th>customerIPAddress</th>\n",
       "      <th>customerPhone</th>\n",
       "      <th>Customer_Area</th>\n",
       "      <th>Customer_state</th>\n",
       "      <th>Customer_city</th>\n",
       "      <th>Customer_pincode</th>\n",
       "      <th>ordershipping_Area</th>\n",
       "      <th>ordershipping_City</th>\n",
       "      <th>ordershipping_state</th>\n",
       "      <th>ordershipping_pincode</th>\n",
       "    </tr>\n",
       "  </thead>\n",
       "  <tbody>\n",
       "    <tr>\n",
       "      <th>0</th>\n",
       "      <td>0</td>\n",
       "      <td>Citizens First Banks</td>\n",
       "      <td>JCB 16 digit</td>\n",
       "      <td>1</td>\n",
       "      <td>card</td>\n",
       "      <td>18</td>\n",
       "      <td>2</td>\n",
       "      <td>0</td>\n",
       "      <td>yyeiaxpltf82440jnb3v</td>\n",
       "      <td>josephhoward@yahoo.com</td>\n",
       "      <td>8.129.104.40</td>\n",
       "      <td>400-108-5415</td>\n",
       "      <td>Brownside</td>\n",
       "      <td>C</td>\n",
       "      <td>CA</td>\n",
       "      <td>51896</td>\n",
       "      <td>Brownside</td>\n",
       "      <td>CA</td>\n",
       "      <td>C</td>\n",
       "      <td>51896</td>\n",
       "    </tr>\n",
       "    <tr>\n",
       "      <th>1</th>\n",
       "      <td>0</td>\n",
       "      <td>Citizens First Banks</td>\n",
       "      <td>JCB 16 digit</td>\n",
       "      <td>1</td>\n",
       "      <td>card</td>\n",
       "      <td>26</td>\n",
       "      <td>1</td>\n",
       "      <td>0</td>\n",
       "      <td>yyeiaxpltf82440jnb3v</td>\n",
       "      <td>josephhoward@yahoo.com</td>\n",
       "      <td>8.129.104.40</td>\n",
       "      <td>400-108-5415</td>\n",
       "      <td>Brownside</td>\n",
       "      <td>C</td>\n",
       "      <td>CA</td>\n",
       "      <td>51896</td>\n",
       "      <td>Brownside</td>\n",
       "      <td>CA</td>\n",
       "      <td>C</td>\n",
       "      <td>51896</td>\n",
       "    </tr>\n",
       "    <tr>\n",
       "      <th>2</th>\n",
       "      <td>0</td>\n",
       "      <td>Bastion Banks</td>\n",
       "      <td>American Express</td>\n",
       "      <td>0</td>\n",
       "      <td>bitcoin</td>\n",
       "      <td>45</td>\n",
       "      <td>1</td>\n",
       "      <td>1</td>\n",
       "      <td>r0jpm7xaeqqa3kr6mzum</td>\n",
       "      <td>evansjeffery@yahoo.com</td>\n",
       "      <td>219.173.211.202</td>\n",
       "      <td>1-788-091-7546</td>\n",
       "      <td>Port Joshuabury</td>\n",
       "      <td>N</td>\n",
       "      <td>NM</td>\n",
       "      <td>37681</td>\n",
       "      <td>New Keithview</td>\n",
       "      <td>CA</td>\n",
       "      <td>C</td>\n",
       "      <td>95893-2497</td>\n",
       "    </tr>\n",
       "    <tr>\n",
       "      <th>3</th>\n",
       "      <td>0</td>\n",
       "      <td>Bastion Banks</td>\n",
       "      <td>American Express</td>\n",
       "      <td>0</td>\n",
       "      <td>bitcoin</td>\n",
       "      <td>23</td>\n",
       "      <td>1</td>\n",
       "      <td>1</td>\n",
       "      <td>r0jpm7xaeqqa3kr6mzum</td>\n",
       "      <td>evansjeffery@yahoo.com</td>\n",
       "      <td>219.173.211.202</td>\n",
       "      <td>1-788-091-7546</td>\n",
       "      <td>Port Joshuabury</td>\n",
       "      <td>N</td>\n",
       "      <td>NM</td>\n",
       "      <td>37681</td>\n",
       "      <td>Port Joshuabury</td>\n",
       "      <td>NM</td>\n",
       "      <td>N</td>\n",
       "      <td>37681</td>\n",
       "    </tr>\n",
       "    <tr>\n",
       "      <th>4</th>\n",
       "      <td>1</td>\n",
       "      <td>Solace Banks</td>\n",
       "      <td>VISA 16 digit</td>\n",
       "      <td>1</td>\n",
       "      <td>bitcoin</td>\n",
       "      <td>43</td>\n",
       "      <td>1</td>\n",
       "      <td>1</td>\n",
       "      <td>r0jpm7xaeqqa3kr6mzum</td>\n",
       "      <td>evansjeffery@yahoo.com</td>\n",
       "      <td>219.173.211.202</td>\n",
       "      <td>1-788-091-7546</td>\n",
       "      <td>Port Joshuabury</td>\n",
       "      <td>N</td>\n",
       "      <td>NM</td>\n",
       "      <td>37681</td>\n",
       "      <td>Joshuaton</td>\n",
       "      <td>FM</td>\n",
       "      <td>F</td>\n",
       "      <td>01565-9801</td>\n",
       "    </tr>\n",
       "  </tbody>\n",
       "</table>\n",
       "</div>"
      ],
      "text/plain": [
       "   transactionFailed   paymentMethodIssuer paymentMethodProvider  \\\n",
       "0                  0  Citizens First Banks          JCB 16 digit   \n",
       "1                  0  Citizens First Banks          JCB 16 digit   \n",
       "2                  0         Bastion Banks      American Express   \n",
       "3                  0         Bastion Banks      American Express   \n",
       "4                  1          Solace Banks         VISA 16 digit   \n",
       "\n",
       "   paymentMethodRegistrationFailure paymentMethodType  orderAmount orderState  \\\n",
       "0                                 1              card           18          2   \n",
       "1                                 1              card           26          1   \n",
       "2                                 0           bitcoin           45          1   \n",
       "3                                 0           bitcoin           23          1   \n",
       "4                                 1           bitcoin           43          1   \n",
       "\n",
       "   fraudulent        customerDevice           customerEmail customerIPAddress  \\\n",
       "0           0  yyeiaxpltf82440jnb3v  josephhoward@yahoo.com      8.129.104.40   \n",
       "1           0  yyeiaxpltf82440jnb3v  josephhoward@yahoo.com      8.129.104.40   \n",
       "2           1  r0jpm7xaeqqa3kr6mzum  evansjeffery@yahoo.com   219.173.211.202   \n",
       "3           1  r0jpm7xaeqqa3kr6mzum  evansjeffery@yahoo.com   219.173.211.202   \n",
       "4           1  r0jpm7xaeqqa3kr6mzum  evansjeffery@yahoo.com   219.173.211.202   \n",
       "\n",
       "    customerPhone    Customer_Area Customer_state Customer_city  \\\n",
       "0    400-108-5415        Brownside              C            CA   \n",
       "1    400-108-5415        Brownside              C            CA   \n",
       "2  1-788-091-7546  Port Joshuabury              N            NM   \n",
       "3  1-788-091-7546  Port Joshuabury              N            NM   \n",
       "4  1-788-091-7546  Port Joshuabury              N            NM   \n",
       "\n",
       "  Customer_pincode ordershipping_Area ordershipping_City ordershipping_state  \\\n",
       "0            51896          Brownside                 CA                   C   \n",
       "1            51896          Brownside                 CA                   C   \n",
       "2            37681      New Keithview                 CA                   C   \n",
       "3            37681    Port Joshuabury                 NM                   N   \n",
       "4            37681          Joshuaton                 FM                   F   \n",
       "\n",
       "  ordershipping_pincode  \n",
       "0                 51896  \n",
       "1                 51896  \n",
       "2            95893-2497  \n",
       "3                 37681  \n",
       "4            01565-9801  "
      ]
     },
     "execution_count": 53,
     "metadata": {},
     "output_type": "execute_result"
    }
   ],
   "source": [
    "df.head()"
   ]
  },
  {
   "cell_type": "code",
   "execution_count": 54,
   "metadata": {},
   "outputs": [
    {
     "data": {
      "text/plain": [
       "<matplotlib.axes._subplots.AxesSubplot at 0x9f7be19160>"
      ]
     },
     "execution_count": 54,
     "metadata": {},
     "output_type": "execute_result"
    },
    {
     "data": {
      "image/png": "[encoded data removed]",
      "text/plain": [
       "<Figure size 432x288 with 1 Axes>"
      ]
     },
     "metadata": {
      "needs_background": "light"
     },
     "output_type": "display_data"
    }
   ],
   "source": [
    "df.groupby('orderState')['fraudulent'].mean().plot(kind='bar', stacked=True, colormap='Paired')"
   ]
  },
  {
   "cell_type": "code",
   "execution_count": 55,
   "metadata": {},
   "outputs": [
    {
     "data": {
      "text/plain": [
       "<matplotlib.axes._subplots.AxesSubplot at 0x9f7c2396a0>"
      ]
     },
     "execution_count": 55,
     "metadata": {},
     "output_type": "execute_result"
    },
    {
     "data": {
      "image/png": "[encoded data removed]",
      "text/plain": [
       "<Figure size 864x576 with 1 Axes>"
      ]
     },
     "metadata": {
      "needs_background": "light"
     },
     "output_type": "display_data"
    }
   ],
   "source": [
    "import matplotlib.pyplot as plt\n",
    "plt.figure(figsize=(12,8))\n",
    "df.groupby('Customer_state')['fraudulent'].mean().plot.bar()#state wise"
   ]
  },
  {
   "cell_type": "markdown",
   "metadata": {},
   "source": [
    "#By seeing above plot we can say that States D and S shows 0% chance of fraud while L and O shows 70% being fraud"
   ]
  },
  {
   "cell_type": "code",
   "execution_count": 56,
   "metadata": {},
   "outputs": [
    {
     "data": {
      "text/plain": [
       "<matplotlib.axes._subplots.AxesSubplot at 0x9f7c2bb7f0>"
      ]
     },
     "execution_count": 56,
     "metadata": {},
     "output_type": "execute_result"
    },
    {
     "data": {
      "image/png": "[encoded data removed]",
      "text/plain": [
       "<Figure size 864x576 with 1 Axes>"
      ]
     },
     "metadata": {
      "needs_background": "light"
     },
     "output_type": "display_data"
    }
   ],
   "source": [
    "#lets see city wise\n",
    "plt.figure(figsize=(12,8))\n",
    "my_colors = [(0.5,0.4,0.5), (0.75, 0.75, 0.25)]*5\n",
    "df.groupby('Customer_city')['fraudulent'].mean().plot(kind='bar', stacked=True, color=my_colors)"
   ]
  },
  {
   "cell_type": "markdown",
   "metadata": {},
   "source": [
    "#City wise we can see that AL,AR,MS,NV,Ok,VA,VI,WV shows 100% of being fraud\n"
   ]
  },
  {
   "cell_type": "code",
   "execution_count": 57,
   "metadata": {},
   "outputs": [],
   "source": [
    "dd=Customer_data.pivot_table(index='Customer_state',columns='paymentMethodIssuer',values='fraudulent')"
   ]
  },
  {
   "cell_type": "code",
   "execution_count": 58,
   "metadata": {},
   "outputs": [
    {
     "data": {
      "text/plain": [
       "<matplotlib.axes._subplots.AxesSubplot at 0x9f7c36c9b0>"
      ]
     },
     "execution_count": 58,
     "metadata": {},
     "output_type": "execute_result"
    },
    {
     "data": {
      "image/png": "[encoded data removed]",
      "text/plain": [
       "<Figure size 1080x720 with 2 Axes>"
      ]
     },
     "metadata": {
      "needs_background": "light"
     },
     "output_type": "display_data"
    }
   ],
   "source": [
    "plt.figure(figsize=(15,10))\n",
    "sns.heatmap(dd,cmap='coolwarm',linewidth=3,linecolor='white',annot=True)"
   ]
  },
  {
   "cell_type": "markdown",
   "metadata": {},
   "source": [
    "we can see that in \"A\" state Fountain Finanicial and unkown banks shows 100% fraud like wise we can see remaining banks"
   ]
  },
  {
   "cell_type": "code",
   "execution_count": 59,
   "metadata": {},
   "outputs": [],
   "source": [
    "#Lets extract Customer name from Email\n",
    "df['customer_name']=df['customerEmail'].str.split('@',expand=True)[0]\n",
    "df['customer_mailing_websites']=df['customerEmail'].str.split('@',expand=True)[1]"
   ]
  },
  {
   "cell_type": "code",
   "execution_count": 60,
   "metadata": {},
   "outputs": [
    {
     "data": {
      "text/html": [
       "<div>\n",
       "<style scoped>\n",
       "    .dataframe tbody tr th:only-of-type {\n",
       "        vertical-align: middle;\n",
       "    }\n",
       "\n",
       "    .dataframe tbody tr th {\n",
       "        vertical-align: top;\n",
       "    }\n",
       "\n",
       "    .dataframe thead th {\n",
       "        text-align: right;\n",
       "    }\n",
       "</style>\n",
       "<table border=\"1\" class=\"dataframe\">\n",
       "  <thead>\n",
       "    <tr style=\"text-align: right;\">\n",
       "      <th></th>\n",
       "      <th>transactionFailed</th>\n",
       "      <th>paymentMethodIssuer</th>\n",
       "      <th>paymentMethodProvider</th>\n",
       "      <th>paymentMethodRegistrationFailure</th>\n",
       "      <th>paymentMethodType</th>\n",
       "      <th>orderAmount</th>\n",
       "      <th>orderState</th>\n",
       "      <th>fraudulent</th>\n",
       "      <th>customerDevice</th>\n",
       "      <th>customerEmail</th>\n",
       "      <th>...</th>\n",
       "      <th>Customer_Area</th>\n",
       "      <th>Customer_state</th>\n",
       "      <th>Customer_city</th>\n",
       "      <th>Customer_pincode</th>\n",
       "      <th>ordershipping_Area</th>\n",
       "      <th>ordershipping_City</th>\n",
       "      <th>ordershipping_state</th>\n",
       "      <th>ordershipping_pincode</th>\n",
       "      <th>customer_name</th>\n",
       "      <th>customer_mailing_websites</th>\n",
       "    </tr>\n",
       "  </thead>\n",
       "  <tbody>\n",
       "    <tr>\n",
       "      <th>0</th>\n",
       "      <td>0</td>\n",
       "      <td>Citizens First Banks</td>\n",
       "      <td>JCB 16 digit</td>\n",
       "      <td>1</td>\n",
       "      <td>card</td>\n",
       "      <td>18</td>\n",
       "      <td>2</td>\n",
       "      <td>0</td>\n",
       "      <td>yyeiaxpltf82440jnb3v</td>\n",
       "      <td>josephhoward@yahoo.com</td>\n",
       "      <td>...</td>\n",
       "      <td>Brownside</td>\n",
       "      <td>C</td>\n",
       "      <td>CA</td>\n",
       "      <td>51896</td>\n",
       "      <td>Brownside</td>\n",
       "      <td>CA</td>\n",
       "      <td>C</td>\n",
       "      <td>51896</td>\n",
       "      <td>josephhoward</td>\n",
       "      <td>yahoo.com</td>\n",
       "    </tr>\n",
       "    <tr>\n",
       "      <th>1</th>\n",
       "      <td>0</td>\n",
       "      <td>Citizens First Banks</td>\n",
       "      <td>JCB 16 digit</td>\n",
       "      <td>1</td>\n",
       "      <td>card</td>\n",
       "      <td>26</td>\n",
       "      <td>1</td>\n",
       "      <td>0</td>\n",
       "      <td>yyeiaxpltf82440jnb3v</td>\n",
       "      <td>josephhoward@yahoo.com</td>\n",
       "      <td>...</td>\n",
       "      <td>Brownside</td>\n",
       "      <td>C</td>\n",
       "      <td>CA</td>\n",
       "      <td>51896</td>\n",
       "      <td>Brownside</td>\n",
       "      <td>CA</td>\n",
       "      <td>C</td>\n",
       "      <td>51896</td>\n",
       "      <td>josephhoward</td>\n",
       "      <td>yahoo.com</td>\n",
       "    </tr>\n",
       "    <tr>\n",
       "      <th>2</th>\n",
       "      <td>0</td>\n",
       "      <td>Bastion Banks</td>\n",
       "      <td>American Express</td>\n",
       "      <td>0</td>\n",
       "      <td>bitcoin</td>\n",
       "      <td>45</td>\n",
       "      <td>1</td>\n",
       "      <td>1</td>\n",
       "      <td>r0jpm7xaeqqa3kr6mzum</td>\n",
       "      <td>evansjeffery@yahoo.com</td>\n",
       "      <td>...</td>\n",
       "      <td>Port Joshuabury</td>\n",
       "      <td>N</td>\n",
       "      <td>NM</td>\n",
       "      <td>37681</td>\n",
       "      <td>New Keithview</td>\n",
       "      <td>CA</td>\n",
       "      <td>C</td>\n",
       "      <td>95893-2497</td>\n",
       "      <td>evansjeffery</td>\n",
       "      <td>yahoo.com</td>\n",
       "    </tr>\n",
       "    <tr>\n",
       "      <th>3</th>\n",
       "      <td>0</td>\n",
       "      <td>Bastion Banks</td>\n",
       "      <td>American Express</td>\n",
       "      <td>0</td>\n",
       "      <td>bitcoin</td>\n",
       "      <td>23</td>\n",
       "      <td>1</td>\n",
       "      <td>1</td>\n",
       "      <td>r0jpm7xaeqqa3kr6mzum</td>\n",
       "      <td>evansjeffery@yahoo.com</td>\n",
       "      <td>...</td>\n",
       "      <td>Port Joshuabury</td>\n",
       "      <td>N</td>\n",
       "      <td>NM</td>\n",
       "      <td>37681</td>\n",
       "      <td>Port Joshuabury</td>\n",
       "      <td>NM</td>\n",
       "      <td>N</td>\n",
       "      <td>37681</td>\n",
       "      <td>evansjeffery</td>\n",
       "      <td>yahoo.com</td>\n",
       "    </tr>\n",
       "    <tr>\n",
       "      <th>4</th>\n",
       "      <td>1</td>\n",
       "      <td>Solace Banks</td>\n",
       "      <td>VISA 16 digit</td>\n",
       "      <td>1</td>\n",
       "      <td>bitcoin</td>\n",
       "      <td>43</td>\n",
       "      <td>1</td>\n",
       "      <td>1</td>\n",
       "      <td>r0jpm7xaeqqa3kr6mzum</td>\n",
       "      <td>evansjeffery@yahoo.com</td>\n",
       "      <td>...</td>\n",
       "      <td>Port Joshuabury</td>\n",
       "      <td>N</td>\n",
       "      <td>NM</td>\n",
       "      <td>37681</td>\n",
       "      <td>Joshuaton</td>\n",
       "      <td>FM</td>\n",
       "      <td>F</td>\n",
       "      <td>01565-9801</td>\n",
       "      <td>evansjeffery</td>\n",
       "      <td>yahoo.com</td>\n",
       "    </tr>\n",
       "  </tbody>\n",
       "</table>\n",
       "<p>5 rows × 22 columns</p>\n",
       "</div>"
      ],
      "text/plain": [
       "   transactionFailed   paymentMethodIssuer paymentMethodProvider  \\\n",
       "0                  0  Citizens First Banks          JCB 16 digit   \n",
       "1                  0  Citizens First Banks          JCB 16 digit   \n",
       "2                  0         Bastion Banks      American Express   \n",
       "3                  0         Bastion Banks      American Express   \n",
       "4                  1          Solace Banks         VISA 16 digit   \n",
       "\n",
       "   paymentMethodRegistrationFailure paymentMethodType  orderAmount orderState  \\\n",
       "0                                 1              card           18          2   \n",
       "1                                 1              card           26          1   \n",
       "2                                 0           bitcoin           45          1   \n",
       "3                                 0           bitcoin           23          1   \n",
       "4                                 1           bitcoin           43          1   \n",
       "\n",
       "   fraudulent        customerDevice           customerEmail  ...  \\\n",
       "0           0  yyeiaxpltf82440jnb3v  josephhoward@yahoo.com  ...   \n",
       "1           0  yyeiaxpltf82440jnb3v  josephhoward@yahoo.com  ...   \n",
       "2           1  r0jpm7xaeqqa3kr6mzum  evansjeffery@yahoo.com  ...   \n",
       "3           1  r0jpm7xaeqqa3kr6mzum  evansjeffery@yahoo.com  ...   \n",
       "4           1  r0jpm7xaeqqa3kr6mzum  evansjeffery@yahoo.com  ...   \n",
       "\n",
       "     Customer_Area Customer_state Customer_city Customer_pincode  \\\n",
       "0        Brownside              C            CA            51896   \n",
       "1        Brownside              C            CA            51896   \n",
       "2  Port Joshuabury              N            NM            37681   \n",
       "3  Port Joshuabury              N            NM            37681   \n",
       "4  Port Joshuabury              N            NM            37681   \n",
       "\n",
       "  ordershipping_Area ordershipping_City ordershipping_state  \\\n",
       "0          Brownside                 CA                   C   \n",
       "1          Brownside                 CA                   C   \n",
       "2      New Keithview                 CA                   C   \n",
       "3    Port Joshuabury                 NM                   N   \n",
       "4          Joshuaton                 FM                   F   \n",
       "\n",
       "  ordershipping_pincode customer_name customer_mailing_websites  \n",
       "0                 51896  josephhoward                 yahoo.com  \n",
       "1                 51896  josephhoward                 yahoo.com  \n",
       "2            95893-2497  evansjeffery                 yahoo.com  \n",
       "3                 37681  evansjeffery                 yahoo.com  \n",
       "4            01565-9801  evansjeffery                 yahoo.com  \n",
       "\n",
       "[5 rows x 22 columns]"
      ]
     },
     "execution_count": 60,
     "metadata": {},
     "output_type": "execute_result"
    }
   ],
   "source": [
    "df.head()"
   ]
  },
  {
   "cell_type": "code",
   "execution_count": 61,
   "metadata": {},
   "outputs": [
    {
     "data": {
      "text/plain": [
       "gmail.com                 121\n",
       "yahoo.com                 118\n",
       "hotmail.com                88\n",
       "wright.com                 19\n",
       "turner-fleming.com         11\n",
       "jedyz63t                   10\n",
       "mullins.biz                 8\n",
       "jackson-sanders.com         8\n",
       "levine-harmon.biz           8\n",
       "conner.com                  8\n",
       "tucker-brown.com            7\n",
       "pena.org                    7\n",
       "brown.com                   7\n",
       "randall-pacheco.biz         7\n",
       "malone.com                  7\n",
       "bell.com                    6\n",
       "mitchell-hancock.com        6\n",
       "1jcfcxs7                    6\n",
       "jones.com                   6\n",
       "wallace-johnson.com         6\n",
       "mckinney.com                6\n",
       "day.info                    6\n",
       "hughes.biz                  6\n",
       "clark.biz                   5\n",
       "stephens-ortiz.com          5\n",
       "sutton.info                 5\n",
       "conrad.net                  5\n",
       "harris.com                  5\n",
       "mcgee.com                   5\n",
       "rogers.com                  5\n",
       "                         ... \n",
       "henderson.biz               4\n",
       "chavez.com                  4\n",
       "hayes-wilson.biz            4\n",
       "wright-boyd.org             4\n",
       "clark.com                   3\n",
       "lopez-gomez.biz             3\n",
       "martin.com                  3\n",
       "wolfe-brown.com             3\n",
       "gibson.com                  3\n",
       "russo.net                   3\n",
       "brewer-jones.com            3\n",
       "gray.biz                    3\n",
       "huffman.org                 3\n",
       "saunders-rhodes.com         2\n",
       "stafford.org                2\n",
       "mosley.info                 2\n",
       "u6n7x                       2\n",
       "lewis-haas.com              2\n",
       "johnson-quinn.com           2\n",
       "rasmussen-alvarado.com      2\n",
       "lamb.com                    1\n",
       "hanson-key.org              1\n",
       "dunn.com                    1\n",
       "cruz.info                   1\n",
       "gutierrez.net               1\n",
       "lewis-baird.com             1\n",
       "randolph.com                1\n",
       "knight.info                 1\n",
       "nelson.net                  1\n",
       "stokes.com                  1\n",
       "Name: customer_mailing_websites, Length: 68, dtype: int64"
      ]
     },
     "execution_count": 61,
     "metadata": {},
     "output_type": "execute_result"
    }
   ],
   "source": [
    "df['customer_mailing_websites'].value_counts()"
   ]
  },
  {
   "cell_type": "markdown",
   "metadata": {},
   "source": [
    "#we can see lot of websites let's simplify them  by binnig\n",
    "#we all of know well known websites like gmail.com,yahoo.com and hotmail.com so i am binning them as known websites and remaining as unknown"
   ]
  },
  {
   "cell_type": "code",
   "execution_count": 62,
   "metadata": {},
   "outputs": [],
   "source": [
    "df.loc[(df['customer_mailing_websites']=='gmail.com') | (df['customer_mailing_websites']=='yahoo.com') | (df['customer_mailing_websites']=='hotmail.com'),'customer_mailing_sites']= 'Known'\n",
    "df.loc[(df['customer_mailing_websites']!='gmail.com') & (df['customer_mailing_websites']!='yahoo.com') & (df['customer_mailing_websites']!='hotmail.com'),'customer_mailing_sites']= 'UnKnown'"
   ]
  },
  {
   "cell_type": "code",
   "execution_count": 63,
   "metadata": {},
   "outputs": [
    {
     "data": {
      "text/html": [
       "<div>\n",
       "<style scoped>\n",
       "    .dataframe tbody tr th:only-of-type {\n",
       "        vertical-align: middle;\n",
       "    }\n",
       "\n",
       "    .dataframe tbody tr th {\n",
       "        vertical-align: top;\n",
       "    }\n",
       "\n",
       "    .dataframe thead th {\n",
       "        text-align: right;\n",
       "    }\n",
       "</style>\n",
       "<table border=\"1\" class=\"dataframe\">\n",
       "  <thead>\n",
       "    <tr style=\"text-align: right;\">\n",
       "      <th></th>\n",
       "      <th>transactionFailed</th>\n",
       "      <th>paymentMethodIssuer</th>\n",
       "      <th>paymentMethodProvider</th>\n",
       "      <th>paymentMethodRegistrationFailure</th>\n",
       "      <th>paymentMethodType</th>\n",
       "      <th>orderAmount</th>\n",
       "      <th>orderState</th>\n",
       "      <th>fraudulent</th>\n",
       "      <th>customerDevice</th>\n",
       "      <th>customerEmail</th>\n",
       "      <th>...</th>\n",
       "      <th>Customer_state</th>\n",
       "      <th>Customer_city</th>\n",
       "      <th>Customer_pincode</th>\n",
       "      <th>ordershipping_Area</th>\n",
       "      <th>ordershipping_City</th>\n",
       "      <th>ordershipping_state</th>\n",
       "      <th>ordershipping_pincode</th>\n",
       "      <th>customer_name</th>\n",
       "      <th>customer_mailing_websites</th>\n",
       "      <th>customer_mailing_sites</th>\n",
       "    </tr>\n",
       "  </thead>\n",
       "  <tbody>\n",
       "    <tr>\n",
       "      <th>0</th>\n",
       "      <td>0</td>\n",
       "      <td>Citizens First Banks</td>\n",
       "      <td>JCB 16 digit</td>\n",
       "      <td>1</td>\n",
       "      <td>card</td>\n",
       "      <td>18</td>\n",
       "      <td>2</td>\n",
       "      <td>0</td>\n",
       "      <td>yyeiaxpltf82440jnb3v</td>\n",
       "      <td>josephhoward@yahoo.com</td>\n",
       "      <td>...</td>\n",
       "      <td>C</td>\n",
       "      <td>CA</td>\n",
       "      <td>51896</td>\n",
       "      <td>Brownside</td>\n",
       "      <td>CA</td>\n",
       "      <td>C</td>\n",
       "      <td>51896</td>\n",
       "      <td>josephhoward</td>\n",
       "      <td>yahoo.com</td>\n",
       "      <td>Known</td>\n",
       "    </tr>\n",
       "    <tr>\n",
       "      <th>1</th>\n",
       "      <td>0</td>\n",
       "      <td>Citizens First Banks</td>\n",
       "      <td>JCB 16 digit</td>\n",
       "      <td>1</td>\n",
       "      <td>card</td>\n",
       "      <td>26</td>\n",
       "      <td>1</td>\n",
       "      <td>0</td>\n",
       "      <td>yyeiaxpltf82440jnb3v</td>\n",
       "      <td>josephhoward@yahoo.com</td>\n",
       "      <td>...</td>\n",
       "      <td>C</td>\n",
       "      <td>CA</td>\n",
       "      <td>51896</td>\n",
       "      <td>Brownside</td>\n",
       "      <td>CA</td>\n",
       "      <td>C</td>\n",
       "      <td>51896</td>\n",
       "      <td>josephhoward</td>\n",
       "      <td>yahoo.com</td>\n",
       "      <td>Known</td>\n",
       "    </tr>\n",
       "    <tr>\n",
       "      <th>2</th>\n",
       "      <td>0</td>\n",
       "      <td>Bastion Banks</td>\n",
       "      <td>American Express</td>\n",
       "      <td>0</td>\n",
       "      <td>bitcoin</td>\n",
       "      <td>45</td>\n",
       "      <td>1</td>\n",
       "      <td>1</td>\n",
       "      <td>r0jpm7xaeqqa3kr6mzum</td>\n",
       "      <td>evansjeffery@yahoo.com</td>\n",
       "      <td>...</td>\n",
       "      <td>N</td>\n",
       "      <td>NM</td>\n",
       "      <td>37681</td>\n",
       "      <td>New Keithview</td>\n",
       "      <td>CA</td>\n",
       "      <td>C</td>\n",
       "      <td>95893-2497</td>\n",
       "      <td>evansjeffery</td>\n",
       "      <td>yahoo.com</td>\n",
       "      <td>Known</td>\n",
       "    </tr>\n",
       "    <tr>\n",
       "      <th>3</th>\n",
       "      <td>0</td>\n",
       "      <td>Bastion Banks</td>\n",
       "      <td>American Express</td>\n",
       "      <td>0</td>\n",
       "      <td>bitcoin</td>\n",
       "      <td>23</td>\n",
       "      <td>1</td>\n",
       "      <td>1</td>\n",
       "      <td>r0jpm7xaeqqa3kr6mzum</td>\n",
       "      <td>evansjeffery@yahoo.com</td>\n",
       "      <td>...</td>\n",
       "      <td>N</td>\n",
       "      <td>NM</td>\n",
       "      <td>37681</td>\n",
       "      <td>Port Joshuabury</td>\n",
       "      <td>NM</td>\n",
       "      <td>N</td>\n",
       "      <td>37681</td>\n",
       "      <td>evansjeffery</td>\n",
       "      <td>yahoo.com</td>\n",
       "      <td>Known</td>\n",
       "    </tr>\n",
       "    <tr>\n",
       "      <th>4</th>\n",
       "      <td>1</td>\n",
       "      <td>Solace Banks</td>\n",
       "      <td>VISA 16 digit</td>\n",
       "      <td>1</td>\n",
       "      <td>bitcoin</td>\n",
       "      <td>43</td>\n",
       "      <td>1</td>\n",
       "      <td>1</td>\n",
       "      <td>r0jpm7xaeqqa3kr6mzum</td>\n",
       "      <td>evansjeffery@yahoo.com</td>\n",
       "      <td>...</td>\n",
       "      <td>N</td>\n",
       "      <td>NM</td>\n",
       "      <td>37681</td>\n",
       "      <td>Joshuaton</td>\n",
       "      <td>FM</td>\n",
       "      <td>F</td>\n",
       "      <td>01565-9801</td>\n",
       "      <td>evansjeffery</td>\n",
       "      <td>yahoo.com</td>\n",
       "      <td>Known</td>\n",
       "    </tr>\n",
       "  </tbody>\n",
       "</table>\n",
       "<p>5 rows × 23 columns</p>\n",
       "</div>"
      ],
      "text/plain": [
       "   transactionFailed   paymentMethodIssuer paymentMethodProvider  \\\n",
       "0                  0  Citizens First Banks          JCB 16 digit   \n",
       "1                  0  Citizens First Banks          JCB 16 digit   \n",
       "2                  0         Bastion Banks      American Express   \n",
       "3                  0         Bastion Banks      American Express   \n",
       "4                  1          Solace Banks         VISA 16 digit   \n",
       "\n",
       "   paymentMethodRegistrationFailure paymentMethodType  orderAmount orderState  \\\n",
       "0                                 1              card           18          2   \n",
       "1                                 1              card           26          1   \n",
       "2                                 0           bitcoin           45          1   \n",
       "3                                 0           bitcoin           23          1   \n",
       "4                                 1           bitcoin           43          1   \n",
       "\n",
       "   fraudulent        customerDevice           customerEmail  ...  \\\n",
       "0           0  yyeiaxpltf82440jnb3v  josephhoward@yahoo.com  ...   \n",
       "1           0  yyeiaxpltf82440jnb3v  josephhoward@yahoo.com  ...   \n",
       "2           1  r0jpm7xaeqqa3kr6mzum  evansjeffery@yahoo.com  ...   \n",
       "3           1  r0jpm7xaeqqa3kr6mzum  evansjeffery@yahoo.com  ...   \n",
       "4           1  r0jpm7xaeqqa3kr6mzum  evansjeffery@yahoo.com  ...   \n",
       "\n",
       "  Customer_state Customer_city Customer_pincode ordershipping_Area  \\\n",
       "0              C            CA            51896          Brownside   \n",
       "1              C            CA            51896          Brownside   \n",
       "2              N            NM            37681      New Keithview   \n",
       "3              N            NM            37681    Port Joshuabury   \n",
       "4              N            NM            37681          Joshuaton   \n",
       "\n",
       "  ordershipping_City ordershipping_state ordershipping_pincode customer_name  \\\n",
       "0                 CA                   C                 51896  josephhoward   \n",
       "1                 CA                   C                 51896  josephhoward   \n",
       "2                 CA                   C            95893-2497  evansjeffery   \n",
       "3                 NM                   N                 37681  evansjeffery   \n",
       "4                 FM                   F            01565-9801  evansjeffery   \n",
       "\n",
       "  customer_mailing_websites customer_mailing_sites  \n",
       "0                 yahoo.com                  Known  \n",
       "1                 yahoo.com                  Known  \n",
       "2                 yahoo.com                  Known  \n",
       "3                 yahoo.com                  Known  \n",
       "4                 yahoo.com                  Known  \n",
       "\n",
       "[5 rows x 23 columns]"
      ]
     },
     "execution_count": 63,
     "metadata": {},
     "output_type": "execute_result"
    }
   ],
   "source": [
    "df.head()"
   ]
  },
  {
   "cell_type": "code",
   "execution_count": 64,
   "metadata": {},
   "outputs": [
    {
     "data": {
      "text/plain": [
       "<matplotlib.axes._subplots.AxesSubplot at 0x9f7c71cb00>"
      ]
     },
     "execution_count": 64,
     "metadata": {},
     "output_type": "execute_result"
    },
    {
     "data": {
      "image/png": "[encoded data removed]",
      "text/plain": [
       "<Figure size 432x288 with 1 Axes>"
      ]
     },
     "metadata": {
      "needs_background": "light"
     },
     "output_type": "display_data"
    }
   ],
   "source": [
    "sns.countplot(x='customer_mailing_sites',data=df)"
   ]
  },
  {
   "cell_type": "code",
   "execution_count": 65,
   "metadata": {},
   "outputs": [
    {
     "data": {
      "text/plain": [
       "<matplotlib.axes._subplots.AxesSubplot at 0x9f7c7580f0>"
      ]
     },
     "execution_count": 65,
     "metadata": {},
     "output_type": "execute_result"
    },
    {
     "data": {
      "image/png": "[encoded data removed]",
      "text/plain": [
       "<Figure size 432x288 with 1 Axes>"
      ]
     },
     "metadata": {
      "needs_background": "light"
     },
     "output_type": "display_data"
    }
   ],
   "source": [
    "sns.countplot(x='fraudulent',hue='customer_mailing_sites',data=df,palette='RdBu_r')"
   ]
  },
  {
   "cell_type": "code",
   "execution_count": 66,
   "metadata": {},
   "outputs": [
    {
     "data": {
      "text/plain": [
       "<matplotlib.axes._subplots.AxesSubplot at 0x9f7c7b9128>"
      ]
     },
     "execution_count": 66,
     "metadata": {},
     "output_type": "execute_result"
    },
    {
     "data": {
      "image/png": "[encoded data removed]",
      "text/plain": [
       "<Figure size 432x288 with 1 Axes>"
      ]
     },
     "metadata": {
      "needs_background": "light"
     },
     "output_type": "display_data"
    }
   ],
   "source": [
    "sns.countplot(x='fraudulent',hue='paymentMethodType',data=df,palette='RdBu_r')"
   ]
  },
  {
   "cell_type": "code",
   "execution_count": 67,
   "metadata": {},
   "outputs": [
    {
     "data": {
      "text/plain": [
       "<matplotlib.axes._subplots.AxesSubplot at 0x9f7c9af710>"
      ]
     },
     "execution_count": 67,
     "metadata": {},
     "output_type": "execute_result"
    },
    {
     "data": {
      "image/png": "[encoded data removed]",
      "text/plain": [
       "<Figure size 432x288 with 1 Axes>"
      ]
     },
     "metadata": {
      "needs_background": "light"
     },
     "output_type": "display_data"
    }
   ],
   "source": [
    "df.groupby('paymentMethodType')['fraudulent'].mean().plot(kind='bar', colormap='Paired')"
   ]
  },
  {
   "cell_type": "markdown",
   "metadata": {},
   "source": [
    "Bitcoin shows 50% of being fraud"
   ]
  },
  {
   "cell_type": "code",
   "execution_count": 68,
   "metadata": {},
   "outputs": [
    {
     "data": {
      "text/plain": [
       "<matplotlib.axes._subplots.AxesSubplot at 0x9f7be4b518>"
      ]
     },
     "execution_count": 68,
     "metadata": {},
     "output_type": "execute_result"
    },
    {
     "data": {
      "image/png": "[encoded data removed]",
      "text/plain": [
       "<Figure size 432x288 with 1 Axes>"
      ]
     },
     "metadata": {
      "needs_background": "light"
     },
     "output_type": "display_data"
    }
   ],
   "source": [
    "sns.scatterplot(x='orderAmount',y='fraudulent',data=df)"
   ]
  },
  {
   "cell_type": "markdown",
   "metadata": {},
   "source": [
    "we can see the presence of outlier and also we can see that order amount lies between 10 to 75 approx"
   ]
  },
  {
   "cell_type": "code",
   "execution_count": 69,
   "metadata": {},
   "outputs": [],
   "source": [
    "# another way to find outliers using z score or using boxplot if data is huge\n",
    "import numpy as np\n",
    "outliers=[]\n",
    "def detect_outlier(data):\n",
    "    \n",
    "    threshold=3\n",
    "    mean = np.mean(data)\n",
    "    std =np.std(data)\n",
    "    \n",
    "    \n",
    "    for y in data:\n",
    "        z_score= (y - mean)/std \n",
    "        if np.abs(z_score) > threshold:\n",
    "            outliers.append(y)\n",
    "    return outliers"
   ]
  },
  {
   "cell_type": "code",
   "execution_count": 70,
   "metadata": {},
   "outputs": [],
   "source": [
    "outliers=detect_outlier(df['orderAmount'])"
   ]
  },
  {
   "cell_type": "code",
   "execution_count": 71,
   "metadata": {},
   "outputs": [
    {
     "data": {
      "text/plain": [
       "[353]"
      ]
     },
     "execution_count": 71,
     "metadata": {},
     "output_type": "execute_result"
    }
   ],
   "source": [
    "outliers"
   ]
  },
  {
   "cell_type": "code",
   "execution_count": 72,
   "metadata": {},
   "outputs": [
    {
     "data": {
      "text/plain": [
       "(623, 23)"
      ]
     },
     "execution_count": 72,
     "metadata": {},
     "output_type": "execute_result"
    }
   ],
   "source": [
    "df.shape"
   ]
  },
  {
   "cell_type": "code",
   "execution_count": 73,
   "metadata": {},
   "outputs": [],
   "source": [
    "df.set_index('orderAmount',inplace=True)#Setting order amount as index"
   ]
  },
  {
   "cell_type": "code",
   "execution_count": 74,
   "metadata": {},
   "outputs": [
    {
     "data": {
      "text/html": [
       "<div>\n",
       "<style scoped>\n",
       "    .dataframe tbody tr th:only-of-type {\n",
       "        vertical-align: middle;\n",
       "    }\n",
       "\n",
       "    .dataframe tbody tr th {\n",
       "        vertical-align: top;\n",
       "    }\n",
       "\n",
       "    .dataframe thead th {\n",
       "        text-align: right;\n",
       "    }\n",
       "</style>\n",
       "<table border=\"1\" class=\"dataframe\">\n",
       "  <thead>\n",
       "    <tr style=\"text-align: right;\">\n",
       "      <th></th>\n",
       "      <th>transactionFailed</th>\n",
       "      <th>paymentMethodIssuer</th>\n",
       "      <th>paymentMethodProvider</th>\n",
       "      <th>paymentMethodRegistrationFailure</th>\n",
       "      <th>paymentMethodType</th>\n",
       "      <th>orderState</th>\n",
       "      <th>fraudulent</th>\n",
       "      <th>customerDevice</th>\n",
       "      <th>customerEmail</th>\n",
       "      <th>customerIPAddress</th>\n",
       "      <th>...</th>\n",
       "      <th>Customer_state</th>\n",
       "      <th>Customer_city</th>\n",
       "      <th>Customer_pincode</th>\n",
       "      <th>ordershipping_Area</th>\n",
       "      <th>ordershipping_City</th>\n",
       "      <th>ordershipping_state</th>\n",
       "      <th>ordershipping_pincode</th>\n",
       "      <th>customer_name</th>\n",
       "      <th>customer_mailing_websites</th>\n",
       "      <th>customer_mailing_sites</th>\n",
       "    </tr>\n",
       "    <tr>\n",
       "      <th>orderAmount</th>\n",
       "      <th></th>\n",
       "      <th></th>\n",
       "      <th></th>\n",
       "      <th></th>\n",
       "      <th></th>\n",
       "      <th></th>\n",
       "      <th></th>\n",
       "      <th></th>\n",
       "      <th></th>\n",
       "      <th></th>\n",
       "      <th></th>\n",
       "      <th></th>\n",
       "      <th></th>\n",
       "      <th></th>\n",
       "      <th></th>\n",
       "      <th></th>\n",
       "      <th></th>\n",
       "      <th></th>\n",
       "      <th></th>\n",
       "      <th></th>\n",
       "      <th></th>\n",
       "    </tr>\n",
       "  </thead>\n",
       "  <tbody>\n",
       "    <tr>\n",
       "      <th>18</th>\n",
       "      <td>0</td>\n",
       "      <td>Citizens First Banks</td>\n",
       "      <td>JCB 16 digit</td>\n",
       "      <td>1</td>\n",
       "      <td>card</td>\n",
       "      <td>2</td>\n",
       "      <td>0</td>\n",
       "      <td>yyeiaxpltf82440jnb3v</td>\n",
       "      <td>josephhoward@yahoo.com</td>\n",
       "      <td>8.129.104.40</td>\n",
       "      <td>...</td>\n",
       "      <td>C</td>\n",
       "      <td>CA</td>\n",
       "      <td>51896</td>\n",
       "      <td>Brownside</td>\n",
       "      <td>CA</td>\n",
       "      <td>C</td>\n",
       "      <td>51896</td>\n",
       "      <td>josephhoward</td>\n",
       "      <td>yahoo.com</td>\n",
       "      <td>Known</td>\n",
       "    </tr>\n",
       "    <tr>\n",
       "      <th>26</th>\n",
       "      <td>0</td>\n",
       "      <td>Citizens First Banks</td>\n",
       "      <td>JCB 16 digit</td>\n",
       "      <td>1</td>\n",
       "      <td>card</td>\n",
       "      <td>1</td>\n",
       "      <td>0</td>\n",
       "      <td>yyeiaxpltf82440jnb3v</td>\n",
       "      <td>josephhoward@yahoo.com</td>\n",
       "      <td>8.129.104.40</td>\n",
       "      <td>...</td>\n",
       "      <td>C</td>\n",
       "      <td>CA</td>\n",
       "      <td>51896</td>\n",
       "      <td>Brownside</td>\n",
       "      <td>CA</td>\n",
       "      <td>C</td>\n",
       "      <td>51896</td>\n",
       "      <td>josephhoward</td>\n",
       "      <td>yahoo.com</td>\n",
       "      <td>Known</td>\n",
       "    </tr>\n",
       "    <tr>\n",
       "      <th>45</th>\n",
       "      <td>0</td>\n",
       "      <td>Bastion Banks</td>\n",
       "      <td>American Express</td>\n",
       "      <td>0</td>\n",
       "      <td>bitcoin</td>\n",
       "      <td>1</td>\n",
       "      <td>1</td>\n",
       "      <td>r0jpm7xaeqqa3kr6mzum</td>\n",
       "      <td>evansjeffery@yahoo.com</td>\n",
       "      <td>219.173.211.202</td>\n",
       "      <td>...</td>\n",
       "      <td>N</td>\n",
       "      <td>NM</td>\n",
       "      <td>37681</td>\n",
       "      <td>New Keithview</td>\n",
       "      <td>CA</td>\n",
       "      <td>C</td>\n",
       "      <td>95893-2497</td>\n",
       "      <td>evansjeffery</td>\n",
       "      <td>yahoo.com</td>\n",
       "      <td>Known</td>\n",
       "    </tr>\n",
       "    <tr>\n",
       "      <th>23</th>\n",
       "      <td>0</td>\n",
       "      <td>Bastion Banks</td>\n",
       "      <td>American Express</td>\n",
       "      <td>0</td>\n",
       "      <td>bitcoin</td>\n",
       "      <td>1</td>\n",
       "      <td>1</td>\n",
       "      <td>r0jpm7xaeqqa3kr6mzum</td>\n",
       "      <td>evansjeffery@yahoo.com</td>\n",
       "      <td>219.173.211.202</td>\n",
       "      <td>...</td>\n",
       "      <td>N</td>\n",
       "      <td>NM</td>\n",
       "      <td>37681</td>\n",
       "      <td>Port Joshuabury</td>\n",
       "      <td>NM</td>\n",
       "      <td>N</td>\n",
       "      <td>37681</td>\n",
       "      <td>evansjeffery</td>\n",
       "      <td>yahoo.com</td>\n",
       "      <td>Known</td>\n",
       "    </tr>\n",
       "    <tr>\n",
       "      <th>43</th>\n",
       "      <td>1</td>\n",
       "      <td>Solace Banks</td>\n",
       "      <td>VISA 16 digit</td>\n",
       "      <td>1</td>\n",
       "      <td>bitcoin</td>\n",
       "      <td>1</td>\n",
       "      <td>1</td>\n",
       "      <td>r0jpm7xaeqqa3kr6mzum</td>\n",
       "      <td>evansjeffery@yahoo.com</td>\n",
       "      <td>219.173.211.202</td>\n",
       "      <td>...</td>\n",
       "      <td>N</td>\n",
       "      <td>NM</td>\n",
       "      <td>37681</td>\n",
       "      <td>Joshuaton</td>\n",
       "      <td>FM</td>\n",
       "      <td>F</td>\n",
       "      <td>01565-9801</td>\n",
       "      <td>evansjeffery</td>\n",
       "      <td>yahoo.com</td>\n",
       "      <td>Known</td>\n",
       "    </tr>\n",
       "  </tbody>\n",
       "</table>\n",
       "<p>5 rows × 22 columns</p>\n",
       "</div>"
      ],
      "text/plain": [
       "             transactionFailed   paymentMethodIssuer paymentMethodProvider  \\\n",
       "orderAmount                                                                  \n",
       "18                           0  Citizens First Banks          JCB 16 digit   \n",
       "26                           0  Citizens First Banks          JCB 16 digit   \n",
       "45                           0         Bastion Banks      American Express   \n",
       "23                           0         Bastion Banks      American Express   \n",
       "43                           1          Solace Banks         VISA 16 digit   \n",
       "\n",
       "             paymentMethodRegistrationFailure paymentMethodType orderState  \\\n",
       "orderAmount                                                                  \n",
       "18                                          1              card          2   \n",
       "26                                          1              card          1   \n",
       "45                                          0           bitcoin          1   \n",
       "23                                          0           bitcoin          1   \n",
       "43                                          1           bitcoin          1   \n",
       "\n",
       "             fraudulent        customerDevice           customerEmail  \\\n",
       "orderAmount                                                             \n",
       "18                    0  yyeiaxpltf82440jnb3v  josephhoward@yahoo.com   \n",
       "26                    0  yyeiaxpltf82440jnb3v  josephhoward@yahoo.com   \n",
       "45                    1  r0jpm7xaeqqa3kr6mzum  evansjeffery@yahoo.com   \n",
       "23                    1  r0jpm7xaeqqa3kr6mzum  evansjeffery@yahoo.com   \n",
       "43                    1  r0jpm7xaeqqa3kr6mzum  evansjeffery@yahoo.com   \n",
       "\n",
       "            customerIPAddress  ... Customer_state Customer_city  \\\n",
       "orderAmount                    ...                                \n",
       "18               8.129.104.40  ...              C            CA   \n",
       "26               8.129.104.40  ...              C            CA   \n",
       "45            219.173.211.202  ...              N            NM   \n",
       "23            219.173.211.202  ...              N            NM   \n",
       "43            219.173.211.202  ...              N            NM   \n",
       "\n",
       "            Customer_pincode ordershipping_Area ordershipping_City  \\\n",
       "orderAmount                                                          \n",
       "18                     51896          Brownside                 CA   \n",
       "26                     51896          Brownside                 CA   \n",
       "45                     37681      New Keithview                 CA   \n",
       "23                     37681    Port Joshuabury                 NM   \n",
       "43                     37681          Joshuaton                 FM   \n",
       "\n",
       "            ordershipping_state ordershipping_pincode customer_name  \\\n",
       "orderAmount                                                           \n",
       "18                            C                 51896  josephhoward   \n",
       "26                            C                 51896  josephhoward   \n",
       "45                            C            95893-2497  evansjeffery   \n",
       "23                            N                 37681  evansjeffery   \n",
       "43                            F            01565-9801  evansjeffery   \n",
       "\n",
       "            customer_mailing_websites customer_mailing_sites  \n",
       "orderAmount                                                   \n",
       "18                          yahoo.com                  Known  \n",
       "26                          yahoo.com                  Known  \n",
       "45                          yahoo.com                  Known  \n",
       "23                          yahoo.com                  Known  \n",
       "43                          yahoo.com                  Known  \n",
       "\n",
       "[5 rows x 22 columns]"
      ]
     },
     "execution_count": 74,
     "metadata": {},
     "output_type": "execute_result"
    }
   ],
   "source": [
    "df.head()"
   ]
  },
  {
   "cell_type": "code",
   "execution_count": 75,
   "metadata": {},
   "outputs": [],
   "source": [
    "df.drop(353,inplace=True)#Dropping outlier"
   ]
  },
  {
   "cell_type": "code",
   "execution_count": 76,
   "metadata": {},
   "outputs": [],
   "source": [
    "df=df.reset_index()#reset index"
   ]
  },
  {
   "cell_type": "code",
   "execution_count": 77,
   "metadata": {},
   "outputs": [
    {
     "data": {
      "text/plain": [
       "(622, 23)"
      ]
     },
     "execution_count": 77,
     "metadata": {},
     "output_type": "execute_result"
    }
   ],
   "source": [
    "df.shape#we can see that no of rows is 622 so the outlier is removed"
   ]
  },
  {
   "cell_type": "code",
   "execution_count": 78,
   "metadata": {
    "scrolled": true
   },
   "outputs": [
    {
     "data": {
      "text/plain": [
       "<matplotlib.axes._subplots.AxesSubplot at 0x9f7ca31518>"
      ]
     },
     "execution_count": 78,
     "metadata": {},
     "output_type": "execute_result"
    },
    {
     "data": {
      "image/png": "[encoded data removed]",
      "text/plain": [
       "<Figure size 432x288 with 1 Axes>"
      ]
     },
     "metadata": {
      "needs_background": "light"
     },
     "output_type": "display_data"
    }
   ],
   "source": [
    "#Lets Check\n",
    "sns.scatterplot(x='orderAmount',y='fraudulent',data=df)"
   ]
  },
  {
   "cell_type": "code",
   "execution_count": 79,
   "metadata": {},
   "outputs": [
    {
     "data": {
      "text/html": [
       "<div>\n",
       "<style scoped>\n",
       "    .dataframe tbody tr th:only-of-type {\n",
       "        vertical-align: middle;\n",
       "    }\n",
       "\n",
       "    .dataframe tbody tr th {\n",
       "        vertical-align: top;\n",
       "    }\n",
       "\n",
       "    .dataframe thead th {\n",
       "        text-align: right;\n",
       "    }\n",
       "</style>\n",
       "<table border=\"1\" class=\"dataframe\">\n",
       "  <thead>\n",
       "    <tr style=\"text-align: right;\">\n",
       "      <th></th>\n",
       "      <th>orderAmount</th>\n",
       "      <th>transactionFailed</th>\n",
       "      <th>paymentMethodIssuer</th>\n",
       "      <th>paymentMethodProvider</th>\n",
       "      <th>paymentMethodRegistrationFailure</th>\n",
       "      <th>paymentMethodType</th>\n",
       "      <th>orderState</th>\n",
       "      <th>fraudulent</th>\n",
       "      <th>customerDevice</th>\n",
       "      <th>customerEmail</th>\n",
       "      <th>...</th>\n",
       "      <th>Customer_state</th>\n",
       "      <th>Customer_city</th>\n",
       "      <th>Customer_pincode</th>\n",
       "      <th>ordershipping_Area</th>\n",
       "      <th>ordershipping_City</th>\n",
       "      <th>ordershipping_state</th>\n",
       "      <th>ordershipping_pincode</th>\n",
       "      <th>customer_name</th>\n",
       "      <th>customer_mailing_websites</th>\n",
       "      <th>customer_mailing_sites</th>\n",
       "    </tr>\n",
       "  </thead>\n",
       "  <tbody>\n",
       "    <tr>\n",
       "      <th>0</th>\n",
       "      <td>18</td>\n",
       "      <td>0</td>\n",
       "      <td>Citizens First Banks</td>\n",
       "      <td>JCB 16 digit</td>\n",
       "      <td>1</td>\n",
       "      <td>card</td>\n",
       "      <td>2</td>\n",
       "      <td>0</td>\n",
       "      <td>yyeiaxpltf82440jnb3v</td>\n",
       "      <td>josephhoward@yahoo.com</td>\n",
       "      <td>...</td>\n",
       "      <td>C</td>\n",
       "      <td>CA</td>\n",
       "      <td>51896</td>\n",
       "      <td>Brownside</td>\n",
       "      <td>CA</td>\n",
       "      <td>C</td>\n",
       "      <td>51896</td>\n",
       "      <td>josephhoward</td>\n",
       "      <td>yahoo.com</td>\n",
       "      <td>Known</td>\n",
       "    </tr>\n",
       "    <tr>\n",
       "      <th>1</th>\n",
       "      <td>26</td>\n",
       "      <td>0</td>\n",
       "      <td>Citizens First Banks</td>\n",
       "      <td>JCB 16 digit</td>\n",
       "      <td>1</td>\n",
       "      <td>card</td>\n",
       "      <td>1</td>\n",
       "      <td>0</td>\n",
       "      <td>yyeiaxpltf82440jnb3v</td>\n",
       "      <td>josephhoward@yahoo.com</td>\n",
       "      <td>...</td>\n",
       "      <td>C</td>\n",
       "      <td>CA</td>\n",
       "      <td>51896</td>\n",
       "      <td>Brownside</td>\n",
       "      <td>CA</td>\n",
       "      <td>C</td>\n",
       "      <td>51896</td>\n",
       "      <td>josephhoward</td>\n",
       "      <td>yahoo.com</td>\n",
       "      <td>Known</td>\n",
       "    </tr>\n",
       "    <tr>\n",
       "      <th>2</th>\n",
       "      <td>45</td>\n",
       "      <td>0</td>\n",
       "      <td>Bastion Banks</td>\n",
       "      <td>American Express</td>\n",
       "      <td>0</td>\n",
       "      <td>bitcoin</td>\n",
       "      <td>1</td>\n",
       "      <td>1</td>\n",
       "      <td>r0jpm7xaeqqa3kr6mzum</td>\n",
       "      <td>evansjeffery@yahoo.com</td>\n",
       "      <td>...</td>\n",
       "      <td>N</td>\n",
       "      <td>NM</td>\n",
       "      <td>37681</td>\n",
       "      <td>New Keithview</td>\n",
       "      <td>CA</td>\n",
       "      <td>C</td>\n",
       "      <td>95893-2497</td>\n",
       "      <td>evansjeffery</td>\n",
       "      <td>yahoo.com</td>\n",
       "      <td>Known</td>\n",
       "    </tr>\n",
       "    <tr>\n",
       "      <th>3</th>\n",
       "      <td>23</td>\n",
       "      <td>0</td>\n",
       "      <td>Bastion Banks</td>\n",
       "      <td>American Express</td>\n",
       "      <td>0</td>\n",
       "      <td>bitcoin</td>\n",
       "      <td>1</td>\n",
       "      <td>1</td>\n",
       "      <td>r0jpm7xaeqqa3kr6mzum</td>\n",
       "      <td>evansjeffery@yahoo.com</td>\n",
       "      <td>...</td>\n",
       "      <td>N</td>\n",
       "      <td>NM</td>\n",
       "      <td>37681</td>\n",
       "      <td>Port Joshuabury</td>\n",
       "      <td>NM</td>\n",
       "      <td>N</td>\n",
       "      <td>37681</td>\n",
       "      <td>evansjeffery</td>\n",
       "      <td>yahoo.com</td>\n",
       "      <td>Known</td>\n",
       "    </tr>\n",
       "    <tr>\n",
       "      <th>4</th>\n",
       "      <td>43</td>\n",
       "      <td>1</td>\n",
       "      <td>Solace Banks</td>\n",
       "      <td>VISA 16 digit</td>\n",
       "      <td>1</td>\n",
       "      <td>bitcoin</td>\n",
       "      <td>1</td>\n",
       "      <td>1</td>\n",
       "      <td>r0jpm7xaeqqa3kr6mzum</td>\n",
       "      <td>evansjeffery@yahoo.com</td>\n",
       "      <td>...</td>\n",
       "      <td>N</td>\n",
       "      <td>NM</td>\n",
       "      <td>37681</td>\n",
       "      <td>Joshuaton</td>\n",
       "      <td>FM</td>\n",
       "      <td>F</td>\n",
       "      <td>01565-9801</td>\n",
       "      <td>evansjeffery</td>\n",
       "      <td>yahoo.com</td>\n",
       "      <td>Known</td>\n",
       "    </tr>\n",
       "  </tbody>\n",
       "</table>\n",
       "<p>5 rows × 23 columns</p>\n",
       "</div>"
      ],
      "text/plain": [
       "   orderAmount  transactionFailed   paymentMethodIssuer paymentMethodProvider  \\\n",
       "0           18                  0  Citizens First Banks          JCB 16 digit   \n",
       "1           26                  0  Citizens First Banks          JCB 16 digit   \n",
       "2           45                  0         Bastion Banks      American Express   \n",
       "3           23                  0         Bastion Banks      American Express   \n",
       "4           43                  1          Solace Banks         VISA 16 digit   \n",
       "\n",
       "   paymentMethodRegistrationFailure paymentMethodType orderState  fraudulent  \\\n",
       "0                                 1              card          2           0   \n",
       "1                                 1              card          1           0   \n",
       "2                                 0           bitcoin          1           1   \n",
       "3                                 0           bitcoin          1           1   \n",
       "4                                 1           bitcoin          1           1   \n",
       "\n",
       "         customerDevice           customerEmail  ... Customer_state  \\\n",
       "0  yyeiaxpltf82440jnb3v  josephhoward@yahoo.com  ...              C   \n",
       "1  yyeiaxpltf82440jnb3v  josephhoward@yahoo.com  ...              C   \n",
       "2  r0jpm7xaeqqa3kr6mzum  evansjeffery@yahoo.com  ...              N   \n",
       "3  r0jpm7xaeqqa3kr6mzum  evansjeffery@yahoo.com  ...              N   \n",
       "4  r0jpm7xaeqqa3kr6mzum  evansjeffery@yahoo.com  ...              N   \n",
       "\n",
       "  Customer_city Customer_pincode ordershipping_Area ordershipping_City  \\\n",
       "0            CA            51896          Brownside                 CA   \n",
       "1            CA            51896          Brownside                 CA   \n",
       "2            NM            37681      New Keithview                 CA   \n",
       "3            NM            37681    Port Joshuabury                 NM   \n",
       "4            NM            37681          Joshuaton                 FM   \n",
       "\n",
       "  ordershipping_state ordershipping_pincode customer_name  \\\n",
       "0                   C                 51896  josephhoward   \n",
       "1                   C                 51896  josephhoward   \n",
       "2                   C            95893-2497  evansjeffery   \n",
       "3                   N                 37681  evansjeffery   \n",
       "4                   F            01565-9801  evansjeffery   \n",
       "\n",
       "  customer_mailing_websites customer_mailing_sites  \n",
       "0                 yahoo.com                  Known  \n",
       "1                 yahoo.com                  Known  \n",
       "2                 yahoo.com                  Known  \n",
       "3                 yahoo.com                  Known  \n",
       "4                 yahoo.com                  Known  \n",
       "\n",
       "[5 rows x 23 columns]"
      ]
     },
     "execution_count": 79,
     "metadata": {},
     "output_type": "execute_result"
    }
   ],
   "source": [
    "df.head()"
   ]
  },
  {
   "cell_type": "code",
   "execution_count": 80,
   "metadata": {},
   "outputs": [],
   "source": [
    "#Remove unwanted columns\n",
    "data=df.drop(['customerDevice','customerEmail','customerIPAddress','customerPhone','ordershipping_City','Customer_city','ordershipping_Area','customer_mailing_websites','ordershipping_pincode','Customer_pincode'],axis=1)"
   ]
  },
  {
   "cell_type": "code",
   "execution_count": 81,
   "metadata": {},
   "outputs": [
    {
     "data": {
      "text/html": [
       "<div>\n",
       "<style scoped>\n",
       "    .dataframe tbody tr th:only-of-type {\n",
       "        vertical-align: middle;\n",
       "    }\n",
       "\n",
       "    .dataframe tbody tr th {\n",
       "        vertical-align: top;\n",
       "    }\n",
       "\n",
       "    .dataframe thead th {\n",
       "        text-align: right;\n",
       "    }\n",
       "</style>\n",
       "<table border=\"1\" class=\"dataframe\">\n",
       "  <thead>\n",
       "    <tr style=\"text-align: right;\">\n",
       "      <th></th>\n",
       "      <th>orderAmount</th>\n",
       "      <th>transactionFailed</th>\n",
       "      <th>paymentMethodIssuer</th>\n",
       "      <th>paymentMethodProvider</th>\n",
       "      <th>paymentMethodRegistrationFailure</th>\n",
       "      <th>paymentMethodType</th>\n",
       "      <th>orderState</th>\n",
       "      <th>fraudulent</th>\n",
       "      <th>Customer_Area</th>\n",
       "      <th>Customer_state</th>\n",
       "      <th>ordershipping_state</th>\n",
       "      <th>customer_name</th>\n",
       "      <th>customer_mailing_sites</th>\n",
       "    </tr>\n",
       "  </thead>\n",
       "  <tbody>\n",
       "    <tr>\n",
       "      <th>0</th>\n",
       "      <td>18</td>\n",
       "      <td>0</td>\n",
       "      <td>Citizens First Banks</td>\n",
       "      <td>JCB 16 digit</td>\n",
       "      <td>1</td>\n",
       "      <td>card</td>\n",
       "      <td>2</td>\n",
       "      <td>0</td>\n",
       "      <td>Brownside</td>\n",
       "      <td>C</td>\n",
       "      <td>C</td>\n",
       "      <td>josephhoward</td>\n",
       "      <td>Known</td>\n",
       "    </tr>\n",
       "    <tr>\n",
       "      <th>1</th>\n",
       "      <td>26</td>\n",
       "      <td>0</td>\n",
       "      <td>Citizens First Banks</td>\n",
       "      <td>JCB 16 digit</td>\n",
       "      <td>1</td>\n",
       "      <td>card</td>\n",
       "      <td>1</td>\n",
       "      <td>0</td>\n",
       "      <td>Brownside</td>\n",
       "      <td>C</td>\n",
       "      <td>C</td>\n",
       "      <td>josephhoward</td>\n",
       "      <td>Known</td>\n",
       "    </tr>\n",
       "    <tr>\n",
       "      <th>2</th>\n",
       "      <td>45</td>\n",
       "      <td>0</td>\n",
       "      <td>Bastion Banks</td>\n",
       "      <td>American Express</td>\n",
       "      <td>0</td>\n",
       "      <td>bitcoin</td>\n",
       "      <td>1</td>\n",
       "      <td>1</td>\n",
       "      <td>Port Joshuabury</td>\n",
       "      <td>N</td>\n",
       "      <td>C</td>\n",
       "      <td>evansjeffery</td>\n",
       "      <td>Known</td>\n",
       "    </tr>\n",
       "    <tr>\n",
       "      <th>3</th>\n",
       "      <td>23</td>\n",
       "      <td>0</td>\n",
       "      <td>Bastion Banks</td>\n",
       "      <td>American Express</td>\n",
       "      <td>0</td>\n",
       "      <td>bitcoin</td>\n",
       "      <td>1</td>\n",
       "      <td>1</td>\n",
       "      <td>Port Joshuabury</td>\n",
       "      <td>N</td>\n",
       "      <td>N</td>\n",
       "      <td>evansjeffery</td>\n",
       "      <td>Known</td>\n",
       "    </tr>\n",
       "    <tr>\n",
       "      <th>4</th>\n",
       "      <td>43</td>\n",
       "      <td>1</td>\n",
       "      <td>Solace Banks</td>\n",
       "      <td>VISA 16 digit</td>\n",
       "      <td>1</td>\n",
       "      <td>bitcoin</td>\n",
       "      <td>1</td>\n",
       "      <td>1</td>\n",
       "      <td>Port Joshuabury</td>\n",
       "      <td>N</td>\n",
       "      <td>F</td>\n",
       "      <td>evansjeffery</td>\n",
       "      <td>Known</td>\n",
       "    </tr>\n",
       "  </tbody>\n",
       "</table>\n",
       "</div>"
      ],
      "text/plain": [
       "   orderAmount  transactionFailed   paymentMethodIssuer paymentMethodProvider  \\\n",
       "0           18                  0  Citizens First Banks          JCB 16 digit   \n",
       "1           26                  0  Citizens First Banks          JCB 16 digit   \n",
       "2           45                  0         Bastion Banks      American Express   \n",
       "3           23                  0         Bastion Banks      American Express   \n",
       "4           43                  1          Solace Banks         VISA 16 digit   \n",
       "\n",
       "   paymentMethodRegistrationFailure paymentMethodType orderState  fraudulent  \\\n",
       "0                                 1              card          2           0   \n",
       "1                                 1              card          1           0   \n",
       "2                                 0           bitcoin          1           1   \n",
       "3                                 0           bitcoin          1           1   \n",
       "4                                 1           bitcoin          1           1   \n",
       "\n",
       "     Customer_Area Customer_state ordershipping_state customer_name  \\\n",
       "0        Brownside              C                   C  josephhoward   \n",
       "1        Brownside              C                   C  josephhoward   \n",
       "2  Port Joshuabury              N                   C  evansjeffery   \n",
       "3  Port Joshuabury              N                   N  evansjeffery   \n",
       "4  Port Joshuabury              N                   F  evansjeffery   \n",
       "\n",
       "  customer_mailing_sites  \n",
       "0                  Known  \n",
       "1                  Known  \n",
       "2                  Known  \n",
       "3                  Known  \n",
       "4                  Known  "
      ]
     },
     "execution_count": 81,
     "metadata": {},
     "output_type": "execute_result"
    }
   ],
   "source": [
    "data.head()"
   ]
  },
  {
   "cell_type": "code",
   "execution_count": 82,
   "metadata": {},
   "outputs": [],
   "source": [
    "data=data.drop(['customer_name','Customer_Area'],axis=1)"
   ]
  },
  {
   "cell_type": "code",
   "execution_count": 83,
   "metadata": {},
   "outputs": [
    {
     "data": {
      "text/html": [
       "<div>\n",
       "<style scoped>\n",
       "    .dataframe tbody tr th:only-of-type {\n",
       "        vertical-align: middle;\n",
       "    }\n",
       "\n",
       "    .dataframe tbody tr th {\n",
       "        vertical-align: top;\n",
       "    }\n",
       "\n",
       "    .dataframe thead th {\n",
       "        text-align: right;\n",
       "    }\n",
       "</style>\n",
       "<table border=\"1\" class=\"dataframe\">\n",
       "  <thead>\n",
       "    <tr style=\"text-align: right;\">\n",
       "      <th></th>\n",
       "      <th>orderAmount</th>\n",
       "      <th>transactionFailed</th>\n",
       "      <th>paymentMethodIssuer</th>\n",
       "      <th>paymentMethodProvider</th>\n",
       "      <th>paymentMethodRegistrationFailure</th>\n",
       "      <th>paymentMethodType</th>\n",
       "      <th>orderState</th>\n",
       "      <th>fraudulent</th>\n",
       "      <th>Customer_state</th>\n",
       "      <th>ordershipping_state</th>\n",
       "      <th>customer_mailing_sites</th>\n",
       "    </tr>\n",
       "  </thead>\n",
       "  <tbody>\n",
       "    <tr>\n",
       "      <th>0</th>\n",
       "      <td>18</td>\n",
       "      <td>0</td>\n",
       "      <td>Citizens First Banks</td>\n",
       "      <td>JCB 16 digit</td>\n",
       "      <td>1</td>\n",
       "      <td>card</td>\n",
       "      <td>2</td>\n",
       "      <td>0</td>\n",
       "      <td>C</td>\n",
       "      <td>C</td>\n",
       "      <td>Known</td>\n",
       "    </tr>\n",
       "    <tr>\n",
       "      <th>1</th>\n",
       "      <td>26</td>\n",
       "      <td>0</td>\n",
       "      <td>Citizens First Banks</td>\n",
       "      <td>JCB 16 digit</td>\n",
       "      <td>1</td>\n",
       "      <td>card</td>\n",
       "      <td>1</td>\n",
       "      <td>0</td>\n",
       "      <td>C</td>\n",
       "      <td>C</td>\n",
       "      <td>Known</td>\n",
       "    </tr>\n",
       "    <tr>\n",
       "      <th>2</th>\n",
       "      <td>45</td>\n",
       "      <td>0</td>\n",
       "      <td>Bastion Banks</td>\n",
       "      <td>American Express</td>\n",
       "      <td>0</td>\n",
       "      <td>bitcoin</td>\n",
       "      <td>1</td>\n",
       "      <td>1</td>\n",
       "      <td>N</td>\n",
       "      <td>C</td>\n",
       "      <td>Known</td>\n",
       "    </tr>\n",
       "    <tr>\n",
       "      <th>3</th>\n",
       "      <td>23</td>\n",
       "      <td>0</td>\n",
       "      <td>Bastion Banks</td>\n",
       "      <td>American Express</td>\n",
       "      <td>0</td>\n",
       "      <td>bitcoin</td>\n",
       "      <td>1</td>\n",
       "      <td>1</td>\n",
       "      <td>N</td>\n",
       "      <td>N</td>\n",
       "      <td>Known</td>\n",
       "    </tr>\n",
       "    <tr>\n",
       "      <th>4</th>\n",
       "      <td>43</td>\n",
       "      <td>1</td>\n",
       "      <td>Solace Banks</td>\n",
       "      <td>VISA 16 digit</td>\n",
       "      <td>1</td>\n",
       "      <td>bitcoin</td>\n",
       "      <td>1</td>\n",
       "      <td>1</td>\n",
       "      <td>N</td>\n",
       "      <td>F</td>\n",
       "      <td>Known</td>\n",
       "    </tr>\n",
       "  </tbody>\n",
       "</table>\n",
       "</div>"
      ],
      "text/plain": [
       "   orderAmount  transactionFailed   paymentMethodIssuer paymentMethodProvider  \\\n",
       "0           18                  0  Citizens First Banks          JCB 16 digit   \n",
       "1           26                  0  Citizens First Banks          JCB 16 digit   \n",
       "2           45                  0         Bastion Banks      American Express   \n",
       "3           23                  0         Bastion Banks      American Express   \n",
       "4           43                  1          Solace Banks         VISA 16 digit   \n",
       "\n",
       "   paymentMethodRegistrationFailure paymentMethodType orderState  fraudulent  \\\n",
       "0                                 1              card          2           0   \n",
       "1                                 1              card          1           0   \n",
       "2                                 0           bitcoin          1           1   \n",
       "3                                 0           bitcoin          1           1   \n",
       "4                                 1           bitcoin          1           1   \n",
       "\n",
       "  Customer_state ordershipping_state customer_mailing_sites  \n",
       "0              C                   C                  Known  \n",
       "1              C                   C                  Known  \n",
       "2              N                   C                  Known  \n",
       "3              N                   N                  Known  \n",
       "4              N                   F                  Known  "
      ]
     },
     "execution_count": 83,
     "metadata": {},
     "output_type": "execute_result"
    }
   ],
   "source": [
    "data.head()"
   ]
  },
  {
   "cell_type": "code",
   "execution_count": 84,
   "metadata": {},
   "outputs": [
    {
     "data": {
      "text/plain": [
       "orderAmount                          int64\n",
       "transactionFailed                    int64\n",
       "paymentMethodIssuer                 object\n",
       "paymentMethodProvider               object\n",
       "paymentMethodRegistrationFailure     int64\n",
       "paymentMethodType                   object\n",
       "orderState                          object\n",
       "fraudulent                           int64\n",
       "Customer_state                      object\n",
       "ordershipping_state                 object\n",
       "customer_mailing_sites              object\n",
       "dtype: object"
      ]
     },
     "execution_count": 84,
     "metadata": {},
     "output_type": "execute_result"
    }
   ],
   "source": [
    "data.dtypes"
   ]
  },
  {
   "cell_type": "code",
   "execution_count": 85,
   "metadata": {},
   "outputs": [
    {
     "data": {
      "text/plain": [
       "orderAmount                          0\n",
       "transactionFailed                    0\n",
       "paymentMethodIssuer                  0\n",
       "paymentMethodProvider                0\n",
       "paymentMethodRegistrationFailure     0\n",
       "paymentMethodType                    0\n",
       "orderState                           0\n",
       "fraudulent                           0\n",
       "Customer_state                      47\n",
       "ordershipping_state                 36\n",
       "customer_mailing_sites               0\n",
       "dtype: int64"
      ]
     },
     "execution_count": 85,
     "metadata": {},
     "output_type": "execute_result"
    }
   ],
   "source": [
    "data.isnull().sum()#sum of missing values in each column"
   ]
  },
  {
   "cell_type": "code",
   "execution_count": 86,
   "metadata": {},
   "outputs": [],
   "source": [
    "data.fillna(method='ffill',inplace=True)#fill na by forward fill"
   ]
  },
  {
   "cell_type": "code",
   "execution_count": 87,
   "metadata": {},
   "outputs": [
    {
     "data": {
      "text/plain": [
       "orderAmount                         0\n",
       "transactionFailed                   0\n",
       "paymentMethodIssuer                 0\n",
       "paymentMethodProvider               0\n",
       "paymentMethodRegistrationFailure    0\n",
       "paymentMethodType                   0\n",
       "orderState                          0\n",
       "fraudulent                          0\n",
       "Customer_state                      0\n",
       "ordershipping_state                 0\n",
       "customer_mailing_sites              0\n",
       "dtype: int64"
      ]
     },
     "execution_count": 87,
     "metadata": {},
     "output_type": "execute_result"
    }
   ],
   "source": [
    "data.isnull().sum()"
   ]
  },
  {
   "cell_type": "code",
   "execution_count": 88,
   "metadata": {},
   "outputs": [],
   "source": [
    "num_features=data.select_dtypes(include=[np.number])#Numerical variable\n",
    "cat_features=data.select_dtypes(include=[np.object])#categorical variables"
   ]
  },
  {
   "cell_type": "code",
   "execution_count": 89,
   "metadata": {},
   "outputs": [
    {
     "data": {
      "text/plain": [
       "<seaborn.axisgrid.PairGrid at 0x9f7aec3240>"
      ]
     },
     "execution_count": 89,
     "metadata": {},
     "output_type": "execute_result"
    },
    {
     "data": {
      "image/png": "[encoded data removed]",
      "text/plain": [
       "<Figure size 720x720 with 20 Axes>"
      ]
     },
     "metadata": {
      "needs_background": "light"
     },
     "output_type": "display_data"
    }
   ],
   "source": [
    "sns.pairplot(num_features)#pairplot"
   ]
  },
  {
   "cell_type": "code",
   "execution_count": 90,
   "metadata": {},
   "outputs": [
    {
     "data": {
      "text/plain": [
       "<matplotlib.axes._subplots.AxesSubplot at 0x9f7e3f3cf8>"
      ]
     },
     "execution_count": 90,
     "metadata": {},
     "output_type": "execute_result"
    },
    {
     "data": {
      "image/png": "[encoded data removed]",
      "text/plain": [
       "<Figure size 432x288 with 2 Axes>"
      ]
     },
     "metadata": {
      "needs_background": "light"
     },
     "output_type": "display_data"
    }
   ],
   "source": [
    "sns.heatmap(num_features.corr(),annot=True)#Corelation plot"
   ]
  },
  {
   "cell_type": "code",
   "execution_count": 91,
   "metadata": {},
   "outputs": [],
   "source": [
    "#Label encoding\n",
    "le=LabelEncoder()\n",
    "for i in cat_features:\n",
    "    data[i]=le.fit_transform(data[i])"
   ]
  },
  {
   "cell_type": "code",
   "execution_count": 92,
   "metadata": {},
   "outputs": [
    {
     "data": {
      "text/html": [
       "<div>\n",
       "<style scoped>\n",
       "    .dataframe tbody tr th:only-of-type {\n",
       "        vertical-align: middle;\n",
       "    }\n",
       "\n",
       "    .dataframe tbody tr th {\n",
       "        vertical-align: top;\n",
       "    }\n",
       "\n",
       "    .dataframe thead th {\n",
       "        text-align: right;\n",
       "    }\n",
       "</style>\n",
       "<table border=\"1\" class=\"dataframe\">\n",
       "  <thead>\n",
       "    <tr style=\"text-align: right;\">\n",
       "      <th></th>\n",
       "      <th>orderAmount</th>\n",
       "      <th>transactionFailed</th>\n",
       "      <th>paymentMethodIssuer</th>\n",
       "      <th>paymentMethodProvider</th>\n",
       "      <th>paymentMethodRegistrationFailure</th>\n",
       "      <th>paymentMethodType</th>\n",
       "      <th>orderState</th>\n",
       "      <th>fraudulent</th>\n",
       "      <th>Customer_state</th>\n",
       "      <th>ordershipping_state</th>\n",
       "      <th>customer_mailing_sites</th>\n",
       "    </tr>\n",
       "  </thead>\n",
       "  <tbody>\n",
       "    <tr>\n",
       "      <th>0</th>\n",
       "      <td>18</td>\n",
       "      <td>0</td>\n",
       "      <td>2</td>\n",
       "      <td>4</td>\n",
       "      <td>1</td>\n",
       "      <td>2</td>\n",
       "      <td>2</td>\n",
       "      <td>0</td>\n",
       "      <td>2</td>\n",
       "      <td>2</td>\n",
       "      <td>0</td>\n",
       "    </tr>\n",
       "    <tr>\n",
       "      <th>1</th>\n",
       "      <td>26</td>\n",
       "      <td>0</td>\n",
       "      <td>2</td>\n",
       "      <td>4</td>\n",
       "      <td>1</td>\n",
       "      <td>2</td>\n",
       "      <td>1</td>\n",
       "      <td>0</td>\n",
       "      <td>2</td>\n",
       "      <td>2</td>\n",
       "      <td>0</td>\n",
       "    </tr>\n",
       "    <tr>\n",
       "      <th>2</th>\n",
       "      <td>45</td>\n",
       "      <td>0</td>\n",
       "      <td>0</td>\n",
       "      <td>0</td>\n",
       "      <td>0</td>\n",
       "      <td>1</td>\n",
       "      <td>1</td>\n",
       "      <td>1</td>\n",
       "      <td>11</td>\n",
       "      <td>2</td>\n",
       "      <td>0</td>\n",
       "    </tr>\n",
       "    <tr>\n",
       "      <th>3</th>\n",
       "      <td>23</td>\n",
       "      <td>0</td>\n",
       "      <td>0</td>\n",
       "      <td>0</td>\n",
       "      <td>0</td>\n",
       "      <td>1</td>\n",
       "      <td>1</td>\n",
       "      <td>1</td>\n",
       "      <td>11</td>\n",
       "      <td>11</td>\n",
       "      <td>0</td>\n",
       "    </tr>\n",
       "    <tr>\n",
       "      <th>4</th>\n",
       "      <td>43</td>\n",
       "      <td>1</td>\n",
       "      <td>8</td>\n",
       "      <td>8</td>\n",
       "      <td>1</td>\n",
       "      <td>1</td>\n",
       "      <td>1</td>\n",
       "      <td>1</td>\n",
       "      <td>11</td>\n",
       "      <td>4</td>\n",
       "      <td>0</td>\n",
       "    </tr>\n",
       "  </tbody>\n",
       "</table>\n",
       "</div>"
      ],
      "text/plain": [
       "   orderAmount  transactionFailed  paymentMethodIssuer  paymentMethodProvider  \\\n",
       "0           18                  0                    2                      4   \n",
       "1           26                  0                    2                      4   \n",
       "2           45                  0                    0                      0   \n",
       "3           23                  0                    0                      0   \n",
       "4           43                  1                    8                      8   \n",
       "\n",
       "   paymentMethodRegistrationFailure  paymentMethodType  orderState  \\\n",
       "0                                 1                  2           2   \n",
       "1                                 1                  2           1   \n",
       "2                                 0                  1           1   \n",
       "3                                 0                  1           1   \n",
       "4                                 1                  1           1   \n",
       "\n",
       "   fraudulent  Customer_state  ordershipping_state  customer_mailing_sites  \n",
       "0           0               2                    2                       0  \n",
       "1           0               2                    2                       0  \n",
       "2           1              11                    2                       0  \n",
       "3           1              11                   11                       0  \n",
       "4           1              11                    4                       0  "
      ]
     },
     "execution_count": 92,
     "metadata": {},
     "output_type": "execute_result"
    }
   ],
   "source": [
    "data.head()"
   ]
  },
  {
   "cell_type": "code",
   "execution_count": 93,
   "metadata": {},
   "outputs": [],
   "source": [
    "#Dummification\n",
    "columns=['paymentMethodIssuer','paymentMethodProvider','paymentMethodType','orderState','Customer_state','ordershipping_state']\n",
    "train_data=pd.get_dummies(data,columns=columns)"
   ]
  },
  {
   "cell_type": "code",
   "execution_count": 94,
   "metadata": {},
   "outputs": [
    {
     "data": {
      "text/plain": [
       "orderAmount                         int64\n",
       "transactionFailed                   int64\n",
       "paymentMethodRegistrationFailure    int64\n",
       "fraudulent                          int64\n",
       "customer_mailing_sites              int32\n",
       "paymentMethodIssuer_0               uint8\n",
       "paymentMethodIssuer_1               uint8\n",
       "paymentMethodIssuer_2               uint8\n",
       "paymentMethodIssuer_3               uint8\n",
       "paymentMethodIssuer_4               uint8\n",
       "paymentMethodIssuer_5               uint8\n",
       "paymentMethodIssuer_6               uint8\n",
       "paymentMethodIssuer_7               uint8\n",
       "paymentMethodIssuer_8               uint8\n",
       "paymentMethodIssuer_9               uint8\n",
       "paymentMethodIssuer_10              uint8\n",
       "paymentMethodProvider_0             uint8\n",
       "paymentMethodProvider_1             uint8\n",
       "paymentMethodProvider_2             uint8\n",
       "paymentMethodProvider_3             uint8\n",
       "paymentMethodProvider_4             uint8\n",
       "paymentMethodProvider_5             uint8\n",
       "paymentMethodProvider_6             uint8\n",
       "paymentMethodProvider_7             uint8\n",
       "paymentMethodProvider_8             uint8\n",
       "paymentMethodProvider_9             uint8\n",
       "paymentMethodType_0                 uint8\n",
       "paymentMethodType_1                 uint8\n",
       "paymentMethodType_2                 uint8\n",
       "paymentMethodType_3                 uint8\n",
       "                                    ...  \n",
       "Customer_state_9                    uint8\n",
       "Customer_state_10                   uint8\n",
       "Customer_state_11                   uint8\n",
       "Customer_state_12                   uint8\n",
       "Customer_state_13                   uint8\n",
       "Customer_state_14                   uint8\n",
       "Customer_state_15                   uint8\n",
       "Customer_state_16                   uint8\n",
       "Customer_state_17                   uint8\n",
       "Customer_state_18                   uint8\n",
       "ordershipping_state_0               uint8\n",
       "ordershipping_state_1               uint8\n",
       "ordershipping_state_2               uint8\n",
       "ordershipping_state_3               uint8\n",
       "ordershipping_state_4               uint8\n",
       "ordershipping_state_5               uint8\n",
       "ordershipping_state_6               uint8\n",
       "ordershipping_state_7               uint8\n",
       "ordershipping_state_8               uint8\n",
       "ordershipping_state_9               uint8\n",
       "ordershipping_state_10              uint8\n",
       "ordershipping_state_11              uint8\n",
       "ordershipping_state_12              uint8\n",
       "ordershipping_state_13              uint8\n",
       "ordershipping_state_14              uint8\n",
       "ordershipping_state_15              uint8\n",
       "ordershipping_state_16              uint8\n",
       "ordershipping_state_17              uint8\n",
       "ordershipping_state_18              uint8\n",
       "ordershipping_state_19              uint8\n",
       "Length: 72, dtype: object"
      ]
     },
     "execution_count": 94,
     "metadata": {},
     "output_type": "execute_result"
    }
   ],
   "source": [
    "train_data.dtypes"
   ]
  },
  {
   "cell_type": "code",
   "execution_count": 95,
   "metadata": {},
   "outputs": [
    {
     "data": {
      "text/plain": [
       "(622, 72)"
      ]
     },
     "execution_count": 95,
     "metadata": {},
     "output_type": "execute_result"
    }
   ],
   "source": [
    "train_data.shape"
   ]
  },
  {
   "cell_type": "code",
   "execution_count": 96,
   "metadata": {},
   "outputs": [
    {
     "name": "stdout",
     "output_type": "stream",
     "text": [
      "(622, 71)\n",
      "(622,)\n"
     ]
    }
   ],
   "source": [
    "x=train_data.drop('fraudulent',axis=1)\n",
    "y=train_data['fraudulent']\n",
    "print(x.shape)\n",
    "print(y.shape)"
   ]
  },
  {
   "cell_type": "code",
   "execution_count": 97,
   "metadata": {},
   "outputs": [
    {
     "data": {
      "text/plain": [
       "0    366\n",
       "1    256\n",
       "Name: fraudulent, dtype: int64"
      ]
     },
     "execution_count": 97,
     "metadata": {},
     "output_type": "execute_result"
    }
   ],
   "source": [
    "y.value_counts()"
   ]
  },
  {
   "cell_type": "markdown",
   "metadata": {},
   "source": [
    "# Train and Test Split"
   ]
  },
  {
   "cell_type": "code",
   "execution_count": 98,
   "metadata": {},
   "outputs": [],
   "source": [
    "X_train,X_test,y_train,y_test=train_test_split(x,y,test_size=0.2,random_state=0)"
   ]
  },
  {
   "cell_type": "markdown",
   "metadata": {},
   "source": [
    "# Model Building Using RandomForestClassifier"
   ]
  },
  {
   "cell_type": "code",
   "execution_count": 99,
   "metadata": {},
   "outputs": [],
   "source": [
    "#Bulding a pipeline\n",
    "classifier = RandomForestClassifier(n_estimators=100)\n",
    "\n",
    "pipeline = Pipeline([\n",
    "    ('clf', classifier),\n",
    "])"
   ]
  },
  {
   "cell_type": "code",
   "execution_count": 100,
   "metadata": {},
   "outputs": [],
   "source": [
    "parameter_grid = {\n",
    "    'clf__max_features': [0.5, 1,2,3],\n",
    "    'clf__max_depth': [1,2,3,4,5,None],\n",
    "}"
   ]
  },
  {
   "cell_type": "code",
   "execution_count": 101,
   "metadata": {},
   "outputs": [
    {
     "name": "stdout",
     "output_type": "stream",
     "text": [
      "Fitting 5 folds for each of 24 candidates, totalling 120 fits\n",
      "[CV] clf__max_depth=1, clf__max_features=0.5 .........................\n",
      "[CV]  clf__max_depth=1, clf__max_features=0.5, score=0.7425742574257426, total=   0.0s\n",
      "[CV] clf__max_depth=1, clf__max_features=0.5 .........................\n"
     ]
    },
    {
     "name": "stderr",
     "output_type": "stream",
     "text": [
      "[Parallel(n_jobs=1)]: Using backend SequentialBackend with 1 concurrent workers.\n",
      "[Parallel(n_jobs=1)]: Done   1 out of   1 | elapsed:    0.0s remaining:    0.0s\n"
     ]
    },
    {
     "name": "stdout",
     "output_type": "stream",
     "text": [
      "[CV]  clf__max_depth=1, clf__max_features=0.5, score=0.7171717171717171, total=   0.0s\n",
      "[CV] clf__max_depth=1, clf__max_features=0.5 .........................\n",
      "[CV]  clf__max_depth=1, clf__max_features=0.5, score=0.797979797979798, total=   0.0s\n",
      "[CV] clf__max_depth=1, clf__max_features=0.5 .........................\n",
      "[CV]  clf__max_depth=1, clf__max_features=0.5, score=0.7676767676767676, total=   0.0s"
     ]
    },
    {
     "name": "stderr",
     "output_type": "stream",
     "text": [
      "[Parallel(n_jobs=1)]: Done   2 out of   2 | elapsed:    0.2s remaining:    0.0s\n"
     ]
    },
    {
     "name": "stdout",
     "output_type": "stream",
     "text": [
      "\n",
      "[CV] clf__max_depth=1, clf__max_features=0.5 .........................\n",
      "[CV]  clf__max_depth=1, clf__max_features=0.5, score=0.7373737373737373, total=   0.0s\n",
      "[CV] clf__max_depth=1, clf__max_features=1 ...........................\n",
      "[CV]  clf__max_depth=1, clf__max_features=1, score=0.5841584158415841, total=   0.0s\n",
      "[CV] clf__max_depth=1, clf__max_features=1 ...........................\n",
      "[CV]  clf__max_depth=1, clf__max_features=1, score=0.5858585858585859, total=   0.0s\n",
      "[CV] clf__max_depth=1, clf__max_features=1 ...........................\n",
      "[CV]  clf__max_depth=1, clf__max_features=1, score=0.5858585858585859, total=   0.0s\n",
      "[CV] clf__max_depth=1, clf__max_features=1 ...........................\n",
      "[CV]  clf__max_depth=1, clf__max_features=1, score=0.5858585858585859, total=   0.0s\n",
      "[CV] clf__max_depth=1, clf__max_features=1 ...........................\n",
      "[CV]  clf__max_depth=1, clf__max_features=1, score=0.5858585858585859, total=   0.0s\n",
      "[CV] clf__max_depth=1, clf__max_features=2 ...........................\n",
      "[CV]  clf__max_depth=1, clf__max_features=2, score=0.5841584158415841, total=   0.0s\n",
      "[CV] clf__max_depth=1, clf__max_features=2 ...........................\n",
      "[CV]  clf__max_depth=1, clf__max_features=2, score=0.5858585858585859, total=   0.0s\n",
      "[CV] clf__max_depth=1, clf__max_features=2 ...........................\n",
      "[CV]  clf__max_depth=1, clf__max_features=2, score=0.5858585858585859, total=   0.0s\n",
      "[CV] clf__max_depth=1, clf__max_features=2 ...........................\n",
      "[CV]  clf__max_depth=1, clf__max_features=2, score=0.5858585858585859, total=   0.0s\n",
      "[CV] clf__max_depth=1, clf__max_features=2 ...........................\n",
      "[CV]  clf__max_depth=1, clf__max_features=2, score=0.5858585858585859, total=   0.0s\n",
      "[CV] clf__max_depth=1, clf__max_features=3 ...........................\n",
      "[CV]  clf__max_depth=1, clf__max_features=3, score=0.5841584158415841, total=   0.0s\n",
      "[CV] clf__max_depth=1, clf__max_features=3 ...........................\n",
      "[CV]  clf__max_depth=1, clf__max_features=3, score=0.5858585858585859, total=   0.0s\n",
      "[CV] clf__max_depth=1, clf__max_features=3 ...........................\n",
      "[CV]  clf__max_depth=1, clf__max_features=3, score=0.5858585858585859, total=   0.0s\n",
      "[CV] clf__max_depth=1, clf__max_features=3 ...........................\n",
      "[CV]  clf__max_depth=1, clf__max_features=3, score=0.5858585858585859, total=   0.0s\n",
      "[CV] clf__max_depth=1, clf__max_features=3 ...........................\n",
      "[CV]  clf__max_depth=1, clf__max_features=3, score=0.5858585858585859, total=   0.0s\n",
      "[CV] clf__max_depth=2, clf__max_features=0.5 .........................\n",
      "[CV]  clf__max_depth=2, clf__max_features=0.5, score=0.7722772277227723, total=   0.0s\n",
      "[CV] clf__max_depth=2, clf__max_features=0.5 .........................\n",
      "[CV]  clf__max_depth=2, clf__max_features=0.5, score=0.7171717171717171, total=   0.0s\n",
      "[CV] clf__max_depth=2, clf__max_features=0.5 .........................\n",
      "[CV]  clf__max_depth=2, clf__max_features=0.5, score=0.797979797979798, total=   0.0s\n",
      "[CV] clf__max_depth=2, clf__max_features=0.5 .........................\n",
      "[CV]  clf__max_depth=2, clf__max_features=0.5, score=0.7676767676767676, total=   0.0s\n",
      "[CV] clf__max_depth=2, clf__max_features=0.5 .........................\n",
      "[CV]  clf__max_depth=2, clf__max_features=0.5, score=0.7373737373737373, total=   0.0s\n",
      "[CV] clf__max_depth=2, clf__max_features=1 ...........................\n",
      "[CV]  clf__max_depth=2, clf__max_features=1, score=0.5841584158415841, total=   0.0s\n",
      "[CV] clf__max_depth=2, clf__max_features=1 ...........................\n",
      "[CV]  clf__max_depth=2, clf__max_features=1, score=0.5858585858585859, total=   0.0s\n",
      "[CV] clf__max_depth=2, clf__max_features=1 ...........................\n",
      "[CV]  clf__max_depth=2, clf__max_features=1, score=0.5858585858585859, total=   0.0s\n",
      "[CV] clf__max_depth=2, clf__max_features=1 ...........................\n",
      "[CV]  clf__max_depth=2, clf__max_features=1, score=0.5858585858585859, total=   0.0s\n",
      "[CV] clf__max_depth=2, clf__max_features=1 ...........................\n",
      "[CV]  clf__max_depth=2, clf__max_features=1, score=0.5858585858585859, total=   0.0s\n",
      "[CV] clf__max_depth=2, clf__max_features=2 ...........................\n",
      "[CV]  clf__max_depth=2, clf__max_features=2, score=0.5841584158415841, total=   0.0s\n",
      "[CV] clf__max_depth=2, clf__max_features=2 ...........................\n",
      "[CV]  clf__max_depth=2, clf__max_features=2, score=0.5858585858585859, total=   0.0s\n",
      "[CV] clf__max_depth=2, clf__max_features=2 ...........................\n",
      "[CV]  clf__max_depth=2, clf__max_features=2, score=0.5858585858585859, total=   0.0s\n",
      "[CV] clf__max_depth=2, clf__max_features=2 ...........................\n",
      "[CV]  clf__max_depth=2, clf__max_features=2, score=0.5858585858585859, total=   0.0s\n",
      "[CV] clf__max_depth=2, clf__max_features=2 ...........................\n",
      "[CV]  clf__max_depth=2, clf__max_features=2, score=0.5858585858585859, total=   0.0s\n",
      "[CV] clf__max_depth=2, clf__max_features=3 ...........................\n",
      "[CV]  clf__max_depth=2, clf__max_features=3, score=0.5841584158415841, total=   0.0s\n",
      "[CV] clf__max_depth=2, clf__max_features=3 ...........................\n",
      "[CV]  clf__max_depth=2, clf__max_features=3, score=0.5858585858585859, total=   0.0s\n",
      "[CV] clf__max_depth=2, clf__max_features=3 ...........................\n",
      "[CV]  clf__max_depth=2, clf__max_features=3, score=0.5858585858585859, total=   0.0s\n",
      "[CV] clf__max_depth=2, clf__max_features=3 ...........................\n",
      "[CV]  clf__max_depth=2, clf__max_features=3, score=0.5959595959595959, total=   0.0s\n",
      "[CV] clf__max_depth=2, clf__max_features=3 ...........................\n",
      "[CV]  clf__max_depth=2, clf__max_features=3, score=0.5858585858585859, total=   0.0s\n",
      "[CV] clf__max_depth=3, clf__max_features=0.5 .........................\n",
      "[CV]  clf__max_depth=3, clf__max_features=0.5, score=0.7722772277227723, total=   0.0s\n",
      "[CV] clf__max_depth=3, clf__max_features=0.5 .........................\n",
      "[CV]  clf__max_depth=3, clf__max_features=0.5, score=0.7171717171717171, total=   0.0s\n",
      "[CV] clf__max_depth=3, clf__max_features=0.5 .........................\n",
      "[CV]  clf__max_depth=3, clf__max_features=0.5, score=0.797979797979798, total=   0.0s\n",
      "[CV] clf__max_depth=3, clf__max_features=0.5 .........................\n",
      "[CV]  clf__max_depth=3, clf__max_features=0.5, score=0.7676767676767676, total=   0.0s\n",
      "[CV] clf__max_depth=3, clf__max_features=0.5 .........................\n",
      "[CV]  clf__max_depth=3, clf__max_features=0.5, score=0.7373737373737373, total=   0.0s\n",
      "[CV] clf__max_depth=3, clf__max_features=1 ...........................\n",
      "[CV]  clf__max_depth=3, clf__max_features=1, score=0.5841584158415841, total=   0.0s\n",
      "[CV] clf__max_depth=3, clf__max_features=1 ...........................\n",
      "[CV]  clf__max_depth=3, clf__max_features=1, score=0.5858585858585859, total=   0.0s\n",
      "[CV] clf__max_depth=3, clf__max_features=1 ...........................\n",
      "[CV]  clf__max_depth=3, clf__max_features=1, score=0.5858585858585859, total=   0.0s\n",
      "[CV] clf__max_depth=3, clf__max_features=1 ...........................\n",
      "[CV]  clf__max_depth=3, clf__max_features=1, score=0.5858585858585859, total=   0.0s\n",
      "[CV] clf__max_depth=3, clf__max_features=1 ...........................\n",
      "[CV]  clf__max_depth=3, clf__max_features=1, score=0.5858585858585859, total=   0.0s\n",
      "[CV] clf__max_depth=3, clf__max_features=2 ...........................\n",
      "[CV]  clf__max_depth=3, clf__max_features=2, score=0.6039603960396039, total=   0.0s\n",
      "[CV] clf__max_depth=3, clf__max_features=2 ...........................\n",
      "[CV]  clf__max_depth=3, clf__max_features=2, score=0.6161616161616161, total=   0.0s\n",
      "[CV] clf__max_depth=3, clf__max_features=2 ...........................\n",
      "[CV]  clf__max_depth=3, clf__max_features=2, score=0.5858585858585859, total=   0.0s\n",
      "[CV] clf__max_depth=3, clf__max_features=2 ...........................\n",
      "[CV]  clf__max_depth=3, clf__max_features=2, score=0.6464646464646465, total=   0.0s\n",
      "[CV] clf__max_depth=3, clf__max_features=2 ...........................\n",
      "[CV]  clf__max_depth=3, clf__max_features=2, score=0.5959595959595959, total=   0.0s\n",
      "[CV] clf__max_depth=3, clf__max_features=3 ...........................\n",
      "[CV]  clf__max_depth=3, clf__max_features=3, score=0.6336633663366337, total=   0.0s\n",
      "[CV] clf__max_depth=3, clf__max_features=3 ...........................\n"
     ]
    },
    {
     "name": "stdout",
     "output_type": "stream",
     "text": [
      "[CV]  clf__max_depth=3, clf__max_features=3, score=0.6565656565656566, total=   0.0s\n",
      "[CV] clf__max_depth=3, clf__max_features=3 ...........................\n",
      "[CV]  clf__max_depth=3, clf__max_features=3, score=0.696969696969697, total=   0.0s\n",
      "[CV] clf__max_depth=3, clf__max_features=3 ...........................\n",
      "[CV]  clf__max_depth=3, clf__max_features=3, score=0.6464646464646465, total=   0.0s\n",
      "[CV] clf__max_depth=3, clf__max_features=3 ...........................\n",
      "[CV]  clf__max_depth=3, clf__max_features=3, score=0.6363636363636364, total=   0.0s\n",
      "[CV] clf__max_depth=4, clf__max_features=0.5 .........................\n",
      "[CV]  clf__max_depth=4, clf__max_features=0.5, score=0.7722772277227723, total=   0.0s\n",
      "[CV] clf__max_depth=4, clf__max_features=0.5 .........................\n",
      "[CV]  clf__max_depth=4, clf__max_features=0.5, score=0.7171717171717171, total=   0.0s\n",
      "[CV] clf__max_depth=4, clf__max_features=0.5 .........................\n",
      "[CV]  clf__max_depth=4, clf__max_features=0.5, score=0.8080808080808081, total=   0.0s\n",
      "[CV] clf__max_depth=4, clf__max_features=0.5 .........................\n",
      "[CV]  clf__max_depth=4, clf__max_features=0.5, score=0.7676767676767676, total=   0.0s\n",
      "[CV] clf__max_depth=4, clf__max_features=0.5 .........................\n",
      "[CV]  clf__max_depth=4, clf__max_features=0.5, score=0.7373737373737373, total=   0.0s\n",
      "[CV] clf__max_depth=4, clf__max_features=1 ...........................\n",
      "[CV]  clf__max_depth=4, clf__max_features=1, score=0.6039603960396039, total=   0.0s\n",
      "[CV] clf__max_depth=4, clf__max_features=1 ...........................\n",
      "[CV]  clf__max_depth=4, clf__max_features=1, score=0.5858585858585859, total=   0.0s\n",
      "[CV] clf__max_depth=4, clf__max_features=1 ...........................\n",
      "[CV]  clf__max_depth=4, clf__max_features=1, score=0.5858585858585859, total=   0.0s\n",
      "[CV] clf__max_depth=4, clf__max_features=1 ...........................\n",
      "[CV]  clf__max_depth=4, clf__max_features=1, score=0.5858585858585859, total=   0.0s\n",
      "[CV] clf__max_depth=4, clf__max_features=1 ...........................\n",
      "[CV]  clf__max_depth=4, clf__max_features=1, score=0.5858585858585859, total=   0.0s\n",
      "[CV] clf__max_depth=4, clf__max_features=2 ...........................\n",
      "[CV]  clf__max_depth=4, clf__max_features=2, score=0.7128712871287128, total=   0.0s\n",
      "[CV] clf__max_depth=4, clf__max_features=2 ...........................\n",
      "[CV]  clf__max_depth=4, clf__max_features=2, score=0.6868686868686869, total=   0.0s\n",
      "[CV] clf__max_depth=4, clf__max_features=2 ...........................\n",
      "[CV]  clf__max_depth=4, clf__max_features=2, score=0.696969696969697, total=   0.0s\n",
      "[CV] clf__max_depth=4, clf__max_features=2 ...........................\n",
      "[CV]  clf__max_depth=4, clf__max_features=2, score=0.6767676767676768, total=   0.0s\n",
      "[CV] clf__max_depth=4, clf__max_features=2 ...........................\n",
      "[CV]  clf__max_depth=4, clf__max_features=2, score=0.6060606060606061, total=   0.0s\n",
      "[CV] clf__max_depth=4, clf__max_features=3 ...........................\n",
      "[CV]  clf__max_depth=4, clf__max_features=3, score=0.7128712871287128, total=   0.0s\n",
      "[CV] clf__max_depth=4, clf__max_features=3 ...........................\n",
      "[CV]  clf__max_depth=4, clf__max_features=3, score=0.696969696969697, total=   0.0s\n",
      "[CV] clf__max_depth=4, clf__max_features=3 ...........................\n",
      "[CV]  clf__max_depth=4, clf__max_features=3, score=0.7777777777777778, total=   0.0s\n",
      "[CV] clf__max_depth=4, clf__max_features=3 ...........................\n",
      "[CV]  clf__max_depth=4, clf__max_features=3, score=0.696969696969697, total=   0.0s\n",
      "[CV] clf__max_depth=4, clf__max_features=3 ...........................\n",
      "[CV]  clf__max_depth=4, clf__max_features=3, score=0.6666666666666666, total=   0.0s\n",
      "[CV] clf__max_depth=5, clf__max_features=0.5 .........................\n",
      "[CV]  clf__max_depth=5, clf__max_features=0.5, score=0.7722772277227723, total=   0.0s\n",
      "[CV] clf__max_depth=5, clf__max_features=0.5 .........................\n",
      "[CV]  clf__max_depth=5, clf__max_features=0.5, score=0.696969696969697, total=   0.0s\n",
      "[CV] clf__max_depth=5, clf__max_features=0.5 .........................\n",
      "[CV]  clf__max_depth=5, clf__max_features=0.5, score=0.8181818181818182, total=   0.0s\n",
      "[CV] clf__max_depth=5, clf__max_features=0.5 .........................\n",
      "[CV]  clf__max_depth=5, clf__max_features=0.5, score=0.7878787878787878, total=   0.0s\n",
      "[CV] clf__max_depth=5, clf__max_features=0.5 .........................\n",
      "[CV]  clf__max_depth=5, clf__max_features=0.5, score=0.7272727272727273, total=   0.0s\n",
      "[CV] clf__max_depth=5, clf__max_features=1 ...........................\n",
      "[CV]  clf__max_depth=5, clf__max_features=1, score=0.6336633663366337, total=   0.0s\n",
      "[CV] clf__max_depth=5, clf__max_features=1 ...........................\n",
      "[CV]  clf__max_depth=5, clf__max_features=1, score=0.6666666666666666, total=   0.0s\n",
      "[CV] clf__max_depth=5, clf__max_features=1 ...........................\n",
      "[CV]  clf__max_depth=5, clf__max_features=1, score=0.6161616161616161, total=   0.0s\n",
      "[CV] clf__max_depth=5, clf__max_features=1 ...........................\n",
      "[CV]  clf__max_depth=5, clf__max_features=1, score=0.6363636363636364, total=   0.0s\n",
      "[CV] clf__max_depth=5, clf__max_features=1 ...........................\n",
      "[CV]  clf__max_depth=5, clf__max_features=1, score=0.6565656565656566, total=   0.0s\n",
      "[CV] clf__max_depth=5, clf__max_features=2 ...........................\n",
      "[CV]  clf__max_depth=5, clf__max_features=2, score=0.7227722772277227, total=   0.0s\n",
      "[CV] clf__max_depth=5, clf__max_features=2 ...........................\n",
      "[CV]  clf__max_depth=5, clf__max_features=2, score=0.696969696969697, total=   0.0s\n",
      "[CV] clf__max_depth=5, clf__max_features=2 ...........................\n",
      "[CV]  clf__max_depth=5, clf__max_features=2, score=0.7171717171717171, total=   0.0s\n",
      "[CV] clf__max_depth=5, clf__max_features=2 ...........................\n",
      "[CV]  clf__max_depth=5, clf__max_features=2, score=0.6666666666666666, total=   0.0s\n",
      "[CV] clf__max_depth=5, clf__max_features=2 ...........................\n",
      "[CV]  clf__max_depth=5, clf__max_features=2, score=0.6767676767676768, total=   0.0s\n",
      "[CV] clf__max_depth=5, clf__max_features=3 ...........................\n",
      "[CV]  clf__max_depth=5, clf__max_features=3, score=0.7623762376237624, total=   0.0s\n",
      "[CV] clf__max_depth=5, clf__max_features=3 ...........................\n",
      "[CV]  clf__max_depth=5, clf__max_features=3, score=0.7272727272727273, total=   0.0s\n",
      "[CV] clf__max_depth=5, clf__max_features=3 ...........................\n",
      "[CV]  clf__max_depth=5, clf__max_features=3, score=0.797979797979798, total=   0.0s\n",
      "[CV] clf__max_depth=5, clf__max_features=3 ...........................\n",
      "[CV]  clf__max_depth=5, clf__max_features=3, score=0.7474747474747475, total=   0.0s\n",
      "[CV] clf__max_depth=5, clf__max_features=3 ...........................\n",
      "[CV]  clf__max_depth=5, clf__max_features=3, score=0.696969696969697, total=   0.0s\n",
      "[CV] clf__max_depth=None, clf__max_features=0.5 ......................\n",
      "[CV]  clf__max_depth=None, clf__max_features=0.5, score=0.900990099009901, total=   0.1s\n",
      "[CV] clf__max_depth=None, clf__max_features=0.5 ......................\n",
      "[CV]  clf__max_depth=None, clf__max_features=0.5, score=0.8080808080808081, total=   0.0s\n",
      "[CV] clf__max_depth=None, clf__max_features=0.5 ......................\n",
      "[CV]  clf__max_depth=None, clf__max_features=0.5, score=0.8484848484848485, total=   0.1s\n",
      "[CV] clf__max_depth=None, clf__max_features=0.5 ......................\n",
      "[CV]  clf__max_depth=None, clf__max_features=0.5, score=0.898989898989899, total=   0.1s\n",
      "[CV] clf__max_depth=None, clf__max_features=0.5 ......................\n",
      "[CV]  clf__max_depth=None, clf__max_features=0.5, score=0.8585858585858586, total=   0.1s\n",
      "[CV] clf__max_depth=None, clf__max_features=1 ........................\n",
      "[CV]  clf__max_depth=None, clf__max_features=1, score=0.8910891089108911, total=   0.0s\n",
      "[CV] clf__max_depth=None, clf__max_features=1 ........................\n",
      "[CV]  clf__max_depth=None, clf__max_features=1, score=0.8282828282828283, total=   0.0s\n",
      "[CV] clf__max_depth=None, clf__max_features=1 ........................\n",
      "[CV]  clf__max_depth=None, clf__max_features=1, score=0.9191919191919192, total=   0.0s\n",
      "[CV] clf__max_depth=None, clf__max_features=1 ........................\n",
      "[CV]  clf__max_depth=None, clf__max_features=1, score=0.8686868686868687, total=   0.0s\n",
      "[CV] clf__max_depth=None, clf__max_features=1 ........................\n",
      "[CV]  clf__max_depth=None, clf__max_features=1, score=0.8585858585858586, total=   0.0s\n",
      "[CV] clf__max_depth=None, clf__max_features=2 ........................\n"
     ]
    },
    {
     "name": "stdout",
     "output_type": "stream",
     "text": [
      "[CV]  clf__max_depth=None, clf__max_features=2, score=0.8910891089108911, total=   0.0s\n",
      "[CV] clf__max_depth=None, clf__max_features=2 ........................\n",
      "[CV]  clf__max_depth=None, clf__max_features=2, score=0.8383838383838383, total=   0.0s\n",
      "[CV] clf__max_depth=None, clf__max_features=2 ........................\n",
      "[CV]  clf__max_depth=None, clf__max_features=2, score=0.9191919191919192, total=   0.0s\n",
      "[CV] clf__max_depth=None, clf__max_features=2 ........................\n",
      "[CV]  clf__max_depth=None, clf__max_features=2, score=0.8585858585858586, total=   0.0s\n",
      "[CV] clf__max_depth=None, clf__max_features=2 ........................\n",
      "[CV]  clf__max_depth=None, clf__max_features=2, score=0.8787878787878788, total=   0.0s\n",
      "[CV] clf__max_depth=None, clf__max_features=3 ........................\n",
      "[CV]  clf__max_depth=None, clf__max_features=3, score=0.8811881188118812, total=   0.0s\n",
      "[CV] clf__max_depth=None, clf__max_features=3 ........................\n",
      "[CV]  clf__max_depth=None, clf__max_features=3, score=0.8585858585858586, total=   0.0s\n",
      "[CV] clf__max_depth=None, clf__max_features=3 ........................\n",
      "[CV]  clf__max_depth=None, clf__max_features=3, score=0.8787878787878788, total=   0.0s\n",
      "[CV] clf__max_depth=None, clf__max_features=3 ........................\n",
      "[CV]  clf__max_depth=None, clf__max_features=3, score=0.8787878787878788, total=   0.0s\n",
      "[CV] clf__max_depth=None, clf__max_features=3 ........................\n",
      "[CV]  clf__max_depth=None, clf__max_features=3, score=0.8686868686868687, total=   0.0s\n"
     ]
    },
    {
     "name": "stderr",
     "output_type": "stream",
     "text": [
      "[Parallel(n_jobs=1)]: Done 120 out of 120 | elapsed:   14.1s finished\n"
     ]
    },
    {
     "data": {
      "text/plain": [
       "GridSearchCV(cv=5, error_score='raise-deprecating',\n",
       "       estimator=Pipeline(memory=None,\n",
       "     steps=[('clf', RandomForestClassifier(bootstrap=True, class_weight=None, criterion='gini',\n",
       "            max_depth=None, max_features='auto', max_leaf_nodes=None,\n",
       "            min_impurity_decrease=0.0, min_impurity_split=None,\n",
       "            min_samples_leaf=1, min_samples_split=2,\n",
       "            min_weight_fraction_leaf=0.0, n_estimators=100, n_jobs=None,\n",
       "            oob_score=False, random_state=None, verbose=0,\n",
       "            warm_start=False))]),\n",
       "       fit_params=None, iid='warn', n_jobs=None,\n",
       "       param_grid={'clf__max_features': [0.5, 1, 2, 3], 'clf__max_depth': [1, 2, 3, 4, 5, None]},\n",
       "       pre_dispatch='2*n_jobs', refit=True, return_train_score='warn',\n",
       "       scoring=None, verbose=3)"
      ]
     },
     "execution_count": 101,
     "metadata": {},
     "output_type": "execute_result"
    }
   ],
   "source": [
    "grid_search = GridSearchCV(pipeline, parameter_grid, cv=5, verbose=3)\n",
    "grid_search.fit(X_train, y_train)"
   ]
  },
  {
   "cell_type": "code",
   "execution_count": 102,
   "metadata": {},
   "outputs": [
    {
     "data": {
      "text/plain": [
       "{'clf__max_depth': None, 'clf__max_features': 2}"
      ]
     },
     "execution_count": 102,
     "metadata": {},
     "output_type": "execute_result"
    }
   ],
   "source": [
    "sorted(grid_search.cv_results_.keys())\n",
    "grid_search.best_score_\n",
    "grid_search.best_params_"
   ]
  },
  {
   "cell_type": "code",
   "execution_count": 103,
   "metadata": {},
   "outputs": [
    {
     "name": "stdout",
     "output_type": "stream",
     "text": [
      "Accuracy of the GBM on train set: 1.000\n",
      "Accuracy of the GBM on test set: 0.944\n",
      "              precision    recall  f1-score   support\n",
      "\n",
      "           0       0.93      0.99      0.95        75\n",
      "           1       0.98      0.88      0.93        50\n",
      "\n",
      "   micro avg       0.94      0.94      0.94       125\n",
      "   macro avg       0.95      0.93      0.94       125\n",
      "weighted avg       0.95      0.94      0.94       125\n",
      "\n"
     ]
    },
    {
     "data": {
      "image/png": "[encoded data removed]",
      "text/plain": [
       "<Figure size 720x576 with 1 Axes>"
      ]
     },
     "metadata": {
      "needs_background": "light"
     },
     "output_type": "display_data"
    }
   ],
   "source": [
    "random=RandomForestClassifier(n_estimators=100,max_depth=None,max_features=2)\n",
    "random.fit(X_train,y_train)\n",
    "predictors=list(X_train)\n",
    "feat_imp = pd.Series(random.feature_importances_, predictors).sort_values(ascending=False)\n",
    "plt.figure(figsize=(10,8))\n",
    "feat_imp.plot(kind='bar', title='Importance of Features')\n",
    "plt.ylabel('Feature Importance Score')\n",
    "print('Accuracy of the GBM on train set: {:.3f}'.format(random.score(X_train, y_train)))\n",
    "print('Accuracy of the GBM on test set: {:.3f}'.format(random.score(X_test, y_test)))\n",
    "pred=random.predict(X_test)\n",
    "print(classification_report(y_test, pred))"
   ]
  },
  {
   "cell_type": "code",
   "execution_count": 104,
   "metadata": {},
   "outputs": [
    {
     "data": {
      "text/plain": [
       "SelectFromModel(estimator=RandomForestClassifier(bootstrap=True, class_weight=None, criterion='gini',\n",
       "            max_depth=None, max_features=3, max_leaf_nodes=None,\n",
       "            min_impurity_decrease=0.0, min_impurity_split=None,\n",
       "            min_samples_leaf=1, min_samples_split=2,\n",
       "            min_weight_fraction_leaf=0.0, n_estimators=100, n_jobs=None,\n",
       "            oob_score=False, random_state=None, verbose=0,\n",
       "            warm_start=False),\n",
       "        max_features=None, norm_order=1, prefit=False, threshold=None)"
      ]
     },
     "execution_count": 104,
     "metadata": {},
     "output_type": "execute_result"
    }
   ],
   "source": [
    "model=SelectFromModel(RandomForestClassifier(n_estimators = 100,max_depth=None,max_features=3))\n",
    "model.fit(X_train, y_train)"
   ]
  },
  {
   "cell_type": "code",
   "execution_count": 105,
   "metadata": {},
   "outputs": [
    {
     "data": {
      "text/plain": [
       "array([ True,  True,  True,  True, False,  True, False,  True,  True,\n",
       "        True, False,  True, False,  True,  True,  True, False, False,\n",
       "       False,  True,  True, False,  True,  True, False, False, False,\n",
       "        True, False, False, False, False, False, False, False, False,\n",
       "       False, False, False,  True, False, False,  True, False,  True,\n",
       "       False, False, False, False, False,  True, False, False, False,\n",
       "       False, False, False, False, False, False, False,  True, False,\n",
       "       False, False, False, False, False, False, False, False])"
      ]
     },
     "execution_count": 105,
     "metadata": {},
     "output_type": "execute_result"
    }
   ],
   "source": [
    "model.get_support()"
   ]
  },
  {
   "cell_type": "code",
   "execution_count": 106,
   "metadata": {},
   "outputs": [
    {
     "data": {
      "text/plain": [
       "22"
      ]
     },
     "execution_count": 106,
     "metadata": {},
     "output_type": "execute_result"
    }
   ],
   "source": [
    "selected_feat= X_train.columns[(model.get_support())]\n",
    "len(selected_feat)"
   ]
  },
  {
   "cell_type": "code",
   "execution_count": 107,
   "metadata": {},
   "outputs": [
    {
     "name": "stdout",
     "output_type": "stream",
     "text": [
      "Index(['orderAmount', 'transactionFailed', 'paymentMethodRegistrationFailure',\n",
      "       'customer_mailing_sites', 'paymentMethodIssuer_1',\n",
      "       'paymentMethodIssuer_3', 'paymentMethodIssuer_4',\n",
      "       'paymentMethodIssuer_5', 'paymentMethodIssuer_7',\n",
      "       'paymentMethodIssuer_9', 'paymentMethodIssuer_10',\n",
      "       'paymentMethodProvider_0', 'paymentMethodProvider_4',\n",
      "       'paymentMethodProvider_5', 'paymentMethodProvider_7',\n",
      "       'paymentMethodProvider_8', 'paymentMethodType_2', 'Customer_state_7',\n",
      "       'Customer_state_10', 'Customer_state_12', 'Customer_state_18',\n",
      "       'ordershipping_state_10'],\n",
      "      dtype='object')\n"
     ]
    }
   ],
   "source": [
    "print(selected_feat)"
   ]
  },
  {
   "cell_type": "code",
   "execution_count": 108,
   "metadata": {},
   "outputs": [],
   "source": [
    "columns=['orderAmount', 'transactionFailed', 'paymentMethodRegistrationFailure',\n",
    "       'customer_mailing_sites', 'paymentMethodIssuer_0',\n",
    "       'paymentMethodIssuer_2', 'paymentMethodIssuer_3',\n",
    "       'paymentMethodIssuer_4', 'paymentMethodIssuer_5',\n",
    "       'paymentMethodIssuer_9', 'paymentMethodIssuer_10',\n",
    "       'paymentMethodProvider_3', 'paymentMethodProvider_4',\n",
    "       'paymentMethodProvider_5', 'paymentMethodProvider_7',\n",
    "       'paymentMethodProvider_8', 'paymentMethodProvider_9',\n",
    "       'paymentMethodType_2', 'Customer_state_7', 'Customer_state_10',\n",
    "       'Customer_state_12', 'ordershipping_state_10']\n",
    "x_train=X_train[columns]\n",
    "x_test=X_test[columns]"
   ]
  },
  {
   "cell_type": "code",
   "execution_count": 109,
   "metadata": {},
   "outputs": [
    {
     "name": "stdout",
     "output_type": "stream",
     "text": [
      "Accuracy of the GBM on train set: 0.998\n",
      "Accuracy of the GBM on test set: 0.944\n",
      "              precision    recall  f1-score   support\n",
      "\n",
      "           0       0.94      0.97      0.95        75\n",
      "           1       0.96      0.90      0.93        50\n",
      "\n",
      "   micro avg       0.94      0.94      0.94       125\n",
      "   macro avg       0.95      0.94      0.94       125\n",
      "weighted avg       0.94      0.94      0.94       125\n",
      "\n"
     ]
    },
    {
     "data": {
      "image/png": "[encoded data removed]",
      "text/plain": [
       "<Figure size 720x576 with 1 Axes>"
      ]
     },
     "metadata": {
      "needs_background": "light"
     },
     "output_type": "display_data"
    }
   ],
   "source": [
    "random=RandomForestClassifier(n_estimators=100,max_depth=None,max_features=2)\n",
    "random.fit(x_train,y_train)\n",
    "predictors=list(x_train)\n",
    "feat_imp = pd.Series(random.feature_importances_, predictors).sort_values(ascending=False)\n",
    "plt.figure(figsize=(10,8))\n",
    "feat_imp.plot(kind='bar', title='Importance of Features')\n",
    "plt.ylabel('Feature Importance Score')\n",
    "print('Accuracy of the GBM on train set: {:.3f}'.format(random.score(x_train, y_train)))\n",
    "print('Accuracy of the GBM on test set: {:.3f}'.format(random.score(x_test, y_test)))\n",
    "pred=random.predict(x_test)\n",
    "print(classification_report(y_test, pred))"
   ]
  },
  {
   "cell_type": "code",
   "execution_count": 110,
   "metadata": {},
   "outputs": [
    {
     "data": {
      "text/html": [
       "<div>\n",
       "<style scoped>\n",
       "    .dataframe tbody tr th:only-of-type {\n",
       "        vertical-align: middle;\n",
       "    }\n",
       "\n",
       "    .dataframe tbody tr th {\n",
       "        vertical-align: top;\n",
       "    }\n",
       "\n",
       "    .dataframe thead th {\n",
       "        text-align: right;\n",
       "    }\n",
       "</style>\n",
       "<table border=\"1\" class=\"dataframe\">\n",
       "  <thead>\n",
       "    <tr style=\"text-align: right;\">\n",
       "      <th>Predicted</th>\n",
       "      <th>0</th>\n",
       "      <th>1</th>\n",
       "    </tr>\n",
       "    <tr>\n",
       "      <th>Real data</th>\n",
       "      <th></th>\n",
       "      <th></th>\n",
       "    </tr>\n",
       "  </thead>\n",
       "  <tbody>\n",
       "    <tr>\n",
       "      <th>0</th>\n",
       "      <td>73</td>\n",
       "      <td>2</td>\n",
       "    </tr>\n",
       "    <tr>\n",
       "      <th>1</th>\n",
       "      <td>5</td>\n",
       "      <td>45</td>\n",
       "    </tr>\n",
       "  </tbody>\n",
       "</table>\n",
       "</div>"
      ],
      "text/plain": [
       "Predicted   0   1\n",
       "Real data        \n",
       "0          73   2\n",
       "1           5  45"
      ]
     },
     "execution_count": 110,
     "metadata": {},
     "output_type": "execute_result"
    }
   ],
   "source": [
    "pd.crosstab(y_test,pred, rownames=['Real data'], colnames=['Predicted'])"
   ]
  },
  {
   "cell_type": "markdown",
   "metadata": {},
   "source": [
    "# Model Building using GradientBoostingClassfier"
   ]
  },
  {
   "cell_type": "code",
   "execution_count": 111,
   "metadata": {},
   "outputs": [],
   "source": [
    "from sklearn.ensemble import GradientBoostingClassifier\n",
    "classifier = GradientBoostingClassifier(n_estimators=100)\n",
    "\n",
    "pipeline = Pipeline([\n",
    "    ('clf', classifier),\n",
    "])"
   ]
  },
  {
   "cell_type": "code",
   "execution_count": 112,
   "metadata": {},
   "outputs": [],
   "source": [
    "parameter_grid = {\n",
    "    'clf__max_features': [0.5, 1,2,3],\n",
    "    'clf__max_depth': [1,2,3,4,5,None],\n",
    "}"
   ]
  },
  {
   "cell_type": "code",
   "execution_count": 113,
   "metadata": {},
   "outputs": [
    {
     "name": "stdout",
     "output_type": "stream",
     "text": [
      "Fitting 5 folds for each of 24 candidates, totalling 120 fits\n",
      "[CV] clf__max_depth=1, clf__max_features=0.5 .........................\n",
      "[CV]  clf__max_depth=1, clf__max_features=0.5, score=0.7623762376237624, total=   0.0s\n",
      "[CV] clf__max_depth=1, clf__max_features=0.5 .........................\n",
      "[CV]  clf__max_depth=1, clf__max_features=0.5, score=0.7373737373737373, total=   0.0s\n",
      "[CV] clf__max_depth=1, clf__max_features=0.5 .........................\n",
      "[CV]  clf__max_depth=1, clf__max_features=0.5, score=0.7878787878787878, total=   0.0s\n",
      "[CV] clf__max_depth=1, clf__max_features=0.5 .........................\n"
     ]
    },
    {
     "name": "stderr",
     "output_type": "stream",
     "text": [
      "[Parallel(n_jobs=1)]: Using backend SequentialBackend with 1 concurrent workers.\n",
      "[Parallel(n_jobs=1)]: Done   1 out of   1 | elapsed:    0.0s remaining:    0.0s\n",
      "[Parallel(n_jobs=1)]: Done   2 out of   2 | elapsed:    0.0s remaining:    0.0s\n"
     ]
    },
    {
     "name": "stdout",
     "output_type": "stream",
     "text": [
      "[CV]  clf__max_depth=1, clf__max_features=0.5, score=0.7575757575757576, total=   0.0s\n",
      "[CV] clf__max_depth=1, clf__max_features=0.5 .........................\n",
      "[CV]  clf__max_depth=1, clf__max_features=0.5, score=0.7272727272727273, total=   0.0s\n",
      "[CV] clf__max_depth=1, clf__max_features=1 ...........................\n",
      "[CV]  clf__max_depth=1, clf__max_features=1, score=0.7326732673267327, total=   0.0s\n",
      "[CV] clf__max_depth=1, clf__max_features=1 ...........................\n",
      "[CV]  clf__max_depth=1, clf__max_features=1, score=0.7373737373737373, total=   0.0s\n",
      "[CV] clf__max_depth=1, clf__max_features=1 ...........................\n",
      "[CV]  clf__max_depth=1, clf__max_features=1, score=0.7474747474747475, total=   0.0s\n",
      "[CV] clf__max_depth=1, clf__max_features=1 ...........................\n",
      "[CV]  clf__max_depth=1, clf__max_features=1, score=0.7373737373737373, total=   0.0s\n",
      "[CV] clf__max_depth=1, clf__max_features=1 ...........................\n",
      "[CV]  clf__max_depth=1, clf__max_features=1, score=0.6464646464646465, total=   0.0s\n",
      "[CV] clf__max_depth=1, clf__max_features=2 ...........................\n",
      "[CV]  clf__max_depth=1, clf__max_features=2, score=0.6831683168316832, total=   0.0s\n",
      "[CV] clf__max_depth=1, clf__max_features=2 ...........................\n",
      "[CV]  clf__max_depth=1, clf__max_features=2, score=0.7272727272727273, total=   0.0s\n",
      "[CV] clf__max_depth=1, clf__max_features=2 ...........................\n",
      "[CV]  clf__max_depth=1, clf__max_features=2, score=0.797979797979798, total=   0.0s\n",
      "[CV] clf__max_depth=1, clf__max_features=2 ...........................\n",
      "[CV]  clf__max_depth=1, clf__max_features=2, score=0.7575757575757576, total=   0.0s\n",
      "[CV] clf__max_depth=1, clf__max_features=2 ...........................\n",
      "[CV]  clf__max_depth=1, clf__max_features=2, score=0.6666666666666666, total=   0.0s\n",
      "[CV] clf__max_depth=1, clf__max_features=3 ...........................\n",
      "[CV]  clf__max_depth=1, clf__max_features=3, score=0.7623762376237624, total=   0.0s\n",
      "[CV] clf__max_depth=1, clf__max_features=3 ...........................\n",
      "[CV]  clf__max_depth=1, clf__max_features=3, score=0.6363636363636364, total=   0.0s\n",
      "[CV] clf__max_depth=1, clf__max_features=3 ...........................\n",
      "[CV]  clf__max_depth=1, clf__max_features=3, score=0.7474747474747475, total=   0.0s\n",
      "[CV] clf__max_depth=1, clf__max_features=3 ...........................\n",
      "[CV]  clf__max_depth=1, clf__max_features=3, score=0.6868686868686869, total=   0.0s\n",
      "[CV] clf__max_depth=1, clf__max_features=3 ...........................\n",
      "[CV]  clf__max_depth=1, clf__max_features=3, score=0.6666666666666666, total=   0.0s\n",
      "[CV] clf__max_depth=2, clf__max_features=0.5 .........................\n",
      "[CV]  clf__max_depth=2, clf__max_features=0.5, score=0.8217821782178217, total=   0.0s\n",
      "[CV] clf__max_depth=2, clf__max_features=0.5 .........................\n",
      "[CV]  clf__max_depth=2, clf__max_features=0.5, score=0.7676767676767676, total=   0.0s\n",
      "[CV] clf__max_depth=2, clf__max_features=0.5 .........................\n",
      "[CV]  clf__max_depth=2, clf__max_features=0.5, score=0.8282828282828283, total=   0.0s\n",
      "[CV] clf__max_depth=2, clf__max_features=0.5 .........................\n",
      "[CV]  clf__max_depth=2, clf__max_features=0.5, score=0.7878787878787878, total=   0.0s\n",
      "[CV] clf__max_depth=2, clf__max_features=0.5 .........................\n",
      "[CV]  clf__max_depth=2, clf__max_features=0.5, score=0.7878787878787878, total=   0.0s\n",
      "[CV] clf__max_depth=2, clf__max_features=1 ...........................\n",
      "[CV]  clf__max_depth=2, clf__max_features=1, score=0.7326732673267327, total=   0.0s\n",
      "[CV] clf__max_depth=2, clf__max_features=1 ...........................\n",
      "[CV]  clf__max_depth=2, clf__max_features=1, score=0.7373737373737373, total=   0.0s\n",
      "[CV] clf__max_depth=2, clf__max_features=1 ...........................\n",
      "[CV]  clf__max_depth=2, clf__max_features=1, score=0.7575757575757576, total=   0.0s\n",
      "[CV] clf__max_depth=2, clf__max_features=1 ...........................\n",
      "[CV]  clf__max_depth=2, clf__max_features=1, score=0.7575757575757576, total=   0.0s\n",
      "[CV] clf__max_depth=2, clf__max_features=1 ...........................\n",
      "[CV]  clf__max_depth=2, clf__max_features=1, score=0.7474747474747475, total=   0.0s\n",
      "[CV] clf__max_depth=2, clf__max_features=2 ...........................\n",
      "[CV]  clf__max_depth=2, clf__max_features=2, score=0.7425742574257426, total=   0.0s\n",
      "[CV] clf__max_depth=2, clf__max_features=2 ...........................\n",
      "[CV]  clf__max_depth=2, clf__max_features=2, score=0.7373737373737373, total=   0.0s\n",
      "[CV] clf__max_depth=2, clf__max_features=2 ...........................\n",
      "[CV]  clf__max_depth=2, clf__max_features=2, score=0.797979797979798, total=   0.0s\n",
      "[CV] clf__max_depth=2, clf__max_features=2 ...........................\n",
      "[CV]  clf__max_depth=2, clf__max_features=2, score=0.7474747474747475, total=   0.0s\n",
      "[CV] clf__max_depth=2, clf__max_features=2 ...........................\n",
      "[CV]  clf__max_depth=2, clf__max_features=2, score=0.7070707070707071, total=   0.0s\n",
      "[CV] clf__max_depth=2, clf__max_features=3 ...........................\n",
      "[CV]  clf__max_depth=2, clf__max_features=3, score=0.7821782178217822, total=   0.0s\n",
      "[CV] clf__max_depth=2, clf__max_features=3 ...........................\n",
      "[CV]  clf__max_depth=2, clf__max_features=3, score=0.7373737373737373, total=   0.0s\n",
      "[CV] clf__max_depth=2, clf__max_features=3 ...........................\n",
      "[CV]  clf__max_depth=2, clf__max_features=3, score=0.7878787878787878, total=   0.0s\n",
      "[CV] clf__max_depth=2, clf__max_features=3 ...........................\n",
      "[CV]  clf__max_depth=2, clf__max_features=3, score=0.7676767676767676, total=   0.0s\n",
      "[CV] clf__max_depth=2, clf__max_features=3 ...........................\n",
      "[CV]  clf__max_depth=2, clf__max_features=3, score=0.7575757575757576, total=   0.0s\n",
      "[CV] clf__max_depth=3, clf__max_features=0.5 .........................\n",
      "[CV]  clf__max_depth=3, clf__max_features=0.5, score=0.8712871287128713, total=   0.0s\n",
      "[CV] clf__max_depth=3, clf__max_features=0.5 .........................\n",
      "[CV]  clf__max_depth=3, clf__max_features=0.5, score=0.797979797979798, total=   0.0s\n",
      "[CV] clf__max_depth=3, clf__max_features=0.5 .........................\n",
      "[CV]  clf__max_depth=3, clf__max_features=0.5, score=0.8080808080808081, total=   0.0s\n",
      "[CV] clf__max_depth=3, clf__max_features=0.5 .........................\n",
      "[CV]  clf__max_depth=3, clf__max_features=0.5, score=0.8686868686868687, total=   0.0s\n",
      "[CV] clf__max_depth=3, clf__max_features=0.5 .........................\n",
      "[CV]  clf__max_depth=3, clf__max_features=0.5, score=0.8383838383838383, total=   0.0s\n",
      "[CV] clf__max_depth=3, clf__max_features=1 ...........................\n",
      "[CV]  clf__max_depth=3, clf__max_features=1, score=0.7920792079207921, total=   0.0s\n",
      "[CV] clf__max_depth=3, clf__max_features=1 ...........................\n",
      "[CV]  clf__max_depth=3, clf__max_features=1, score=0.7777777777777778, total=   0.0s\n",
      "[CV] clf__max_depth=3, clf__max_features=1 ...........................\n",
      "[CV]  clf__max_depth=3, clf__max_features=1, score=0.8282828282828283, total=   0.0s\n",
      "[CV] clf__max_depth=3, clf__max_features=1 ...........................\n",
      "[CV]  clf__max_depth=3, clf__max_features=1, score=0.797979797979798, total=   0.0s\n",
      "[CV] clf__max_depth=3, clf__max_features=1 ...........................\n",
      "[CV]  clf__max_depth=3, clf__max_features=1, score=0.7676767676767676, total=   0.0s\n",
      "[CV] clf__max_depth=3, clf__max_features=2 ...........................\n",
      "[CV]  clf__max_depth=3, clf__max_features=2, score=0.8118811881188119, total=   0.0s\n",
      "[CV] clf__max_depth=3, clf__max_features=2 ...........................\n",
      "[CV]  clf__max_depth=3, clf__max_features=2, score=0.7878787878787878, total=   0.0s\n",
      "[CV] clf__max_depth=3, clf__max_features=2 ...........................\n",
      "[CV]  clf__max_depth=3, clf__max_features=2, score=0.8181818181818182, total=   0.0s\n",
      "[CV] clf__max_depth=3, clf__max_features=2 ...........................\n",
      "[CV]  clf__max_depth=3, clf__max_features=2, score=0.797979797979798, total=   0.0s\n",
      "[CV] clf__max_depth=3, clf__max_features=2 ...........................\n",
      "[CV]  clf__max_depth=3, clf__max_features=2, score=0.7575757575757576, total=   0.0s\n",
      "[CV] clf__max_depth=3, clf__max_features=3 ...........................\n",
      "[CV]  clf__max_depth=3, clf__max_features=3, score=0.8415841584158416, total=   0.0s\n",
      "[CV] clf__max_depth=3, clf__max_features=3 ...........................\n"
     ]
    },
    {
     "name": "stdout",
     "output_type": "stream",
     "text": [
      "[CV]  clf__max_depth=3, clf__max_features=3, score=0.7878787878787878, total=   0.0s\n",
      "[CV] clf__max_depth=3, clf__max_features=3 ...........................\n",
      "[CV]  clf__max_depth=3, clf__max_features=3, score=0.8585858585858586, total=   0.0s\n",
      "[CV] clf__max_depth=3, clf__max_features=3 ...........................\n",
      "[CV]  clf__max_depth=3, clf__max_features=3, score=0.8585858585858586, total=   0.0s\n",
      "[CV] clf__max_depth=3, clf__max_features=3 ...........................\n",
      "[CV]  clf__max_depth=3, clf__max_features=3, score=0.8282828282828283, total=   0.0s\n",
      "[CV] clf__max_depth=4, clf__max_features=0.5 .........................\n",
      "[CV]  clf__max_depth=4, clf__max_features=0.5, score=0.8712871287128713, total=   0.0s\n",
      "[CV] clf__max_depth=4, clf__max_features=0.5 .........................\n",
      "[CV]  clf__max_depth=4, clf__max_features=0.5, score=0.8080808080808081, total=   0.0s\n",
      "[CV] clf__max_depth=4, clf__max_features=0.5 .........................\n",
      "[CV]  clf__max_depth=4, clf__max_features=0.5, score=0.8282828282828283, total=   0.0s\n",
      "[CV] clf__max_depth=4, clf__max_features=0.5 .........................\n",
      "[CV]  clf__max_depth=4, clf__max_features=0.5, score=0.8888888888888888, total=   0.0s\n",
      "[CV] clf__max_depth=4, clf__max_features=0.5 .........................\n",
      "[CV]  clf__max_depth=4, clf__max_features=0.5, score=0.8585858585858586, total=   0.0s\n",
      "[CV] clf__max_depth=4, clf__max_features=1 ...........................\n",
      "[CV]  clf__max_depth=4, clf__max_features=1, score=0.8217821782178217, total=   0.0s\n",
      "[CV] clf__max_depth=4, clf__max_features=1 ...........................\n",
      "[CV]  clf__max_depth=4, clf__max_features=1, score=0.8181818181818182, total=   0.0s\n",
      "[CV] clf__max_depth=4, clf__max_features=1 ...........................\n",
      "[CV]  clf__max_depth=4, clf__max_features=1, score=0.8686868686868687, total=   0.0s\n",
      "[CV] clf__max_depth=4, clf__max_features=1 ...........................\n",
      "[CV]  clf__max_depth=4, clf__max_features=1, score=0.8383838383838383, total=   0.0s\n",
      "[CV] clf__max_depth=4, clf__max_features=1 ...........................\n",
      "[CV]  clf__max_depth=4, clf__max_features=1, score=0.8181818181818182, total=   0.0s\n",
      "[CV] clf__max_depth=4, clf__max_features=2 ...........................\n",
      "[CV]  clf__max_depth=4, clf__max_features=2, score=0.8217821782178217, total=   0.0s\n",
      "[CV] clf__max_depth=4, clf__max_features=2 ...........................\n",
      "[CV]  clf__max_depth=4, clf__max_features=2, score=0.8383838383838383, total=   0.0s\n",
      "[CV] clf__max_depth=4, clf__max_features=2 ...........................\n",
      "[CV]  clf__max_depth=4, clf__max_features=2, score=0.8888888888888888, total=   0.0s\n",
      "[CV] clf__max_depth=4, clf__max_features=2 ...........................\n",
      "[CV]  clf__max_depth=4, clf__max_features=2, score=0.8383838383838383, total=   0.0s\n",
      "[CV] clf__max_depth=4, clf__max_features=2 ...........................\n",
      "[CV]  clf__max_depth=4, clf__max_features=2, score=0.8282828282828283, total=   0.0s\n",
      "[CV] clf__max_depth=4, clf__max_features=3 ...........................\n",
      "[CV]  clf__max_depth=4, clf__max_features=3, score=0.8613861386138614, total=   0.0s\n",
      "[CV] clf__max_depth=4, clf__max_features=3 ...........................\n",
      "[CV]  clf__max_depth=4, clf__max_features=3, score=0.8282828282828283, total=   0.0s\n",
      "[CV] clf__max_depth=4, clf__max_features=3 ...........................\n",
      "[CV]  clf__max_depth=4, clf__max_features=3, score=0.8484848484848485, total=   0.0s\n",
      "[CV] clf__max_depth=4, clf__max_features=3 ...........................\n",
      "[CV]  clf__max_depth=4, clf__max_features=3, score=0.8484848484848485, total=   0.0s\n",
      "[CV] clf__max_depth=4, clf__max_features=3 ...........................\n",
      "[CV]  clf__max_depth=4, clf__max_features=3, score=0.8282828282828283, total=   0.0s\n",
      "[CV] clf__max_depth=5, clf__max_features=0.5 .........................\n",
      "[CV]  clf__max_depth=5, clf__max_features=0.5, score=0.900990099009901, total=   0.0s\n",
      "[CV] clf__max_depth=5, clf__max_features=0.5 .........................\n",
      "[CV]  clf__max_depth=5, clf__max_features=0.5, score=0.8080808080808081, total=   0.1s\n",
      "[CV] clf__max_depth=5, clf__max_features=0.5 .........................\n",
      "[CV]  clf__max_depth=5, clf__max_features=0.5, score=0.8686868686868687, total=   0.0s\n",
      "[CV] clf__max_depth=5, clf__max_features=0.5 .........................\n",
      "[CV]  clf__max_depth=5, clf__max_features=0.5, score=0.8888888888888888, total=   0.0s\n",
      "[CV] clf__max_depth=5, clf__max_features=0.5 .........................\n",
      "[CV]  clf__max_depth=5, clf__max_features=0.5, score=0.8484848484848485, total=   0.0s\n",
      "[CV] clf__max_depth=5, clf__max_features=1 ...........................\n",
      "[CV]  clf__max_depth=5, clf__max_features=1, score=0.8415841584158416, total=   0.0s\n",
      "[CV] clf__max_depth=5, clf__max_features=1 ...........................\n",
      "[CV]  clf__max_depth=5, clf__max_features=1, score=0.8585858585858586, total=   0.0s\n",
      "[CV] clf__max_depth=5, clf__max_features=1 ...........................\n",
      "[CV]  clf__max_depth=5, clf__max_features=1, score=0.898989898989899, total=   0.0s\n",
      "[CV] clf__max_depth=5, clf__max_features=1 ...........................\n",
      "[CV]  clf__max_depth=5, clf__max_features=1, score=0.8181818181818182, total=   0.0s\n",
      "[CV] clf__max_depth=5, clf__max_features=1 ...........................\n",
      "[CV]  clf__max_depth=5, clf__max_features=1, score=0.8383838383838383, total=   0.0s\n",
      "[CV] clf__max_depth=5, clf__max_features=2 ...........................\n",
      "[CV]  clf__max_depth=5, clf__max_features=2, score=0.8514851485148515, total=   0.0s\n",
      "[CV] clf__max_depth=5, clf__max_features=2 ...........................\n",
      "[CV]  clf__max_depth=5, clf__max_features=2, score=0.8181818181818182, total=   0.0s\n",
      "[CV] clf__max_depth=5, clf__max_features=2 ...........................\n",
      "[CV]  clf__max_depth=5, clf__max_features=2, score=0.8585858585858586, total=   0.0s\n",
      "[CV] clf__max_depth=5, clf__max_features=2 ...........................\n",
      "[CV]  clf__max_depth=5, clf__max_features=2, score=0.8383838383838383, total=   0.0s\n",
      "[CV] clf__max_depth=5, clf__max_features=2 ...........................\n",
      "[CV]  clf__max_depth=5, clf__max_features=2, score=0.8484848484848485, total=   0.0s\n",
      "[CV] clf__max_depth=5, clf__max_features=3 ...........................\n",
      "[CV]  clf__max_depth=5, clf__max_features=3, score=0.8514851485148515, total=   0.0s\n",
      "[CV] clf__max_depth=5, clf__max_features=3 ...........................\n",
      "[CV]  clf__max_depth=5, clf__max_features=3, score=0.8383838383838383, total=   0.0s\n",
      "[CV] clf__max_depth=5, clf__max_features=3 ...........................\n",
      "[CV]  clf__max_depth=5, clf__max_features=3, score=0.8888888888888888, total=   0.0s\n",
      "[CV] clf__max_depth=5, clf__max_features=3 ...........................\n",
      "[CV]  clf__max_depth=5, clf__max_features=3, score=0.898989898989899, total=   0.0s\n",
      "[CV] clf__max_depth=5, clf__max_features=3 ...........................\n",
      "[CV]  clf__max_depth=5, clf__max_features=3, score=0.8787878787878788, total=   0.0s\n",
      "[CV] clf__max_depth=None, clf__max_features=0.5 ......................\n",
      "[CV]  clf__max_depth=None, clf__max_features=0.5, score=0.8514851485148515, total=   0.2s\n",
      "[CV] clf__max_depth=None, clf__max_features=0.5 ......................\n",
      "[CV]  clf__max_depth=None, clf__max_features=0.5, score=0.8282828282828283, total=   0.2s\n",
      "[CV] clf__max_depth=None, clf__max_features=0.5 ......................\n",
      "[CV]  clf__max_depth=None, clf__max_features=0.5, score=0.8686868686868687, total=   0.2s\n",
      "[CV] clf__max_depth=None, clf__max_features=0.5 ......................\n",
      "[CV]  clf__max_depth=None, clf__max_features=0.5, score=0.9191919191919192, total=   0.2s\n",
      "[CV] clf__max_depth=None, clf__max_features=0.5 ......................\n",
      "[CV]  clf__max_depth=None, clf__max_features=0.5, score=0.8585858585858586, total=   0.2s\n",
      "[CV] clf__max_depth=None, clf__max_features=1 ........................\n",
      "[CV]  clf__max_depth=None, clf__max_features=1, score=0.9207920792079208, total=   0.5s\n",
      "[CV] clf__max_depth=None, clf__max_features=1 ........................\n",
      "[CV]  clf__max_depth=None, clf__max_features=1, score=0.8888888888888888, total=   0.5s\n",
      "[CV] clf__max_depth=None, clf__max_features=1 ........................\n",
      "[CV]  clf__max_depth=None, clf__max_features=1, score=0.8888888888888888, total=   0.4s\n",
      "[CV] clf__max_depth=None, clf__max_features=1 ........................\n",
      "[CV]  clf__max_depth=None, clf__max_features=1, score=0.898989898989899, total=   0.4s\n",
      "[CV] clf__max_depth=None, clf__max_features=1 ........................\n"
     ]
    },
    {
     "name": "stdout",
     "output_type": "stream",
     "text": [
      "[CV]  clf__max_depth=None, clf__max_features=1, score=0.8787878787878788, total=   0.4s\n",
      "[CV] clf__max_depth=None, clf__max_features=2 ........................\n",
      "[CV]  clf__max_depth=None, clf__max_features=2, score=0.8910891089108911, total=   0.4s\n",
      "[CV] clf__max_depth=None, clf__max_features=2 ........................\n",
      "[CV]  clf__max_depth=None, clf__max_features=2, score=0.8787878787878788, total=   0.4s\n",
      "[CV] clf__max_depth=None, clf__max_features=2 ........................\n",
      "[CV]  clf__max_depth=None, clf__max_features=2, score=0.9292929292929293, total=   0.4s\n",
      "[CV] clf__max_depth=None, clf__max_features=2 ........................\n",
      "[CV]  clf__max_depth=None, clf__max_features=2, score=0.898989898989899, total=   0.5s\n",
      "[CV] clf__max_depth=None, clf__max_features=2 ........................\n",
      "[CV]  clf__max_depth=None, clf__max_features=2, score=0.8888888888888888, total=   0.4s\n",
      "[CV] clf__max_depth=None, clf__max_features=3 ........................\n",
      "[CV]  clf__max_depth=None, clf__max_features=3, score=0.9108910891089109, total=   0.5s\n",
      "[CV] clf__max_depth=None, clf__max_features=3 ........................\n",
      "[CV]  clf__max_depth=None, clf__max_features=3, score=0.8888888888888888, total=   0.4s\n",
      "[CV] clf__max_depth=None, clf__max_features=3 ........................\n",
      "[CV]  clf__max_depth=None, clf__max_features=3, score=0.9090909090909091, total=   0.3s\n",
      "[CV] clf__max_depth=None, clf__max_features=3 ........................\n",
      "[CV]  clf__max_depth=None, clf__max_features=3, score=0.9090909090909091, total=   0.3s\n",
      "[CV] clf__max_depth=None, clf__max_features=3 ........................\n",
      "[CV]  clf__max_depth=None, clf__max_features=3, score=0.898989898989899, total=   0.3s\n"
     ]
    },
    {
     "name": "stderr",
     "output_type": "stream",
     "text": [
      "[Parallel(n_jobs=1)]: Done 120 out of 120 | elapsed:   16.7s finished\n",
      "C:\\Users\\HP\\Anaconda3\\lib\\site-packages\\sklearn\\model_selection\\_search.py:841: DeprecationWarning: The default of the `iid` parameter will change from True to False in version 0.22 and will be removed in 0.24. This will change numeric results when test-set sizes are unequal.\n",
      "  DeprecationWarning)\n"
     ]
    },
    {
     "data": {
      "text/plain": [
       "GridSearchCV(cv=5, error_score='raise-deprecating',\n",
       "       estimator=Pipeline(memory=None,\n",
       "     steps=[('clf', GradientBoostingClassifier(criterion='friedman_mse', init=None,\n",
       "              learning_rate=0.1, loss='deviance', max_depth=3,\n",
       "              max_features=None, max_leaf_nodes=None,\n",
       "              min_impurity_decrease=0.0, min_impurity_split=None,\n",
       "              min_samples_leaf=1, min_...    subsample=1.0, tol=0.0001, validation_fraction=0.1,\n",
       "              verbose=0, warm_start=False))]),\n",
       "       fit_params=None, iid='warn', n_jobs=None,\n",
       "       param_grid={'clf__max_features': [0.5, 1, 2, 3], 'clf__max_depth': [1, 2, 3, 4, 5, None]},\n",
       "       pre_dispatch='2*n_jobs', refit=True, return_train_score='warn',\n",
       "       scoring=None, verbose=3)"
      ]
     },
     "execution_count": 113,
     "metadata": {},
     "output_type": "execute_result"
    }
   ],
   "source": [
    "grid_search = GridSearchCV(pipeline, parameter_grid, cv=5, verbose=3)\n",
    "grid_search.fit(X_train, y_train)"
   ]
  },
  {
   "cell_type": "code",
   "execution_count": 114,
   "metadata": {},
   "outputs": [
    {
     "data": {
      "text/plain": [
       "{'clf__max_depth': None, 'clf__max_features': 3}"
      ]
     },
     "execution_count": 114,
     "metadata": {},
     "output_type": "execute_result"
    }
   ],
   "source": [
    "sorted(grid_search.cv_results_.keys())\n",
    "grid_search.best_score_\n",
    "grid_search.best_params_"
   ]
  },
  {
   "cell_type": "code",
   "execution_count": 115,
   "metadata": {},
   "outputs": [
    {
     "name": "stdout",
     "output_type": "stream",
     "text": [
      "Accuracy of the GBM on train set: 1.000\n",
      "Accuracy of the GBM on test set: 0.936\n",
      "              precision    recall  f1-score   support\n",
      "\n",
      "           0       0.90      1.00      0.95        75\n",
      "           1       1.00      0.84      0.91        50\n",
      "\n",
      "   micro avg       0.94      0.94      0.94       125\n",
      "   macro avg       0.95      0.92      0.93       125\n",
      "weighted avg       0.94      0.94      0.93       125\n",
      "\n"
     ]
    },
    {
     "data": {
      "image/png": "[encoded data removed]",
      "text/plain": [
       "<Figure size 432x288 with 1 Axes>"
      ]
     },
     "metadata": {
      "needs_background": "light"
     },
     "output_type": "display_data"
    }
   ],
   "source": [
    "baseline = GradientBoostingClassifier(n_estimators=50,max_features=3,max_depth=None)\n",
    "baseline.fit(X_train,y_train)\n",
    "predictors=list(X_train)\n",
    "feat_imp = pd.Series(baseline.feature_importances_, predictors).sort_values(ascending=False)\n",
    "feat_imp.plot(kind='bar', title='Importance of Features')\n",
    "plt.ylabel('Feature Importance Score')\n",
    "print('Accuracy of the GBM on train set: {:.3f}'.format(baseline.score(X_train, y_train)))\n",
    "print('Accuracy of the GBM on test set: {:.3f}'.format(baseline.score(X_test, y_test)))\n",
    "pred=baseline.predict(X_test)\n",
    "print(classification_report(y_test, pred))"
   ]
  },
  {
   "cell_type": "code",
   "execution_count": 116,
   "metadata": {},
   "outputs": [
    {
     "data": {
      "text/plain": [
       "SelectFromModel(estimator=GradientBoostingClassifier(criterion='friedman_mse', init=None,\n",
       "              learning_rate=0.1, loss='deviance', max_depth=None,\n",
       "              max_features=2, max_leaf_nodes=None,\n",
       "              min_impurity_decrease=0.0, min_impurity_split=None,\n",
       "              min_samples_leaf=1, min_sampl...      subsample=1.0, tol=0.0001, validation_fraction=0.1,\n",
       "              verbose=0, warm_start=False),\n",
       "        max_features=None, norm_order=1, prefit=False, threshold=None)"
      ]
     },
     "execution_count": 116,
     "metadata": {},
     "output_type": "execute_result"
    }
   ],
   "source": [
    "model=SelectFromModel(GradientBoostingClassifier(n_estimators = 100,max_depth=None,max_features=2))\n",
    "model.fit(X_train, y_train)"
   ]
  },
  {
   "cell_type": "code",
   "execution_count": 117,
   "metadata": {},
   "outputs": [
    {
     "data": {
      "text/plain": [
       "array([ True,  True,  True,  True,  True,  True, False,  True,  True,\n",
       "        True, False, False, False,  True,  True, False, False, False,\n",
       "        True,  True,  True, False,  True,  True,  True, False, False,\n",
       "        True, False, False, False, False,  True, False, False, False,\n",
       "       False, False, False,  True, False, False,  True,  True,  True,\n",
       "       False, False, False, False, False,  True, False, False, False,\n",
       "       False, False, False, False, False, False, False,  True, False,\n",
       "       False, False, False, False, False, False, False, False])"
      ]
     },
     "execution_count": 117,
     "metadata": {},
     "output_type": "execute_result"
    }
   ],
   "source": [
    "model.get_support()"
   ]
  },
  {
   "cell_type": "code",
   "execution_count": 118,
   "metadata": {},
   "outputs": [
    {
     "data": {
      "text/plain": [
       "25"
      ]
     },
     "execution_count": 118,
     "metadata": {},
     "output_type": "execute_result"
    }
   ],
   "source": [
    "selected_feat= X_train.columns[(model.get_support())]\n",
    "len(selected_feat)"
   ]
  },
  {
   "cell_type": "code",
   "execution_count": 119,
   "metadata": {},
   "outputs": [
    {
     "name": "stdout",
     "output_type": "stream",
     "text": [
      "Index(['orderAmount', 'transactionFailed', 'paymentMethodRegistrationFailure',\n",
      "       'customer_mailing_sites', 'paymentMethodIssuer_0',\n",
      "       'paymentMethodIssuer_1', 'paymentMethodIssuer_3',\n",
      "       'paymentMethodIssuer_4', 'paymentMethodIssuer_5',\n",
      "       'paymentMethodIssuer_9', 'paymentMethodIssuer_10',\n",
      "       'paymentMethodProvider_3', 'paymentMethodProvider_4',\n",
      "       'paymentMethodProvider_5', 'paymentMethodProvider_7',\n",
      "       'paymentMethodProvider_8', 'paymentMethodProvider_9',\n",
      "       'paymentMethodType_2', 'Customer_state_0', 'Customer_state_7',\n",
      "       'Customer_state_10', 'Customer_state_11', 'Customer_state_12',\n",
      "       'Customer_state_18', 'ordershipping_state_10'],\n",
      "      dtype='object')\n"
     ]
    }
   ],
   "source": [
    "print(selected_feat)"
   ]
  },
  {
   "cell_type": "code",
   "execution_count": 120,
   "metadata": {},
   "outputs": [],
   "source": [
    "columns=['orderAmount', 'paymentMethodRegistrationFailure',\n",
    "       'customer_mailing_sites', 'paymentMethodIssuer_0',\n",
    "       'paymentMethodIssuer_1', 'paymentMethodIssuer_2',\n",
    "       'paymentMethodIssuer_3', 'paymentMethodIssuer_4',\n",
    "       'paymentMethodIssuer_5', 'paymentMethodIssuer_6',\n",
    "       'paymentMethodIssuer_8', 'paymentMethodIssuer_9',\n",
    "       'paymentMethodIssuer_10', 'paymentMethodProvider_2',\n",
    "       'paymentMethodProvider_4', 'paymentMethodProvider_5',\n",
    "       'paymentMethodProvider_7', 'paymentMethodProvider_8',\n",
    "       'paymentMethodProvider_9', 'paymentMethodType_2', 'paymentMethodType_3',\n",
    "       'Customer_state_0', 'Customer_state_7', 'Customer_state_12']\n",
    "x_train=X_train[columns]\n",
    "x_test=X_test[columns]"
   ]
  },
  {
   "cell_type": "code",
   "execution_count": 121,
   "metadata": {
    "scrolled": true
   },
   "outputs": [
    {
     "name": "stdout",
     "output_type": "stream",
     "text": [
      "Accuracy of the GBM on train set: 0.998\n",
      "Accuracy of the GBM on test set: 0.936\n",
      "              precision    recall  f1-score   support\n",
      "\n",
      "           0       0.92      0.97      0.95        75\n",
      "           1       0.96      0.88      0.92        50\n",
      "\n",
      "   micro avg       0.94      0.94      0.94       125\n",
      "   macro avg       0.94      0.93      0.93       125\n",
      "weighted avg       0.94      0.94      0.94       125\n",
      "\n"
     ]
    },
    {
     "data": {
      "image/png": "[encoded data removed]",
      "text/plain": [
       "<Figure size 432x288 with 1 Axes>"
      ]
     },
     "metadata": {
      "needs_background": "light"
     },
     "output_type": "display_data"
    }
   ],
   "source": [
    "baseline = GradientBoostingClassifier(n_estimators=100,max_features=2,max_depth=None)\n",
    "baseline.fit(x_train,y_train)\n",
    "predictors=list(x_train)\n",
    "feat_imp = pd.Series(baseline.feature_importances_, predictors).sort_values(ascending=False)\n",
    "feat_imp.plot(kind='bar', title='Importance of Features')\n",
    "plt.ylabel('Feature Importance Score')\n",
    "print('Accuracy of the GBM on train set: {:.3f}'.format(baseline.score(x_train, y_train)))\n",
    "print('Accuracy of the GBM on test set: {:.3f}'.format(baseline.score(x_test, y_test)))\n",
    "pred=baseline.predict(x_test)\n",
    "print(classification_report(y_test, pred))"
   ]
  },
  {
   "cell_type": "code",
   "execution_count": 122,
   "metadata": {},
   "outputs": [
    {
     "data": {
      "text/html": [
       "<div>\n",
       "<style scoped>\n",
       "    .dataframe tbody tr th:only-of-type {\n",
       "        vertical-align: middle;\n",
       "    }\n",
       "\n",
       "    .dataframe tbody tr th {\n",
       "        vertical-align: top;\n",
       "    }\n",
       "\n",
       "    .dataframe thead th {\n",
       "        text-align: right;\n",
       "    }\n",
       "</style>\n",
       "<table border=\"1\" class=\"dataframe\">\n",
       "  <thead>\n",
       "    <tr style=\"text-align: right;\">\n",
       "      <th>Predicted</th>\n",
       "      <th>0</th>\n",
       "      <th>1</th>\n",
       "    </tr>\n",
       "    <tr>\n",
       "      <th>Real data</th>\n",
       "      <th></th>\n",
       "      <th></th>\n",
       "    </tr>\n",
       "  </thead>\n",
       "  <tbody>\n",
       "    <tr>\n",
       "      <th>0</th>\n",
       "      <td>73</td>\n",
       "      <td>2</td>\n",
       "    </tr>\n",
       "    <tr>\n",
       "      <th>1</th>\n",
       "      <td>6</td>\n",
       "      <td>44</td>\n",
       "    </tr>\n",
       "  </tbody>\n",
       "</table>\n",
       "</div>"
      ],
      "text/plain": [
       "Predicted   0   1\n",
       "Real data        \n",
       "0          73   2\n",
       "1           6  44"
      ]
     },
     "execution_count": 122,
     "metadata": {},
     "output_type": "execute_result"
    }
   ],
   "source": [
    "pd.crosstab(y_test,pred, rownames=['Real data'], colnames=['Predicted'])"
   ]
  },
  {
   "cell_type": "markdown",
   "metadata": {},
   "source": [
    "#By Comparing two models Random Forest performed better"
   ]
  }
 ],
 "metadata": {
  "kernelspec": {
   "display_name": "Python 3",
   "language": "python",
   "name": "python3"
  },
  "language_info": {
   "codemirror_mode": {
    "name": "ipython",
    "version": 3
   },
   "file_extension": ".py",
   "mimetype": "text/x-python",
   "name": "python",
   "nbconvert_exporter": "python",
   "pygments_lexer": "ipython3",
   "version": "3.7.3"
  }
 },
 "nbformat": 4,
 "nbformat_minor": 2
}
